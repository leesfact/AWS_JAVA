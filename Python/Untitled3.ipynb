{
 "cells": [
  {
   "cell_type": "code",
   "execution_count": 2,
   "id": "91644b15",
   "metadata": {},
   "outputs": [],
   "source": [
    "import math\n",
    "def mean(num_list):\n",
    "    return (sum(num_list)/len(num_list))  \n",
    "\n",
    "def dev(num_list): #편차\n",
    "    m = mean(num_list)\n",
    "    return [x-m for x in num_list]\n",
    "    \n",
    "def var(num_list): # 분산\n",
    "    n = len(num_list)\n",
    "    d = dev(num_list)\n",
    "    return sum([x*x for x in d]) / (n-1)\n",
    "\n",
    "def stdev(num_list): #표준편차\n",
    "    return math.sqrt(var(num_list))   \n",
    "\n",
    "# 공분산\n",
    "def covar(list_1, list_2): #공분산\n",
    "    n = len(list_1)\n",
    "    list_1_dev = dev(list_1)\n",
    "    list_2_dev = dev(list_2)\n",
    "    \n",
    "    return sum(x * y for x, y in zip(list_1_dev,list_2_dev))/(n-1)\n",
    "\n",
    "# 상관도\n",
    "def corel(list_1, list_2): # 상관도 (-1 ~ 1)\n",
    "    return covar(list_1,list_2) / (stdev(list_1)*stdev(list_2))"
   ]
  },
  {
   "cell_type": "code",
   "execution_count": 4,
   "id": "19411d1a",
   "metadata": {},
   "outputs": [],
   "source": [
    "import requests\n",
    "link = requests.get('https://archive.ics.uci.edu/ml/machine-learning-databases/adult/adult.data')"
   ]
  },
  {
   "cell_type": "code",
   "execution_count": 38,
   "id": "fdba64c7",
   "metadata": {},
   "outputs": [],
   "source": [
    "#print(link.text)\n",
    "pass1 = link.text.split('\\n')\n",
    "#print(pass1[:10]) # ~10번째 까지 확인\n",
    "#print(pass1[0].split(',')[0]) #age\n",
    "#print(pass1[0].split(',')[10]) #cap_gain\n",
    "#print(pass1[0].split(',')[12]) # hours_per_week\n",
    "\n",
    "age_list = []\n",
    "cap_gain_list =  []\n",
    "hour_per_week_list = []\n",
    "\n",
    "for e in pass1:\n",
    "    try:\n",
    "        t = e.split(',')\n",
    "        if len(t) < 5:\n",
    "            continue\n",
    "        age_list.append(t[0])\n",
    "        cap_gain_list.append(t[10])\n",
    "        hour_per_week_list.append(t[12])\n",
    "    except:\n",
    "        print(e,type(e))\n"
   ]
  },
  {
   "cell_type": "code",
   "execution_count": 39,
   "id": "667258b2",
   "metadata": {},
   "outputs": [
    {
     "name": "stdout",
     "output_type": "stream",
     "text": [
      "32561\n",
      "32561\n",
      "32561\n"
     ]
    }
   ],
   "source": [
    "print(len(age_list))\n",
    "print(len(cap_gain_list))\n",
    "print(len(hour_per_week_list))"
   ]
  },
  {
   "cell_type": "code",
   "execution_count": 46,
   "id": "bf802e5d",
   "metadata": {},
   "outputs": [
    {
     "name": "stdout",
     "output_type": "stream",
     "text": [
      "[39, 50, 38, 53, 28, 37, 49, 52, 31, 42]\n",
      "[2174, 0, 0, 0, 0, 0, 0, 0, 14084, 5178]\n",
      "[40, 13, 40, 40, 40, 40, 16, 45, 50, 40]\n"
     ]
    }
   ],
   "source": [
    "print(age_list[:10])\n",
    "print(cap_gain_list[:10])\n",
    "print(hour_per_week_list[:10])\n",
    "age_list =[int(i) for i in age_list]\n",
    "cap_gain_list = [int(i) for i in cap_gain_list]\n",
    "hour_per_week_list = [int(i) for i in hour_per_week_list]\n"
   ]
  },
  {
   "cell_type": "code",
   "execution_count": 80,
   "id": "2f1d7da6",
   "metadata": {},
   "outputs": [
    {
     "name": "stdout",
     "output_type": "stream",
     "text": [
      "Hello, World, Fucking, \"Python\n",
      "ello orld ucking ython\n"
     ]
    }
   ],
   "source": [
    "str = \"Hello, World, Fucking, \\\"Python\"\n",
    "result = str\n",
    "for char in result:\n",
    "    if char in \"HWFP,\\\"\":\n",
    "        result = result.replace(char,'')\n",
    "print(str)\n",
    "print(result)"
   ]
  },
  {
   "cell_type": "code",
   "execution_count": 72,
   "id": "2ea562bb",
   "metadata": {},
   "outputs": [],
   "source": [
    "import requests\n",
    "link = requests.get('https://archive.ics.uci.edu/ml/machine-learning-databases/auto-mpg/auto-mpg.data')"
   ]
  },
  {
   "cell_type": "code",
   "execution_count": 81,
   "id": "84cb24d9",
   "metadata": {},
   "outputs": [
    {
     "ename": "TypeError",
     "evalue": "'in <string>' requires string as left operand, not list",
     "output_type": "error",
     "traceback": [
      "\u001b[1;31m---------------------------------------------------------------------------\u001b[0m",
      "\u001b[1;31mTypeError\u001b[0m                                 Traceback (most recent call last)",
      "Cell \u001b[1;32mIn[81], line 8\u001b[0m\n\u001b[0;32m      6\u001b[0m \u001b[38;5;66;03m#print(pass2)\u001b[39;00m\n\u001b[0;32m      7\u001b[0m \u001b[38;5;28;01mfor\u001b[39;00m v \u001b[38;5;129;01min\u001b[39;00m pass2:\n\u001b[1;32m----> 8\u001b[0m     \u001b[38;5;28;01mif\u001b[39;00m \u001b[43mv\u001b[49m\u001b[43m \u001b[49m\u001b[38;5;129;43;01min\u001b[39;49;00m\u001b[43m \u001b[49m\u001b[38;5;124;43m\"\u001b[39;49m\u001b[38;5;130;43;01m\\\"\u001b[39;49;00m\u001b[38;5;124;43m\"\u001b[39;49m:\n\u001b[0;32m      9\u001b[0m         pass2 \u001b[38;5;241m=\u001b[39m pass2\u001b[38;5;241m.\u001b[39mreplace(char,\u001b[38;5;124m'\u001b[39m\u001b[38;5;124m'\u001b[39m)\n\u001b[0;32m     10\u001b[0m \u001b[38;5;28mprint\u001b[39m(pass2)\n",
      "\u001b[1;31mTypeError\u001b[0m: 'in <string>' requires string as left operand, not list"
     ]
    }
   ],
   "source": [
    "pass1 = link.text.split('\\n')\n",
    "#print(pass1)\n",
    "pass2 = []\n",
    "for line in pass1:\n",
    "    pass2.append(line.split('\\t'))\n",
    "#print(pass2)\n",
    "for v in pass2:\n",
    "    if v in \"\\\"\":\n",
    "        pass2 = pass2.replace(char,'')\n",
    "print(pass2)\n",
    "    "
   ]
  }
 ],
 "metadata": {
  "kernelspec": {
   "display_name": "Python 3 (ipykernel)",
   "language": "python",
   "name": "python3"
  },
  "language_info": {
   "codemirror_mode": {
    "name": "ipython",
    "version": 3
   },
   "file_extension": ".py",
   "mimetype": "text/x-python",
   "name": "python",
   "nbconvert_exporter": "python",
   "pygments_lexer": "ipython3",
   "version": "3.10.9"
  }
 },
 "nbformat": 4,
 "nbformat_minor": 5
}
