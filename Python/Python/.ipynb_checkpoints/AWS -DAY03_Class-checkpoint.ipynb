{
 "cells": [
  {
   "cell_type": "code",
   "execution_count": 12,
   "id": "32317487",
   "metadata": {},
   "outputs": [
    {
     "name": "stdout",
     "output_type": "stream",
     "text": [
      "myclass: 10, abc\n",
      "<class '__main__.myclass'>\n",
      "50 abc\n"
     ]
    }
   ],
   "source": [
    "class myclass:\n",
    "    myvar1 = 10\n",
    "    myvar2 = 'abc'\n",
    "\n",
    "    def __init__(self, a = 0,b = 'aaa'):\n",
    "        self.myval1 = a\n",
    "        self.myval2 = b\n",
    "        \n",
    "    def mymethod1(self,n):\n",
    "        print(self.myvar1 * n,self.myvar2)\n",
    "        \n",
    "    def __str__(self):\n",
    "        return 'myclass: {}, {}'.format(self.myvar1 ,self.myvar2)\n",
    "   \n",
    "\n",
    "a = myclass(100,'def')\n",
    "print(a)\n",
    "print(type(a))\n",
    "a.mymethod1(5)\n"
   ]
  },
  {
   "cell_type": "code",
   "execution_count": 15,
   "id": "2cde1c40",
   "metadata": {},
   "outputs": [
    {
     "ename": "NameError",
     "evalue": "name 'myclass2' is not defined",
     "output_type": "error",
     "traceback": [
      "\u001b[1;31m---------------------------------------------------------------------------\u001b[0m",
      "\u001b[1;31mNameError\u001b[0m                                 Traceback (most recent call last)",
      "Cell \u001b[1;32mIn[15], line 1\u001b[0m\n\u001b[1;32m----> 1\u001b[0m \u001b[38;5;28;01mclass\u001b[39;00m \u001b[38;5;21;01mmyclass2\u001b[39;00m(myclass):\n\u001b[0;32m      2\u001b[0m     \u001b[38;5;28;01mdef\u001b[39;00m \u001b[38;5;21mmymethod1\u001b[39m(\u001b[38;5;28mself\u001b[39m, n):\n\u001b[0;32m      3\u001b[0m         \u001b[38;5;28mprint\u001b[39m(\u001b[38;5;124m'\u001b[39m\u001b[38;5;124mmyclass2 - mymethod\u001b[39m\u001b[38;5;124m'\u001b[39m,\u001b[38;5;28mself\u001b[39m\u001b[38;5;241m.\u001b[39mmyvar1\u001b[38;5;241m*\u001b[39mn)\n",
      "Cell \u001b[1;32mIn[15], line 7\u001b[0m, in \u001b[0;36mmyclass2\u001b[1;34m()\u001b[0m\n\u001b[0;32m      4\u001b[0m \u001b[38;5;28;01mdef\u001b[39;00m \u001b[38;5;21mmymethod2\u001b[39m(\u001b[38;5;28mself\u001b[39m):\n\u001b[0;32m      5\u001b[0m     \u001b[38;5;28mprint\u001b[39m(\u001b[38;5;124m'\u001b[39m\u001b[38;5;124mmyclass2 - mymethod2\u001b[39m\u001b[38;5;124m'\u001b[39m)\n\u001b[1;32m----> 7\u001b[0m b \u001b[38;5;241m=\u001b[39m \u001b[43mmyclass2\u001b[49m()\n\u001b[0;32m      8\u001b[0m b\u001b[38;5;241m.\u001b[39mmymethod1(\u001b[38;5;241m10\u001b[39m)\n\u001b[0;32m      9\u001b[0m b\u001b[38;5;241m.\u001b[39mmymethod2()\n",
      "\u001b[1;31mNameError\u001b[0m: name 'myclass2' is not defined"
     ]
    }
   ],
   "source": [
    "class myclass2(myclass):\n",
    "    def mymethod1(self, n):\n",
    "        print('myclass2 - mymethod',self.myvar1*n)\n",
    "    def mymethod2(self):\n",
    "        print('myclass2 - mymethod2')\n",
    "    \n",
    "    b = myclass2()\n",
    "    b.mymethod1(10)\n",
    "    b.mymethod2()"
   ]
  },
  {
   "cell_type": "code",
   "execution_count": 25,
   "id": "5e8a5aba",
   "metadata": {},
   "outputs": [
    {
     "name": "stdout",
     "output_type": "stream",
     "text": [
      "['a', 'b', 'c', 'd', 'e', 'f', 'c', 'g', 'h', 'i']\n"
     ]
    }
   ],
   "source": [
    "list_1 = list('abcdefcghi')\n",
    "#print(list_1)\n",
    "#list_1.remove('b')\n",
    "print(list_1)\n"
   ]
  },
  {
   "cell_type": "code",
   "execution_count": 40,
   "id": "b08c0a20",
   "metadata": {},
   "outputs": [
    {
     "name": "stdout",
     "output_type": "stream",
     "text": [
      "['a', 'b', 'd', 'e', 'f', 'g', 'h', 'i']\n"
     ]
    }
   ],
   "source": [
    "def list_remove_all(target_list,target_value):\n",
    "   while target_value in target_list:\n",
    "    target_list.remove(target_value)\n",
    "   return target_list\n",
    "\n",
    "def list_remove_all_v2(target_list,target_value):\n",
    "    while True:\n",
    "        try:\n",
    "            target_list.remove(target_value)\n",
    "        except:\n",
    "            return target_list\n",
    "\n",
    "ret_list = list_remove_all(list('abcdefcghi'),'c')\n",
    "print(ret_list)    # ['a', 'b', 'd', 'e', 'f', 'g', 'h', 'i'] "
   ]
  },
  {
   "cell_type": "code",
   "execution_count": 48,
   "id": "0605734d",
   "metadata": {},
   "outputs": [
    {
     "name": "stdout",
     "output_type": "stream",
     "text": [
      "['a', 'b', 'c', 'c', 'd', 'c', 1, 2]\n"
     ]
    },
    {
     "data": {
      "text/plain": [
       "['a', 'b', 'd', 1, 2]"
      ]
     },
     "execution_count": 48,
     "metadata": {},
     "output_type": "execute_result"
    }
   ],
   "source": [
    "class mylist(list):\n",
    "  def remove_all(self,target_value):\n",
    "     while target_value in self:\n",
    "        self.remove(target_value)\n",
    "     return self\n",
    "\n",
    "mylist_1 = mylist(list('abccdc'))\n",
    "mylist_1.append(1)\n",
    "mylist_1.append(2)\n",
    "print(mylist_1)\n",
    "mylist_1.remove_all('c')"
   ]
  },
  {
   "cell_type": "code",
   "execution_count": null,
   "id": "f89f149a",
   "metadata": {},
   "outputs": [],
   "source": []
  }
 ],
 "metadata": {
  "kernelspec": {
   "display_name": "Python 3 (ipykernel)",
   "language": "python",
   "name": "python3"
  },
  "language_info": {
   "codemirror_mode": {
    "name": "ipython",
    "version": 3
   },
   "file_extension": ".py",
   "mimetype": "text/x-python",
   "name": "python",
   "nbconvert_exporter": "python",
   "pygments_lexer": "ipython3",
   "version": "3.10.9"
  }
 },
 "nbformat": 4,
 "nbformat_minor": 5
}
