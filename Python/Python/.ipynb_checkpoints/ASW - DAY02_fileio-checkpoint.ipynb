{
 "cells": [
  {
   "cell_type": "code",
   "execution_count": 34,
   "id": "403a9d46",
   "metadata": {},
   "outputs": [],
   "source": [
    "#f = open('부산광역시_노인복지관 현황_20230101.csv')\n",
    "\n",
    "#f.close()\n",
    "\n",
    "data_list =[]\n",
    "with open('부산광역시_노인복지관 현황_20230101.csv',encoding ='cp949') as f:\n",
    "    for line in f:\n",
    "        #print(line,type(line))\n",
    "        #print(line.split(','))\n",
    "        data_list.append(line.split(','))\n",
    "        data_list = data_list[1:]\n",
    "\n",
    "        "
   ]
  },
  {
   "cell_type": "code",
   "execution_count": 37,
   "id": "4aa4f7fc",
   "metadata": {},
   "outputs": [],
   "source": [
    "for i in data_list:\n",
    "    address = i[2]\n",
    "    address_list = address.split()\n",
    "    print(address_list)"
   ]
  }
 ],
 "metadata": {
  "kernelspec": {
   "display_name": "Python 3 (ipykernel)",
   "language": "python",
   "name": "python3"
  },
  "language_info": {
   "codemirror_mode": {
    "name": "ipython",
    "version": 3
   },
   "file_extension": ".py",
   "mimetype": "text/x-python",
   "name": "python",
   "nbconvert_exporter": "python",
   "pygments_lexer": "ipython3",
   "version": "3.10.9"
  }
 },
 "nbformat": 4,
 "nbformat_minor": 5
}
