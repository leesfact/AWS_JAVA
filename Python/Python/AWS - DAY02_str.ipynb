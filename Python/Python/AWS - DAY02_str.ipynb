{
 "cells": [
  {
   "cell_type": "code",
   "execution_count": 2,
   "id": "fcde6fd1",
   "metadata": {},
   "outputs": [
    {
     "name": "stdout",
     "output_type": "stream",
     "text": [
      "abc\\defg\n"
     ]
    }
   ],
   "source": [
    "# 문자열\n",
    "\n",
    "s = 'abcdef'\n",
    "s = \"abc\\\\defg\"\n",
    "print(s)\n"
   ]
  },
  {
   "cell_type": "code",
   "execution_count": 1,
   "id": "2cbe2c98",
   "metadata": {},
   "outputs": [
    {
     "name": "stdout",
     "output_type": "stream",
     "text": [
      "head def tail 10\n"
     ]
    }
   ],
   "source": [
    "a = 10\n",
    "b = 'def'\n",
    "\n",
    "s= \"head {} tail {}\".format(b,a)\n",
    "print(s)\n"
   ]
  },
  {
   "cell_type": "code",
   "execution_count": 6,
   "id": "898239d0",
   "metadata": {},
   "outputs": [
    {
     "name": "stdout",
     "output_type": "stream",
     "text": [
      "Return the highest index in S where substring sub is found,such that sub is contained within S[start:end].\n",
      "['Return the highest index in S where substring sub is found', 'such that sub is contained within S[start:end].']\n"
     ]
    }
   ],
   "source": [
    "#s = 'abc'\n",
    "#s2 = '   abc'\n",
    "print(s.lstrip())\n",
    "s = 'Return the highest index in S where substring sub is found,such that sub is contained within S[start:end].'\n",
    "print(s.split(','))"
   ]
  }
 ],
 "metadata": {
  "kernelspec": {
   "display_name": "Python 3 (ipykernel)",
   "language": "python",
   "name": "python3"
  },
  "language_info": {
   "codemirror_mode": {
    "name": "ipython",
    "version": 3
   },
   "file_extension": ".py",
   "mimetype": "text/x-python",
   "name": "python",
   "nbconvert_exporter": "python",
   "pygments_lexer": "ipython3",
   "version": "3.10.9"
  }
 },
 "nbformat": 4,
 "nbformat_minor": 5
}
