{
 "cells": [
  {
   "cell_type": "code",
   "execution_count": 20,
   "id": "a35e3e52",
   "metadata": {},
   "outputs": [
    {
     "name": "stdout",
     "output_type": "stream",
     "text": [
      "[1, 6, 5, 3, 2, 4]\n"
     ]
    }
   ],
   "source": [
    "import random\n",
    "\n",
    "lista = [1,2,3,4,5,6]\n",
    "random.shuffle(lista)\n",
    "print(lista)\n"
   ]
  },
  {
   "cell_type": "code",
   "execution_count": 108,
   "id": "3ec25693",
   "metadata": {},
   "outputs": [
    {
     "name": "stdout",
     "output_type": "stream",
     "text": [
      "['clover', 'diamond', 'heart', 'spade']\n",
      "['Ace', '2', '3', '4', '5', '6', '7', '8', '9', '10', 'Jack', 'Queen', 'King']\n"
     ]
    }
   ],
   "source": [
    "suits = ['clover','diamond','heart','spade']\n",
    "#rank = ['Ace','2~10','Jack','Queen','King']\n",
    "rank = [str(i) for i in range(2,11)]\n",
    "rank = ['Ace'] + rank + ['Jack','Queen','King']\n",
    "print(suits)\n",
    "print(rank)"
   ]
  },
  {
   "cell_type": "code",
   "execution_count": 124,
   "id": "7e0ec517",
   "metadata": {},
   "outputs": [],
   "source": [
    "Deck = []                   # 'Clover - Ace', 'Clover-2',\n",
    "\n",
    "for s in suits :\n",
    "    for r in rank :\n",
    "        Deck.append(s + '-' + r)\n",
    "score_list = [i+1 for i in range(10)]\n",
    "score_list = score_list + [10]*3\n",
    "score_list = score_list*4\n",
    "score_dict = dict(zip(Deck, score_list))\n",
    "#print(score_dict)\n",
    "#print(Deck)    #key\n",
    "#print(score_list) #value\n",
    "def score_hand(hand):\n",
    "    score = 0\n",
    "    for card in hand:\n",
    "        score = score + score_dict[card]\n",
    "    return score"
   ]
  },
  {
   "cell_type": "code",
   "execution_count": 110,
   "id": "e510109b",
   "metadata": {},
   "outputs": [
    {
     "name": "stdout",
     "output_type": "stream",
     "text": [
      "['clover-Queen', 'clover-8', 'heart-Queen', 'spade-King', 'heart-Jack', 'clover-9', 'diamond-King', 'clover-3', 'heart-10', 'clover-6', 'diamond-5', 'spade-7', 'clover-4', 'spade-3', 'spade-6', 'diamond-7', 'clover-5', 'spade-10', 'diamond-Queen', 'spade-8', 'diamond-4', 'heart-2', 'heart-Ace', 'clover-7', 'clover-2', 'clover-Jack', 'diamond-2', 'clover-Ace', 'heart-8', 'diamond-3', 'heart-5', 'spade-Jack', 'heart-4', 'spade-9', 'diamond-Ace', 'spade-4', 'heart-7', 'heart-9', 'heart-3', 'clover-10', 'spade-Queen', 'diamond-10', 'diamond-Jack', 'spade-2', 'heart-King', 'diamond-6', 'diamond-9', 'diamond-8', 'heart-6', 'spade-5', 'spade-Ace', 'clover-King']\n"
     ]
    }
   ],
   "source": [
    "random.shuffle(Deck)\n",
    "print(Deck)"
   ]
  },
  {
   "cell_type": "code",
   "execution_count": 105,
   "id": "2403f633",
   "metadata": {},
   "outputs": [
    {
     "ename": "IndexError",
     "evalue": "pop from empty list",
     "output_type": "error",
     "traceback": [
      "\u001b[1;31m---------------------------------------------------------------------------\u001b[0m",
      "\u001b[1;31mIndexError\u001b[0m                                Traceback (most recent call last)",
      "Cell \u001b[1;32mIn[105], line 1\u001b[0m\n\u001b[1;32m----> 1\u001b[0m \u001b[43mDeck\u001b[49m\u001b[38;5;241;43m.\u001b[39;49m\u001b[43mpop\u001b[49m\u001b[43m(\u001b[49m\u001b[43m)\u001b[49m\n",
      "\u001b[1;31mIndexError\u001b[0m: pop from empty list"
     ]
    }
   ],
   "source": [
    "Deck.pop()"
   ]
  },
  {
   "cell_type": "code",
   "execution_count": 133,
   "id": "106a86a5",
   "metadata": {},
   "outputs": [
    {
     "name": "stdout",
     "output_type": "stream",
     "text": [
      "Game Start\n",
      "\n",
      "Dealer Hands\n",
      "['clover-3', 'heart-King'] 13\n",
      "\n",
      "Player hands\n",
      "['clover-6', 'clover-10'] 16\n",
      "Dead(1) or Stop(0):1\n",
      "['clover-6', 'clover-10', 'heart-Queen'] 26\n",
      "=== player victory ===\n"
     ]
    }
   ],
   "source": [
    "print('Game Start\\n')\n",
    "random.shuffle(Deck)\n",
    "print('Dealer Hands')\n",
    "dealer_hand = [Deck.pop() for _ in range(2)]\n",
    "print(dealer_hand,score_hand(dealer_hand))\n",
    "\n",
    "print('\\nPlayer hands')\n",
    "player_hand = [Deck.pop() for _ in range(2)]\n",
    "print(player_hand, score_hand(player_hand))  \n",
    "\n",
    "if score_hand(player_hand) < 21:\n",
    "    answer = int(input('Dead(1) or Stop(0):'))\n",
    "    if answer == 1:\n",
    "        player_hand.append(Deck.pop())\n",
    "        print(player_hand, score_hand(player_hand))  \n",
    "    \n",
    "    if score_hand(dealer_hand) > score_hand(player_hand) :\n",
    "        print('=== dealer victory ===')\n",
    "    if score_hand(dealer_hand) < score_hand(player_hand) :\n",
    "        print('=== player victory ===')\n",
    "    if score_hand(dealer_hand) == score_hand(player_hand) :\n",
    "        print('=== tie ===')\n",
    "    \n",
    "# 승부 표시"
   ]
  },
  {
   "cell_type": "code",
   "execution_count": null,
   "id": "47f50208",
   "metadata": {},
   "outputs": [],
   "source": []
  }
 ],
 "metadata": {
  "kernelspec": {
   "display_name": "Python 3 (ipykernel)",
   "language": "python",
   "name": "python3"
  },
  "language_info": {
   "codemirror_mode": {
    "name": "ipython",
    "version": 3
   },
   "file_extension": ".py",
   "mimetype": "text/x-python",
   "name": "python",
   "nbconvert_exporter": "python",
   "pygments_lexer": "ipython3",
   "version": "3.10.9"
  }
 },
 "nbformat": 4,
 "nbformat_minor": 5
}
