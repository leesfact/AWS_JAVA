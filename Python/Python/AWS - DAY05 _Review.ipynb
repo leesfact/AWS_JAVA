{
 "cells": [
  {
   "cell_type": "code",
   "execution_count": 36,
   "id": "f7035e71",
   "metadata": {},
   "outputs": [
    {
     "name": "stdout",
     "output_type": "stream",
     "text": [
      "10.5\n",
      "datatype:list\n"
     ]
    }
   ],
   "source": [
    "# int, float, bool,str\n",
    "# list, tuple (값을 반환,수정X), set(unique한 값), dictionary\n",
    "try:\n",
    "    #a = '10.5'\n",
    "    a = [20.5, '10.5']\n",
    "    for i in a:\n",
    "        int (i) \n",
    "except:\n",
    "    print(i)\n",
    "    \n",
    "a = [20.5, '10.5']    \n",
    "if isinstance(a,type([])):\n",
    "    print('datatype:list')\n",
    "elif isinstance(a,type('')):\n",
    "    print('datatype:str')\n"
   ]
  },
  {
   "cell_type": "code",
   "execution_count": 49,
   "id": "69466abf",
   "metadata": {},
   "outputs": [
    {
     "name": "stdout",
     "output_type": "stream",
     "text": [
      "{'x': 10, 'y': 20, 'z': 30}\n",
      "20\n",
      "10\n",
      "{'x': 10, 'y': 50, 'z': 30}\n",
      "{'x': 10, 'y': 50, 'z': 30, 'newkey': 1234}\n",
      "dict_keys(['x', 'y', 'z', 'newkey'])\n",
      "dict_values([10, 50, 30, 1234])\n",
      "dict_items([('x', 10), ('y', 50), ('z', 30), ('newkey', 1234)])\n",
      "x 10\n",
      "y 50\n",
      "z 30\n",
      "newkey 1234\n"
     ]
    }
   ],
   "source": [
    "# dictionary : key - value\n",
    "dict1 = {'a' : 1, 'b' : 2, 'c' : 3}\n",
    "key_list = list('xyz')\n",
    "value_list = [10, 20, 30]\n",
    "\n",
    "x = zip(key_list,value_list) # [('x',10),('y',20),('z',30)]\n",
    "dict2 = dict(x)\n",
    "print(dict2)\n",
    "\n",
    "print(dict2['y']) # key 값으로 조회 , 없는 키값을 넣으면 error\n",
    "print(dict2.get('x')) # 없는 키값 넣어도 null로 표시\n",
    "\n",
    "dict2['y'] = 50\n",
    "print(dict2)\n",
    "\n",
    "dict2['newkey'] =1234\n",
    "print(dict2)\n",
    "\n",
    "klist = dict2.keys()\n",
    "vlist = dict2.values()\n",
    "print(klist)\n",
    "print(vlist)\n",
    "print(dict2.items())\n",
    "\n",
    "for e in dict2: # key 값으로 반복\n",
    "    print(e,dict2[e])"
   ]
  },
  {
   "cell_type": "code",
   "execution_count": 8,
   "id": "a46f05db",
   "metadata": {},
   "outputs": [
    {
     "name": "stdout",
     "output_type": "stream",
     "text": [
      "False\n"
     ]
    }
   ],
   "source": [
    "#  if : - else :\n",
    "# if : - elif :  - else :\n",
    "if '':\n",
    "    print('True')\n",
    "else:\n",
    "    print('False') #0, 비어 있는 문자열 / list"
   ]
  },
  {
   "cell_type": "code",
   "execution_count": 11,
   "id": "0d78d8ea",
   "metadata": {},
   "outputs": [
    {
     "name": "stdout",
     "output_type": "stream",
     "text": [
      "0 a\n",
      "1 b\n",
      "2 c\n",
      "3 d\n",
      "4 e\n",
      "['a']\n"
     ]
    }
   ],
   "source": [
    "# for - range() /list ,enumerate()\n",
    "lista = list('abcde')\n",
    "for i, c in enumerate(lista):\n",
    "    print(i,c)\n",
    "# while - 조건\n",
    "\n",
    "while len(lista) > 1 :\n",
    "    lista.remove(lista[-1])\n",
    "print(lista)\n"
   ]
  },
  {
   "cell_type": "code",
   "execution_count": 24,
   "id": "60aa12f4",
   "metadata": {},
   "outputs": [
    {
     "name": "stdout",
     "output_type": "stream",
     "text": [
      "const\n",
      "========\n",
      "myclass2\n",
      "========\n",
      "dest\n"
     ]
    }
   ],
   "source": [
    "#함수, 클래스\n",
    "def myfunction1() :\n",
    "    print('myfunction1',n)\n",
    "    return n*5\n",
    "    \n",
    "class myclass:\n",
    "    def mymethod1(self):\n",
    "        print('mymethod1')\n",
    "        \n",
    "class myclass2(myclass):\n",
    "    def __init__(selt):\n",
    "        print('const')\n",
    "    def __del__(self):\n",
    "        print('dest')\n",
    "    def __str__(self):\n",
    "        return 'myclass2'\n",
    "\n",
    "x = myclass2()    #__init__const\n",
    "print('========') # __str__\n",
    "print(x)\n",
    "print('========') # __del__dst\n",
    "del x\n",
    "\n",
    "\n"
   ]
  },
  {
   "cell_type": "code",
   "execution_count": 30,
   "id": "578ee4ab",
   "metadata": {},
   "outputs": [],
   "source": [
    "#file read\n",
    "with open('lott.csv') as f:\n",
    "    for line in f:\n",
    "        pass\n",
    "        #print(line)\n",
    "#file write\n",
    "with open('test.txt','w') as f: # 'w' ; mode : 'w'rite / 'r'ead / 'b'inary\n",
    "    for i in range(3,10):       # 'wb' : write binary\n",
    "        f.write('test string{}\\n'.format(i))"
   ]
  },
  {
   "cell_type": "code",
   "execution_count": 34,
   "id": "2bd15f64",
   "metadata": {},
   "outputs": [
    {
     "name": "stdout",
     "output_type": "stream",
     "text": [
      "['a', 'b', 'c', 'd']\n"
     ]
    }
   ],
   "source": [
    "# package pickle.py \n",
    "# C:\\Users\\ITPS\\AppData\\Local\\Programs\\Python\\Python310\\Lib <---- \n",
    "\n",
    "import pickle\n",
    "\n",
    "lista = list('abcd')\n",
    "\n",
    "#write\n",
    "with open ('pickle_test.pickle','wb') as f:\n",
    "    pickle.dump(lista,f)\n",
    "    \n",
    "#read\n",
    "with open ('pickle_test.pickle','rb') as f:\n",
    "    listb = pickle.load(f)\n",
    "print(listb)\n",
    "    \n"
   ]
  }
 ],
 "metadata": {
  "kernelspec": {
   "display_name": "Python 3 (ipykernel)",
   "language": "python",
   "name": "python3"
  },
  "language_info": {
   "codemirror_mode": {
    "name": "ipython",
    "version": 3
   },
   "file_extension": ".py",
   "mimetype": "text/x-python",
   "name": "python",
   "nbconvert_exporter": "python",
   "pygments_lexer": "ipython3",
   "version": "3.10.9"
  }
 },
 "nbformat": 4,
 "nbformat_minor": 5
}
