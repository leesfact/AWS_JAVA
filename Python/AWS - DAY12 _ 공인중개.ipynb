{
 "cells": [
  {
   "cell_type": "code",
   "execution_count": 6,
   "id": "685ea813",
   "metadata": {},
   "outputs": [],
   "source": [
    "import numpy as np\n",
    "import math\n",
    "\n",
    "def my_split(s):\n",
    "    block_start = False\n",
    "    start_index = 0\n",
    "    ret_list=[]\n",
    "    for i, c in enumerate(s):\n",
    "        if block_start==False:\n",
    "            if c==',':\n",
    "                ret_list.append(s[start_index:i])\n",
    "                start_index=i+1\n",
    "            elif c=='\"':\n",
    "                block_start=True\n",
    "                start_index = i\n",
    "        else:\n",
    "            if c=='\"':\n",
    "                block_start=False\n",
    "    if s[-1]!=',':\n",
    "        ret_list.append(s[start_index:])\n",
    "    return ret_list\n",
    "\n",
    "def split_len(data_list):\n",
    "    len_list=[]\n",
    "    for e in data_list:\n",
    "        len_list.append(len(e))\n",
    "    print(set(len_list))\n",
    "    if len(set(len_list))>1:\n",
    "        for i in set(len_list):\n",
    "            print(i, len_list.count(i))"
   ]
  },
  {
   "cell_type": "code",
   "execution_count": 1,
   "id": "10ce17dc",
   "metadata": {},
   "outputs": [],
   "source": [
    "def fact(n):\n",
    "    ret = 1\n",
    "    while n>1:\n",
    "        ret *= n\n",
    "        n -= 1\n",
    "    return ret\n",
    "\n",
    "def fact_r(n):\n",
    "    if n==2:\n",
    "        return n\n",
    "    return fact_r(n-1)*n\n",
    "\n",
    "def perm_f(n, r):\n",
    "    return fact(n)/fact(n-r)\n",
    "\n",
    "def combi_f(n, r):\n",
    "    return fact(n)/(fact(n-r)*fact(r))\n",
    "\n",
    "def count_with_replacement_order(pool, sel_count):  # all\n",
    "    if sel_count == 1:\n",
    "        return len(pool), [[x] for x in pool]\n",
    "    a, b = count_with_replacement_order(pool, sel_count-1)\n",
    "    r = []\n",
    "    for x in pool:\n",
    "        for b_i in b:\n",
    "            r.append(b_i+[x])\n",
    "    return len(r), r    \n",
    "\n",
    "def perm_pool(pool, r):\n",
    "    if r == 1:\n",
    "        return len(pool), [[x] for x in pool]\n",
    "    ret = []\n",
    "    for x in pool:\n",
    "        pool_copy = [y for y in pool]\n",
    "        pool_copy.remove(x)\n",
    "        a, b = perm_pool(pool_copy, r-1)\n",
    "        for b_i in b:\n",
    "            ret.append(b_i+[x])\n",
    "    return len(ret), ret\n",
    "\n",
    "def combi_pool(pool, r):\n",
    "    a , b = perm_pool(pool, r)\n",
    "    r = []\n",
    "    for b_i in b:\n",
    "        r.append(set(b_i))\n",
    "    f = []\n",
    "    for r_i in r:\n",
    "        f.append(r_i)\n",
    "        while r_i in r:\n",
    "            r.remove(r_i)\n",
    "    if r:\n",
    "        f.append(r[0])\n",
    "    return len(f), f"
   ]
  },
  {
   "cell_type": "code",
   "execution_count": 16,
   "id": "5e1c0ef2",
   "metadata": {},
   "outputs": [
    {
     "name": "stdout",
     "output_type": "stream",
     "text": [
      "[['중개사무소명', '개설등록번호', '개업공인중개사종별구분', '소재지도로명주소', '소재지지번주소', '전화번호', '개설등록일자', '공제가입유무', '대표자명', '위도', '경도', '중개보조원수', '소속공인중개사수', '홈페이지주소', '데이터기준일자', '제공기관코드', '제공기관명'], ['제일공인중개사사무소', '26710-2015-00005', '공인중개사', '부산광역시 기장군 정관읍 구연로 26', '', '', '2015-01-07', 'Y', '송미경', '', '', '', '', '', '2022-11-25', '3400000', '부산광역시 기장군'], ['늘채움부동산공인중개사사무소', '26710-2015-00013', '공인중개사', '\"부산광역시 기장군 기장읍 차성남로 91, 1층 일부\"', '', '', '2015-01-21', 'Y', '강경미', '', '', '', '', '', '2022-11-25', '3400000', '부산광역시 기장군'], ['해부동산공인중개사사무소', '26710-2015-00014', '공인중개사', '부산광역시 기장군 기장읍 당사로3길 26', '', '', '2015-01-22', 'Y', '김종태', '', '', '', '', '', '2022-11-25', '3400000', '부산광역시 기장군'], ['동부산오시리아명성부동산공인중개사사무소', '26710-2015-00020', '공인중개사', '\"부산광역시 기장군 기장읍 기장해안로 136, 109호(모닝시티)\"', '', '', '2015-02-05', 'Y', '이연수', '', '', '', '', '', '2022-11-25', '3400000', '부산광역시 기장군'], ['OK부동산공인중개사사무소', '26710-2015-00039', '공인중개사', '부산광역시 기장군 일광면 일광로 48', '', '', '2015-05-11', 'Y', '전병운', '', '', '', '', '', '2022-11-25', '3400000', '부산광역시 기장군'], ['신태양공인중개사사무소', '26710-2015-00040', '공인중개사', '부산광역시 기장군 일광읍 이화로 163', '', '', '2014-11-28', 'Y', '김영호', '', '', '', '', '', '2022-11-25', '3400000', '부산광역시 기장군'], ['롯데황금공인중개사사무소', '26710-2015-00041', '공인중개사', '부산광역시 기장군 정관읍 정관3로 51', '', '', '2015-05-19', 'Y', '임은숙', '', '', '', '', '', '2022-11-25', '3400000', '부산광역시 기장군'], ['삼보공인중개사사무소', '26710-2015-00045', '공인중개사', '\"부산광역시 기장군 정관읍 구연방곡로 89, 101호\"', '', '', '2012-02-16', 'Y', '김성곤', '', '', '', '', '', '2022-11-25', '3400000', '부산광역시 기장군'], ['알뜰부동산공인중개사사무소', '26710-2015-00052', '공인중개사', '부산광역시 기장군 장안읍 장안로 74', '', '', '2015-06-17', 'Y', '주수길', '', '', '', '', '', '2022-11-25', '3400000', '부산광역시 기장군']]\n",
      "{17}\n"
     ]
    }
   ],
   "source": [
    "csv_data = []\n",
    "with open('전국공인중개사사무소표준데이터.csv') as f:\n",
    "    for line in f:\n",
    "        csv_data.append(my_split(line[:-1]))\n",
    "print(csv_data[:10])\n",
    "split_len(csv_data)"
   ]
  },
  {
   "cell_type": "code",
   "execution_count": 11,
   "id": "8bad159d",
   "metadata": {},
   "outputs": [
    {
     "name": "stdout",
     "output_type": "stream",
     "text": [
      "(0, '중개사무소명')\n",
      "(1, '개설등록번호')\n",
      "(2, '개업공인중개사종별구분')\n",
      "(3, '소재지도로명주소')\n",
      "(4, '소재지지번주소')\n",
      "(5, '전화번호')\n",
      "(6, '개설등록일자')\n",
      "(7, '공제가입유무')\n",
      "(8, '대표자명')\n",
      "(9, '위도')\n",
      "(10, '경도')\n",
      "(11, '중개보조원수')\n",
      "(12, '소속공인중개사수')\n",
      "(13, '홈페이지주소')\n",
      "(14, '데이터기준일자')\n",
      "(15, '제공기관코드')\n",
      "(16, '제공기관명')\n"
     ]
    }
   ],
   "source": [
    "for e in enumerate(csv_data[0]):\n",
    "    print(e)  # 0,2,7 index 외 다 버려"
   ]
  },
  {
   "cell_type": "code",
   "execution_count": 56,
   "id": "15562175",
   "metadata": {},
   "outputs": [
    {
     "name": "stdout",
     "output_type": "stream",
     "text": [
      "[['제일공인중개사사무소', '공인중개사', 'Y'], ['늘채움부동산공인중개사사무소', '공인중개사', 'Y'], ['해부동산공인중개사사무소', '공인중개사', 'Y'], ['동부산오시리아명성부동산공인중개사사무소', '공인중개사', 'Y'], ['OK부동산공인중개사사무소', '공인중개사', 'Y'], ['신태양공인중개사사무소', '공인중개사', 'Y'], ['롯데황금공인중개사사무소', '공인중개사', 'Y'], ['삼보공인중개사사무소', '공인중개사', 'Y'], ['알뜰부동산공인중개사사무소', '공인중개사', 'Y'], ['드림공인중개사사무소', '공인중개사', 'Y']]\n"
     ]
    }
   ],
   "source": [
    "p1 = []\n",
    "for e in csv_data[1:]:\n",
    "    y = e[0].split()\n",
    "    y.append(e[2])\n",
    "    y.append(e[7])\n",
    "    p1.append(y)\n",
    "print(p1[:10])\n",
    "\n",
    "\n",
    "    "
   ]
  },
  {
   "cell_type": "code",
   "execution_count": 35,
   "id": "3b78fcec",
   "metadata": {},
   "outputs": [
    {
     "name": "stdout",
     "output_type": "stream",
     "text": [
      "[28629, 492, 5023]\n",
      "34144\n"
     ]
    }
   ],
   "source": [
    "# 문1)\n",
    "p2 = []\n",
    "countA = 0\n",
    "countB = 0\n",
    "countC = 0\n",
    "for e in p1:\n",
    "    if '공인중개사' in e[1]:\n",
    "        countA += 1\n",
    "    if '법인' in e[1]:\n",
    "        countB += 1\n",
    "    if '개업공인중개사' in e[1]:\n",
    "        countC += 1\n",
    "p2.append(countA)\n",
    "p2.append(countB)\n",
    "p2.append(countC)\n",
    "print(p2)\n",
    "print(p2[0]+p2[1]+p2[2])\n"
   ]
  },
  {
   "cell_type": "code",
   "execution_count": 46,
   "id": "eff590ae",
   "metadata": {},
   "outputs": [
    {
     "name": "stdout",
     "output_type": "stream",
     "text": [
      "[30, 28145]\n",
      "28175\n",
      "0.1064773735581189\n"
     ]
    }
   ],
   "source": [
    "#2\n",
    "p3 = []\n",
    "countA = 0\n",
    "countB = 0\n",
    "for e in p1:\n",
    "    if 'N' in e[2]:\n",
    "        countA += 1  # NO\n",
    "    if 'Y' in e[2]:\n",
    "        countB += 1  # Yes\n",
    "p3.append(countA)\n",
    "p3.append(countB)\n",
    "print(p3)\n",
    "print(p3[0]+p3[1])\n",
    "print(p3[0]/ (p3[0]+p3[1]) *100)"
   ]
  },
  {
   "cell_type": "code",
   "execution_count": 68,
   "id": "4c4a37aa",
   "metadata": {},
   "outputs": [
    {
     "ename": "ValueError",
     "evalue": "'공인중개사사무소' is not in list",
     "output_type": "error",
     "traceback": [
      "\u001b[1;31m---------------------------------------------------------------------------\u001b[0m",
      "\u001b[1;31mValueError\u001b[0m                                Traceback (most recent call last)",
      "Cell \u001b[1;32mIn[68], line 5\u001b[0m\n\u001b[0;32m      1\u001b[0m p4 \u001b[38;5;241m=\u001b[39m []\n\u001b[0;32m      4\u001b[0m \u001b[38;5;28;01mfor\u001b[39;00m e \u001b[38;5;129;01min\u001b[39;00m p1:\n\u001b[1;32m----> 5\u001b[0m     p4 \u001b[38;5;241m=\u001b[39m p4[:\u001b[43me\u001b[49m\u001b[38;5;241;43m.\u001b[39;49m\u001b[43mindex\u001b[49m\u001b[43m(\u001b[49m\u001b[38;5;124;43m'\u001b[39;49m\u001b[38;5;124;43m공인중개사사무소\u001b[39;49m\u001b[38;5;124;43m'\u001b[39;49m\u001b[43m)\u001b[49m]\n\u001b[0;32m      7\u001b[0m \u001b[38;5;28mprint\u001b[39m(p4[:\u001b[38;5;241m10\u001b[39m])\n",
      "\u001b[1;31mValueError\u001b[0m: '공인중개사사무소' is not in list"
     ]
    }
   ],
   "source": [
    "p4 = []\n",
    "\n",
    "\n",
    "for e in p1:\n",
    "    p4 = p4[:e.index('공인중개사사무소')]\n",
    "    \n",
    "print(p4[:10])\n",
    "\n",
    "\n",
    "\n",
    "\n"
   ]
  },
  {
   "cell_type": "code",
   "execution_count": null,
   "id": "22a826d9",
   "metadata": {},
   "outputs": [],
   "source": [
    "#s = 'abc공인중개사사무소'\n",
    "#s - '공인중개사사무소'\n",
    "#s.index('공인중개사사무소')\n",
    "#s[:3]\n",
    "#s[:s.index('공인중개사')]"
   ]
  }
 ],
 "metadata": {
  "kernelspec": {
   "display_name": "Python 3 (ipykernel)",
   "language": "python",
   "name": "python3"
  },
  "language_info": {
   "codemirror_mode": {
    "name": "ipython",
    "version": 3
   },
   "file_extension": ".py",
   "mimetype": "text/x-python",
   "name": "python",
   "nbconvert_exporter": "python",
   "pygments_lexer": "ipython3",
   "version": "3.10.9"
  }
 },
 "nbformat": 4,
 "nbformat_minor": 5
}
