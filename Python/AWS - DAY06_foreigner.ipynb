{
 "cells": [
  {
   "cell_type": "code",
   "execution_count": 111,
   "id": "8d3decad",
   "metadata": {},
   "outputs": [],
   "source": [
    "import pickle\n",
    "\n",
    "csv_data = []\n",
    "line_no = 0\n",
    "with open('국적별_외국인_현황_20230207163251.csv') as f:\n",
    "     for line in f:\n",
    "         line_no = line_no + 1\n",
    "         if line_no == 2:\n",
    "                continue\n",
    "         t = line[:-1].split(',') #\n",
    "         del t[1]\n",
    "         csv_data.append(t)\n",
    "          # INDEX 1번은 날려도 되겠다.\n",
    "\n",
    "for e in csv_data:\n",
    "    e[0] = e[0].strip('\"')\n",
    "    \n",
    "for e in csv_data[1:]:\n",
    "    for i, value in enumerate(e[1:]):\n",
    "        e[i+1] = int(value)\n",
    "#print(csv_data)\n",
    "\n",
    "\n",
    "with open('2020_10-2022_11.pickle','wb') as f:  #write binary\n",
    "    pickle.dump(csv_data,f)\n"
   ]
  },
  {
   "cell_type": "code",
   "execution_count": 104,
   "id": "068aa63d",
   "metadata": {
    "scrolled": true
   },
   "outputs": [
    {
     "name": "stdout",
     "output_type": "stream",
     "text": [
      "{'베트남': 11232, '중국': 6897, '한국계 중국인': 4364, '인도네시아': 3047, '미국': 2961, '우즈베키스탄': 2006, '필리핀': 1750, '일본': 1589, '미얀마': 1430, '타이완': 1356, '한국계 러시아인': 1149, '캄보디아': 1127, '러시아(연방)': 1041, '네팔': 995, '캐나다': 895, '타이': 628, '스리랑카': 626, '파키스탄': 615, '몽골': 581}\n",
      "{'베트남': 25.36069904490957, '중국': 15.572715572715573, '한국계 중국인': 9.853462485041433, '인도네시아': 6.879812142970038, '미국': 6.685633001422475, '우즈베키스탄': 4.529341371446635, '필리핀': 3.951319740793425, '일본': 3.58779832464043, '미얀마': 3.228792702476913, '타이완': 3.0617083248662196, '한국계 러시아인': 2.594323646955226, '캄보디아': 2.5446499130709657, '러시아(연방)': 2.350470771523403, '네팔': 2.2466075097654046, '캐나다': 2.0208178102914944, '타이': 1.4179593126961547, '스리랑카': 1.4134435187066765, '파키스탄': 1.3886066517645466, '몽골': 1.3118381539434172}\n"
     ]
    }
   ],
   "source": [
    "#print(csv_data[:10])\n",
    " \n",
    "def get_numbers(data_list,year,month):\n",
    "    for e in data_list:\n",
    "        if '{}.{}'.format(year,month) in e:\n",
    "            return e\n",
    "    return None\n",
    "count_list = get_numbers(csv_data,2022,11)\n",
    "count_list = count_list[1:]\n",
    "country_list = csv_data[0][1:]  \n",
    "#print(count_list, len(count_list))\n",
    "#print(country_list, len(country_list))\n",
    "\n",
    "#국적별 랭킹 %\n",
    "percent_list = []\n",
    "for n in count_list:\n",
    "    percent_list.append((n*100) / sum(count_list))\n",
    "#print(percent_list)\n",
    "\n",
    "count_dict = dict(sorted(zip(country_list,count_list),key = lambda x:x[1],reverse = True))\n",
    "percent_dict = dict(sorted(zip(country_list,percent_list),key = lambda x:x[1],reverse = True))\n",
    "print(count_dict)\n",
    "print(percent_dict)\n",
    "\n",
    "\n"
   ]
  },
  {
   "cell_type": "code",
   "execution_count": 112,
   "id": "c5b0347c",
   "metadata": {},
   "outputs": [
    {
     "name": "stdout",
     "output_type": "stream",
     "text": [
      "{'베트남': 11028.038461538461, '중국': 6954.961538461538, '한국계 중국인': 4627.807692307692, '미국': 2745.9615384615386, '인도네시아': 2616.5, '필리핀': 1668.7692307692307, '우즈베키스탄': 1655.7692307692307, '일본': 1430.7307692307693, '타이완': 1379.8076923076924, '미얀마': 1246.0, '한국계 러시아인': 1071.2307692307693, '캄보디아': 1069.1538461538462, '러시아(연방)': 993.1923076923077, '네팔': 930.1538461538462, '캐나다': 826.9230769230769, '타이': 597.6923076923077, '파키스탄': 583.6538461538462, '스리랑카': 578.5384615384615, '몽골': 512.6153846153846}\n"
     ]
    }
   ],
   "source": [
    "# 2년간 국적별 평균값 기준, 국적별 랭킹 및 %\n",
    "total_count  = [0]*len(country_list)\n",
    "\n",
    "for e in csv_data[1:]:\n",
    "    for i, n in enumerate(e[1:]): #index 1번부터 순환\n",
    "        total_count[i] = total_count[i] + n\n",
    "#print(total_count)\n",
    "\n",
    "for i , total in enumerate(total_count):\n",
    "    total_count[i] = total_count[i]/len(csv_data[1:])\n",
    "#print(total_count)\n",
    "\n",
    "#Ranking\n",
    "count_dict = dict(sorted(zip(country_list,total_count),key = lambda x:x[1],reverse = True))\n",
    "#percent_dict = dict(sorted(zip(country_list,percent_list),key = lambda x:x[1],reverse = True))\n",
    "print(count_dict)\n",
    "#print(percent_dict)\n",
    "\n"
   ]
  },
  {
   "cell_type": "code",
   "execution_count": 129,
   "id": "10d153fc",
   "metadata": {},
   "outputs": [
    {
     "name": "stdout",
     "output_type": "stream",
     "text": [
      "mystring\n"
     ]
    }
   ],
   "source": [
    "s = 'mystring\\n'\n",
    "print(s[:-1])\n",
    "#t = line[:-1].split(',')"
   ]
  },
  {
   "cell_type": "code",
   "execution_count": 130,
   "id": "c27eb66f",
   "metadata": {},
   "outputs": [
    {
     "name": "stdout",
     "output_type": "stream",
     "text": [
      "[45, 45, 45, 45, 45, 45, 45, 45, 45, 45, 45, 45, 45, 45, 45, 45, 45, 45, 45, 45, 45, 45, 45, 45, 45, 45, 45, 45, 45, 45, 45, 45, 45, 45, 45, 45, 45, 45, 45, 45, 45, 45, 45, 45, 45]\n"
     ]
    }
   ],
   "source": [
    "list_t = [45] *45\n",
    "print(list_t)"
   ]
  },
  {
   "cell_type": "code",
   "execution_count": 136,
   "id": "1029b911",
   "metadata": {},
   "outputs": [
    {
     "name": "stdout",
     "output_type": "stream",
     "text": [
      "['베트남', '중국', '한국계 중국인', '미국', '인도네시아', '필리핀', '우즈베키스탄', '타이완', '일본', '미얀마', '한국계 러시아인', '캄보디아', '러시아(연방)', '네팔', '캐나다', '스리랑카', '파키스탄', '타이', '몽골']\n"
     ]
    }
   ],
   "source": [
    "#csv_data 중 index[0] = header \n",
    "\n",
    "print(csv_data[0][1:]) # "
   ]
  }
 ],
 "metadata": {
  "kernelspec": {
   "display_name": "Python 3 (ipykernel)",
   "language": "python",
   "name": "python3"
  },
  "language_info": {
   "codemirror_mode": {
    "name": "ipython",
    "version": 3
   },
   "file_extension": ".py",
   "mimetype": "text/x-python",
   "name": "python",
   "nbconvert_exporter": "python",
   "pygments_lexer": "ipython3",
   "version": "3.10.9"
  }
 },
 "nbformat": 4,
 "nbformat_minor": 5
}
