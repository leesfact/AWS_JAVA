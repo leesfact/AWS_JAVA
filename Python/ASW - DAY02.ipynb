{
 "cells": [
  {
   "cell_type": "code",
   "execution_count": 7,
   "id": "4e40dfdc",
   "metadata": {},
   "outputs": [
    {
     "name": "stdout",
     "output_type": "stream",
     "text": [
      "myfunction\n"
     ]
    }
   ],
   "source": [
    "# 함수\n",
    "#define\n",
    "\n",
    "def function_name():\n",
    "    print('myfunction')\n",
    "\n",
    "\n",
    "function_name()\n"
   ]
  },
  {
   "cell_type": "code",
   "execution_count": 8,
   "id": "ff42dbd6",
   "metadata": {},
   "outputs": [
    {
     "name": "stdout",
     "output_type": "stream",
     "text": [
      "fn7 start\n",
      "abc def\n"
     ]
    }
   ],
   "source": [
    "# function arqumnet\n",
    "\n",
    "def myfn1():\n",
    "    print('myfn1')\n",
    "#myfn1()\n",
    "\n",
    "\n",
    "def myfn2(arg1):\n",
    "    print(arg1)\n",
    "#myfn2('abc')\n",
    "\n",
    "\n",
    "def myfn3(arg1 = 'a',arg2 = 'b'):\n",
    "    print(arg1,arg2)\n",
    "#myfn3('abc','def')\n",
    "#myfn3(arg2=10,arg1=20)\n",
    "#myfn3()\n",
    "\n",
    "\n",
    "\n",
    "def myfn4(*arg1):\n",
    "    for i in arg1:\n",
    "        print(i)\n",
    "#myfn4(1,2,3,4)\n",
    "#myfn2([1,2,3,4])\n",
    "\n",
    "\n",
    "def myfn5(arg1, *, arg2, arg3):  # * 뒤부터는 keyward argu\n",
    "    print(arg1,arg2,arg3)\n",
    "#myfn5('a',arg3 = 'c',arg2 = 'b')\n",
    "\n",
    "\n",
    "def myfn7(arg1, arg2):\n",
    "    print(arg1)\n",
    "    arg2('abc','def')\n",
    "myfn7('fn7 start',myfn3)\n"
   ]
  },
  {
   "cell_type": "code",
   "execution_count": 9,
   "id": "09152bc9",
   "metadata": {},
   "outputs": [
    {
     "name": "stdout",
     "output_type": "stream",
     "text": [
      "myfn8\n",
      "None\n"
     ]
    }
   ],
   "source": [
    "# function return\n",
    "\n",
    "def myfn8():\n",
    "    print('myfn8')\n",
    "    \n",
    "def myfn9():\n",
    "    return 10\n",
    "\n",
    "ret_value = myfn8()\n",
    "ret_value = myfn9()\n",
    "print(ret_value)"
   ]
  }
 ],
 "metadata": {
  "kernelspec": {
   "display_name": "Python 3 (ipykernel)",
   "language": "python",
   "name": "python3"
  },
  "language_info": {
   "codemirror_mode": {
    "name": "ipython",
    "version": 3
   },
   "file_extension": ".py",
   "mimetype": "text/x-python",
   "name": "python",
   "nbconvert_exporter": "python",
   "pygments_lexer": "ipython3",
   "version": "3.10.9"
  }
 },
 "nbformat": 4,
 "nbformat_minor": 5
}
