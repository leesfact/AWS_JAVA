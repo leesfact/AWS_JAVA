{
 "cells": [
  {
   "cell_type": "code",
   "execution_count": 7,
   "id": "3b91336d",
   "metadata": {},
   "outputs": [],
   "source": [
    "import numpy as np\n",
    "import math\n",
    "\n",
    "def my_split(s):\n",
    "    block_start = False\n",
    "    start_index = 0\n",
    "    ret_list=[]\n",
    "    for i, c in enumerate(s):\n",
    "        if block_start==False:\n",
    "            if c==',':\n",
    "                ret_list.append(s[start_index:i])\n",
    "                start_index=i+1\n",
    "            elif c=='\"':\n",
    "                block_start=True\n",
    "                start_index = i\n",
    "        else:\n",
    "            if c=='\"':\n",
    "                block_start=False\n",
    "    if s[-1]!=',':\n",
    "        ret_list.append(s[start_index:])\n",
    "    return ret_list\n",
    "\n",
    "def split_len(data_list):\n",
    "    len_list=[]\n",
    "    for e in data_list:\n",
    "        len_list.append(len(e))\n",
    "    print(set(len_list))\n",
    "    if len(set(len_list))>1:\n",
    "        for i in set(len_list):\n",
    "            print(i, len_list.count(i))\n"
   ]
  },
  {
   "cell_type": "markdown",
   "id": "939557a6",
   "metadata": {},
   "source": [
    "### 전국로컬푸드 인증정보표준데이터\n",
    "url : https://www.data.go.kr/data/15025455/standard.do\n",
    "\n",
    "- csv 파일 수동 다운로드하여 작업\n",
    "- ndarray 사용가능 (문자열 데이터 타입)\n",
    "- 인기 품목명 top 10 (품목별 카운트)\n",
    "     - 다중품목(+ 또는 , 로 연결) 은 각각 분리\n",
    "     - 이외 단일품목으로 취급\n",
    "     - 나머지는 알아서 . ex) 파(실파+대파) -> 파 또는 [실파,대파]\n",
    "- dictionary 작성 : {군단위 지역명: [품목명]}\n",
    "- dictionary 작성 : {품목: [군단위 지역명]}\n",
    "\n",
    "\n",
    "\n",
    "- jupyter note 업로드 : 이름_로컬푸드.ipynb"
   ]
  },
  {
   "cell_type": "code",
   "execution_count": 49,
   "id": "7407ff9f",
   "metadata": {
    "scrolled": false
   },
   "outputs": [
    {
     "name": "stdout",
     "output_type": "stream",
     "text": [
      "[]\n"
     ]
    }
   ],
   "source": [
    "csv_data = []\n",
    "with open('전국로컬푸드인증정보표준데이터.csv') as f:\n",
    "    for line in f:\n",
    "        #print(line)\n",
    "        csv_data.append(my_split(line))\n",
    "\n",
    "#print(csv_data[:3])\n",
    "        \n",
    "p1 = []\n",
    "for i in csv_data:\n",
    "    p1.append(i[1:])\n",
    "p1 = p1[1:]\n",
    "#print(p1[:3])\n",
    "\n",
    "p2 = []\n",
    "#print(p1[:3])\n",
    "for e in p1:\n",
    "    try:\n",
    "        y = e[:3].split()\n",
    "        y.append(e[7])\n",
    "        p2.append(y)\n",
    "    except:\n",
    "        pass\n",
    "print(p2[:3]) \n",
    "\n",
    "\n"
   ]
  },
  {
   "cell_type": "code",
   "execution_count": 48,
   "id": "02b4b92f",
   "metadata": {},
   "outputs": [
    {
     "name": "stdout",
     "output_type": "stream",
     "text": [
      "['경상남도', '함양군', '수동면', '산업단지길', '209+경상남도', '함양군', '수동면', '우명하교로', '174', '칡청+달맞이꽃씨유']\n"
     ]
    },
    {
     "data": {
      "text/plain": [
       "['경상남도', '함양군', '칡청+달맞이꽃씨유']"
      ]
     },
     "execution_count": 48,
     "metadata": {},
     "output_type": "execute_result"
    }
   ],
   "source": [
    "lista = ['경상남도', '함양군', '수동면', '산업단지길', '209+경상남도', '함양군', '수동면', '우명하교로', '174', '칡청+달맞이꽃씨유']\n",
    "print(lista)\n",
    "lista[:2] + [lista[-1]]\n",
    "\n",
    "#x = np.array(lista)\n",
    "#x[[0,1,-1]]"
   ]
  }
 ],
 "metadata": {
  "kernelspec": {
   "display_name": "Python 3 (ipykernel)",
   "language": "python",
   "name": "python3"
  },
  "language_info": {
   "codemirror_mode": {
    "name": "ipython",
    "version": 3
   },
   "file_extension": ".py",
   "mimetype": "text/x-python",
   "name": "python",
   "nbconvert_exporter": "python",
   "pygments_lexer": "ipython3",
   "version": "3.10.9"
  }
 },
 "nbformat": 4,
 "nbformat_minor": 5
}
