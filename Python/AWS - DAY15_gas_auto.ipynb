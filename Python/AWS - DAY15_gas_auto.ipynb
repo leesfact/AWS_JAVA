{
 "cells": [
  {
   "cell_type": "code",
   "execution_count": 3,
   "id": "9745138f",
   "metadata": {},
   "outputs": [],
   "source": [
    "import matplotlib.pyplot as plt\n",
    "import numpy as np\n",
    "from scipy import stats\n",
    "np.set_printoptions(precision=5,suppress=True)"
   ]
  },
  {
   "cell_type": "code",
   "execution_count": 2,
   "id": "42e1d013",
   "metadata": {},
   "outputs": [],
   "source": [
    "def read_data():\n",
    "        csv_data = []\n",
    "        with open('가스공급량_20230217170925.csv') as f:\n",
    "            for line in f:\n",
    "                csv_data.append(line[:-1].split(','))\n",
    "        np_data = np.array(csv_data[2:])\n",
    "        np_data = np_data[:, 2:].astype(np.int64)\n",
    "        return np_data\n",
    "    \n",
    "    \n",
    "def get_corr(np_data):\n",
    "    by_year = np.add.reduceat(np_data,np.arange(0,130,12)) \n",
    "    return np.corrcoef(by_year[:,1],by_year[:,3])"
   ]
  },
  {
   "cell_type": "code",
   "execution_count": 4,
   "id": "8170618d",
   "metadata": {},
   "outputs": [
    {
     "data": {
      "text/plain": [
       "array([[1.     , 0.53495],\n",
       "       [0.53495, 1.     ]])"
      ]
     },
     "execution_count": 4,
     "metadata": {},
     "output_type": "execute_result"
    }
   ],
   "source": [
    "d = read_data()\n",
    "get_corr(d)"
   ]
  }
 ],
 "metadata": {
  "kernelspec": {
   "display_name": "Python 3 (ipykernel)",
   "language": "python",
   "name": "python3"
  },
  "language_info": {
   "codemirror_mode": {
    "name": "ipython",
    "version": 3
   },
   "file_extension": ".py",
   "mimetype": "text/x-python",
   "name": "python",
   "nbconvert_exporter": "python",
   "pygments_lexer": "ipython3",
   "version": "3.10.9"
  }
 },
 "nbformat": 4,
 "nbformat_minor": 5
}
