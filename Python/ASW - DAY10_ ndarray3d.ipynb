{
 "cells": [
  {
   "cell_type": "code",
   "execution_count": 9,
   "id": "a086c5bd",
   "metadata": {},
   "outputs": [
    {
     "name": "stdout",
     "output_type": "stream",
     "text": [
      "[[[ 0  1]\n",
      "  [ 2  3]\n",
      "  [ 4  5]\n",
      "  [ 6  7]\n",
      "  [ 8  9]]\n",
      "\n",
      " [[10 11]\n",
      "  [12 13]\n",
      "  [14 15]\n",
      "  [16 17]\n",
      "  [18 19]]\n",
      "\n",
      " [[20 21]\n",
      "  [22 23]\n",
      "  [24 25]\n",
      "  [26 27]\n",
      "  [28 29]]] (3, 5, 2)\n"
     ]
    }
   ],
   "source": [
    "import numpy as np\n",
    "\n",
    "a1 = np.arange(30).reshape(3,5,2)\n",
    "print(a1,a1.shape)"
   ]
  },
  {
   "cell_type": "code",
   "execution_count": 7,
   "id": "17fe140c",
   "metadata": {},
   "outputs": [
    {
     "name": "stdout",
     "output_type": "stream",
     "text": [
      "[[30 33]\n",
      " [36 39]\n",
      " [42 45]\n",
      " [48 51]\n",
      " [54 57]] (5, 2)\n"
     ]
    }
   ],
   "source": [
    "a2 = np.sum(a1, axis = 0)\n",
    "print(a2,a2.shape)"
   ]
  },
  {
   "cell_type": "code",
   "execution_count": 10,
   "id": "bb02786d",
   "metadata": {},
   "outputs": [
    {
     "name": "stdout",
     "output_type": "stream",
     "text": [
      "[[ 1  5  9 13 17]\n",
      " [21 25 29 33 37]\n",
      " [41 45 49 53 57]] (3, 5)\n"
     ]
    }
   ],
   "source": [
    "a3 = np.sum(a1, axis = 2)\n",
    "print(a3,a3.shape)"
   ]
  },
  {
   "cell_type": "code",
   "execution_count": 13,
   "id": "6d2350a8",
   "metadata": {},
   "outputs": [
    {
     "name": "stdout",
     "output_type": "stream",
     "text": [
      "[[ 20  25]\n",
      " [ 70  75]\n",
      " [120 125]] (3, 2)\n"
     ]
    }
   ],
   "source": [
    "a4 = np.sum(a1, axis = 1)\n",
    "print(a4,a4.shape)"
   ]
  },
  {
   "cell_type": "code",
   "execution_count": 18,
   "id": "07d3a7a8",
   "metadata": {},
   "outputs": [
    {
     "name": "stdout",
     "output_type": "stream",
     "text": [
      "(1197, 1200, 3)\n"
     ]
    }
   ],
   "source": [
    "from matplotlib import image\n",
    "image = matplotlib.image.imread('dog.jpg')\n",
    "print(image.shape)"
   ]
  }
 ],
 "metadata": {
  "kernelspec": {
   "display_name": "Python 3 (ipykernel)",
   "language": "python",
   "name": "python3"
  },
  "language_info": {
   "codemirror_mode": {
    "name": "ipython",
    "version": 3
   },
   "file_extension": ".py",
   "mimetype": "text/x-python",
   "name": "python",
   "nbconvert_exporter": "python",
   "pygments_lexer": "ipython3",
   "version": "3.10.9"
  }
 },
 "nbformat": 4,
 "nbformat_minor": 5
}
