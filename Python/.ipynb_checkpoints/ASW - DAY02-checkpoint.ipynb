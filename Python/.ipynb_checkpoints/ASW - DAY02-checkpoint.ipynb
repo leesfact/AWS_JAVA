{
 "cells": [
  {
   "cell_type": "code",
   "execution_count": 7,
   "id": "4e40dfdc",
   "metadata": {},
   "outputs": [
    {
     "name": "stdout",
     "output_type": "stream",
     "text": [
      "myfunction\n"
     ]
    }
   ],
   "source": [
    "# 함수\n",
    "#define\n",
    "\n",
    "def function_name():\n",
    "    print('myfunction')\n",
    "\n",
    "\n",
    "function_name()\n"
   ]
  },
  {
   "cell_type": "code",
   "execution_count": 30,
   "id": "ff42dbd6",
   "metadata": {},
   "outputs": [
    {
     "name": "stdout",
     "output_type": "stream",
     "text": [
      "a b c\n"
     ]
    }
   ],
   "source": [
    "# function arqumnet\n",
    "\n",
    "def myfn1():\n",
    "    print('myfn1')\n",
    "#myfn1()\n",
    "\n",
    "\n",
    "def myfn2(arg1):\n",
    "    print(arg1)\n",
    "#myfn2('abc')\n",
    "\n",
    "\n",
    "def myfn3(arg1 = 'a',arg2 = 'b'):\n",
    "    print(arg1,arg2)\n",
    "#myfn3('abc','def')\n",
    "#myfn3(arg2=10,arg1=20)\n",
    "#myfn3()\n",
    "\n",
    "\n",
    "\n",
    "def myfn4(*arg1):\n",
    "    for i in arg1:\n",
    "        print(i)\n",
    "#myfn4(1,2,3,4)\n",
    "#myfn2([1,2,3,4])\n",
    "\n",
    "\n",
    "def myfn5(arg1, *, arg2, arg3):  # * 뒤부터는 keyward argu\n",
    "    print(arg1,arg2,arg3)\n",
    "myfn5('a',arg3 = 'c',arg2 = 'b')\n"
   ]
  },
  {
   "cell_type": "code",
   "execution_count": null,
   "id": "09152bc9",
   "metadata": {},
   "outputs": [],
   "source": []
  }
 ],
 "metadata": {
  "kernelspec": {
   "display_name": "Python 3 (ipykernel)",
   "language": "python",
   "name": "python3"
  },
  "language_info": {
   "codemirror_mode": {
    "name": "ipython",
    "version": 3
   },
   "file_extension": ".py",
   "mimetype": "text/x-python",
   "name": "python",
   "nbconvert_exporter": "python",
   "pygments_lexer": "ipython3",
   "version": "3.10.9"
  }
 },
 "nbformat": 4,
 "nbformat_minor": 5
}
