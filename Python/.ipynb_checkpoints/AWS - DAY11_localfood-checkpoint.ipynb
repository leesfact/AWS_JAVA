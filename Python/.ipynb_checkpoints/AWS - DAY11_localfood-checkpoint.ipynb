{
 "cells": [
  {
   "cell_type": "code",
   "execution_count": 2,
   "id": "93e05aa2",
   "metadata": {},
   "outputs": [],
   "source": [
    "import numpy as np\n",
    "import math\n",
    "\n",
    "def my_split(s):\n",
    "    block_start = False\n",
    "    start_index = 0\n",
    "    ret_list=[]\n",
    "    for i, c in enumerate(s):\n",
    "        if block_start==False:\n",
    "            if c==',':\n",
    "                ret_list.append(s[start_index:i])\n",
    "                start_index=i+1\n",
    "            elif c=='\"':\n",
    "                block_start=True\n",
    "                start_index = i\n",
    "        else:\n",
    "            if c=='\"':\n",
    "                block_start=False\n",
    "    if s[-1]!=',':\n",
    "        ret_list.append(s[start_index:])\n",
    "    return ret_list\n",
    "\n",
    "def split_len(data_list):\n",
    "    len_list=[]\n",
    "    for e in data_list:\n",
    "        len_list.append(len(e))\n",
    "    print(set(len_list))\n",
    "    if len(set(len_list))>1:\n",
    "        for i in set(len_list):\n",
    "            print(i, len_list.count(i))"
   ]
  },
  {
   "cell_type": "code",
   "execution_count": 6,
   "id": "1fc0de6c",
   "metadata": {},
   "outputs": [
    {
     "name": "stdout",
     "output_type": "stream",
     "text": [
      "[['로컬푸드인증번호', '인증유효시작일자', '인증유효종료일자', '인증취소일자', '사업장도로명주소', '사업장지번주소', '생산지도로명주소', '생산지지번주소', '품목명', '재배면적', '재배규모', '인증부여일자', '사업자명', '사업자등록번호', '전화번호', '관리기관명', '데이터기준일자', '제공기관코드', '제공기관명'], ['HYG-162', '2021-09-01', '2031-09-01', '', '경상남도 함양군 수동면 산업단지길 209+경상남도 함양군 수동면 우명하교로 174', '', '경상남도 함양군 병곡면 다볕길 94', '', '칡청+달맞이꽃씨유', '', '122', '2021-09-01', '청운당농산', '', '070-7779-2122', '경상남도 함양군청', '2022-11-23', '5460000', '경상남도 함양군'], ['HYG-163', '2021-09-01', '2031-09-01', '', '경상남도 함양군 수동면 산업단지길 209+경상남도 함양군 수동면 우명하교로 174', '', '경상남도 함양군 수동면 사근산성길 35-4', '', '굼벵이환', '', '123', '2021-09-01', '굼찬농장', '', '070-7779-2122', '경상남도 함양군청', '2022-11-23', '5460000', '경상남도 함양군']]\n",
      "{19}\n"
     ]
    }
   ],
   "source": [
    "csv_data = []\n",
    "with open('전국로컬푸드인증정보표준데이터.csv',encoding='EUC-KR') as f:\n",
    "    for line in f:\n",
    "         #print(line)\n",
    "        csv_data.append(my_split(line[:-1]))  # /n 없앰\n",
    "        \n",
    "print(csv_data[:3])\n",
    "split_len(csv_data)\n"
   ]
  },
  {
   "cell_type": "code",
   "execution_count": 10,
   "id": "aa4003ab",
   "metadata": {},
   "outputs": [
    {
     "name": "stdout",
     "output_type": "stream",
     "text": [
      "(0, '로컬푸드인증번호')\n",
      "(1, '인증유효시작일자')\n",
      "(2, '인증유효종료일자')\n",
      "(3, '인증취소일자')\n",
      "(4, '사업장도로명주소')\n",
      "(5, '사업장지번주소')\n",
      "(6, '생산지도로명주소')\n",
      "(7, '생산지지번주소')\n",
      "(8, '품목명')\n",
      "(9, '재배면적')\n",
      "(10, '재배규모')\n",
      "(11, '인증부여일자')\n",
      "(12, '사업자명')\n",
      "(13, '사업자등록번호')\n",
      "(14, '전화번호')\n",
      "(15, '관리기관명')\n",
      "(16, '데이터기준일자')\n",
      "(17, '제공기관코드')\n",
      "(18, '제공기관명')\n"
     ]
    }
   ],
   "source": [
    "for e in enumerate (csv_data[0]): #csv_data[0] , header의 row 확인\n",
    "    print(e)"
   ]
  },
  {
   "cell_type": "code",
   "execution_count": 12,
   "id": "e0b837e3",
   "metadata": {},
   "outputs": [
    {
     "name": "stdout",
     "output_type": "stream",
     "text": [
      "['사업장도로명주소' '사업장지번주소' '생산지도로명주소' '생산지지번주소' '품목명']\n"
     ]
    }
   ],
   "source": [
    "np_data = np.array(csv_data)\n",
    "#print(np_data.shape) # data 갯수\n",
    "np_data = np_data[:,4:9] # 사업장도로명주소 ~ 품목명까지\n",
    "print(np_data[0])"
   ]
  },
  {
   "cell_type": "code",
   "execution_count": 26,
   "id": "9468a3ca",
   "metadata": {},
   "outputs": [
    {
     "name": "stdout",
     "output_type": "stream",
     "text": [
      "['사업장도로명주소', '경상남도 함양군', '경상남도 함양군']\n"
     ]
    }
   ],
   "source": [
    "area_name_list = []\n",
    "for sample in np_data:\n",
    "    area_name = '' #비어있는 문자열\n",
    "    for i in sample[:-1]:\n",
    "        i = i.strip(' \"')\n",
    "        if len(i) > 0 : # 빈칸이 아니면,\n",
    "            area_name = ' '.join(i.split()[:2])\n",
    "            area_name_list.append(area_name)\n",
    "            break\n",
    "print(area_name_list[:3])"
   ]
  },
  {
   "cell_type": "code",
   "execution_count": 29,
   "id": "47a88907",
   "metadata": {},
   "outputs": [],
   "source": [
    "def process_product_names(s):\n",
    "    r = [ ]\n",
    "    if '+' in s:\n",
    "        r = s.split('+')\n",
    "    if ',' in s:\n",
    "        r = s.split(',')\n",
    "    return r\n",
    "\n",
    "sample1 = 'productA+productB'\n",
    "sample2 = 'productA,productB'\n",
    "assert process_product_names(sample1) == ['productA','productB']\n",
    "assert process_product_names(sample2) == ['productA','productB']"
   ]
  }
 ],
 "metadata": {
  "kernelspec": {
   "display_name": "Python 3 (ipykernel)",
   "language": "python",
   "name": "python3"
  },
  "language_info": {
   "codemirror_mode": {
    "name": "ipython",
    "version": 3
   },
   "file_extension": ".py",
   "mimetype": "text/x-python",
   "name": "python",
   "nbconvert_exporter": "python",
   "pygments_lexer": "ipython3",
   "version": "3.10.9"
  }
 },
 "nbformat": 4,
 "nbformat_minor": 5
}
