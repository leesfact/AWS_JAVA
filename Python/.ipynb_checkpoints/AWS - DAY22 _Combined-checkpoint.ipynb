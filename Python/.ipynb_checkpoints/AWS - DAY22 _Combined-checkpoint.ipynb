{
 "cells": [
  {
   "cell_type": "code",
   "execution_count": 9,
   "id": "fd8bb0f7",
   "metadata": {},
   "outputs": [],
   "source": [
    "import numpy as np\n",
    "import pandas as pd\n",
    "\n",
    "pd_oneway = pd.read_csv('전국일방통행도로표준데이터_pass1.csv')\n",
    "pd_child = pd.read_csv('전국어린이보호구역표준데이터_pass1.csv')\n",
    "pd_elder = pd.read_csv('전국노인장애인보호구역표준데이터_pass1.csv')"
   ]
  },
  {
   "cell_type": "code",
   "execution_count": 10,
   "id": "97ee88f0",
   "metadata": {},
   "outputs": [
    {
     "name": "stdout",
     "output_type": "stream",
     "text": [
      "   Unnamed: 0  시도명 지정사유  지정연도  도로폭  도로차로수 보차분리여부\n",
      "0           0  경기도  불분명   0.0  5.0    1.0      Y\n",
      "1           1  경기도  불분명   0.0  5.0    1.0      Y\n",
      "2           2  경기도  불분명   0.0  9.0    1.0      Y\n",
      "3           3  경기도  불분명   0.0  4.0    1.0      Y\n",
      "4           4  경기도  불분명   0.0  4.0    1.0      Y\n",
      "   Unnamed: 0  시설종류 관할경찰서명 관할경찰서명.1 CCTV설치여부  CCTV설치대수     제공기관명   보호구역도로폭  \\\n",
      "0           0   유치원  고창경찰서    고창경찰서        Y       1.0  전라북도 고창군  10.94575   \n",
      "1           1  초등학교  고창경찰서    고창경찰서        Y       2.0  전라북도 고창군  10.94575   \n",
      "2           2   유치원  고창경찰서    고창경찰서        Y       1.0  전라북도 고창군  10.94575   \n",
      "3           3  초등학교  고창경찰서    고창경찰서        Y       2.0  전라북도 고창군  10.94575   \n",
      "4           4   유치원  고창경찰서    고창경찰서        Y       1.0  전라북도 고창군  10.94575   \n",
      "\n",
      "   지자체명  \n",
      "0  전라북도  \n",
      "1  전라북도  \n",
      "2  전라북도  \n",
      "3  전라북도  \n",
      "4  전라북도  \n",
      "   Unnamed: 0    시도명  제한속도 CCTV설치여부  CCTV설치대수  보호구역도로폭\n",
      "0           0  서울특별시    30        Y       1.0      3.0\n",
      "1           1   경상북도    30        N       0.0      6.0\n",
      "2           2   경상북도    30        N       0.0      6.0\n",
      "3           3   경상북도    30        N       0.0      7.0\n",
      "4           4   경상북도    30        N       0.0      7.0\n"
     ]
    }
   ],
   "source": [
    "print(pd_oneway.head())    # 시도명 별 보차분리여부 y count\n",
    "print(pd_child.head())     # 시도명(지자체명) 별 CCTV 설치대수 count \n",
    "print(pd_elder.head())     # 시도명 별 CCTV 설치대수"
   ]
  },
  {
   "cell_type": "code",
   "execution_count": 11,
   "id": "6810c1c3",
   "metadata": {},
   "outputs": [
    {
     "name": "stdout",
     "output_type": "stream",
     "text": [
      "시도명\n",
      "강원도         19\n",
      "경기도        118\n",
      "경상남도        51\n",
      "경상북도        36\n",
      "광주광역시       36\n",
      "서울특별시       99\n",
      "인천광역시       28\n",
      "전라남도         7\n",
      "전라북도        13\n",
      "제주특별자치도     32\n",
      "충청남도        52\n",
      "충청북도        10\n",
      "Name: 일방통행보차분리Y_COUNT, dtype: int64\n"
     ]
    }
   ],
   "source": [
    "g1 = pd_oneway[pd_oneway['보차분리여부']=='Y'].groupby('시도명')\n",
    "s1 = g1['보차분리여부'].count()\n",
    "s1.name = '일방통행보차분리Y_COUNT'\n",
    "print(s1)"
   ]
  },
  {
   "cell_type": "code",
   "execution_count": 12,
   "id": "00bb1e04",
   "metadata": {},
   "outputs": [
    {
     "name": "stdout",
     "output_type": "stream",
     "text": [
      "지자체명\n",
      "강원도        1327.0\n",
      "경기도        6834.0\n",
      "경상남도       3721.0\n",
      "경상북도       2136.0\n",
      "광주광역시       419.0\n",
      "대구광역시      1168.0\n",
      "대전광역시      1405.0\n",
      "부산광역시      1493.0\n",
      "서울특별시      3703.0\n",
      "세종특별자치시      26.0\n",
      "울산광역시       812.0\n",
      "인천광역시       761.0\n",
      "전라남도       2437.0\n",
      "전라북도       1895.0\n",
      "제주특별자치도     484.0\n",
      "충청남도       1484.0\n",
      "충청북도       1784.0\n",
      "Name: 어린이CCTV_COUNT, dtype: float64\n"
     ]
    }
   ],
   "source": [
    "g2 = pd_child.groupby('지자체명')\n",
    "s2 = g2['CCTV설치대수'].sum()\n",
    "s2.name = '어린이CCTV_COUNT'\n",
    "print(s2)"
   ]
  },
  {
   "cell_type": "code",
   "execution_count": 13,
   "id": "ca4f45d0",
   "metadata": {},
   "outputs": [
    {
     "name": "stdout",
     "output_type": "stream",
     "text": [
      "시도명\n",
      "강원도          7.0\n",
      "경기도        136.0\n",
      "경상남도        18.0\n",
      "경상북도        40.0\n",
      "광주광역시        3.0\n",
      "대구광역시       17.0\n",
      "대전광역시       36.0\n",
      "부산광역시       30.0\n",
      "서울특별시       99.0\n",
      "세종특별자치시      0.0\n",
      "울산광역시        4.0\n",
      "인천광역시       55.0\n",
      "전라남도        11.0\n",
      "전라북도        34.0\n",
      "제주특별자치도      0.0\n",
      "충청남도       103.0\n",
      "충청북도        20.0\n",
      "Name: 노인장애인CCTV_COUNT, dtype: float64\n"
     ]
    }
   ],
   "source": [
    "g3 = pd_elder.groupby('시도명')\n",
    "s3 = g3['CCTV설치대수'].sum()\n",
    "s3.name = '노인장애인CCTV_COUNT'\n",
    "print(s3)"
   ]
  },
  {
   "cell_type": "code",
   "execution_count": 14,
   "id": "534f08a0",
   "metadata": {},
   "outputs": [
    {
     "name": "stdout",
     "output_type": "stream",
     "text": [
      "         일방통행보차분리Y_COUNT  어린이CCTV_COUNT  노인장애인CCTV_COUNT\n",
      "강원도                 19.0         1327.0              7.0\n",
      "경기도                118.0         6834.0            136.0\n",
      "경상남도                51.0         3721.0             18.0\n",
      "경상북도                36.0         2136.0             40.0\n",
      "광주광역시               36.0          419.0              3.0\n",
      "서울특별시               99.0         3703.0             99.0\n",
      "인천광역시               28.0          761.0             55.0\n",
      "전라남도                 7.0         2437.0             11.0\n",
      "전라북도                13.0         1895.0             34.0\n",
      "제주특별자치도             32.0          484.0              0.0\n",
      "충청남도                52.0         1484.0            103.0\n",
      "충청북도                10.0         1784.0             20.0\n",
      "대구광역시                NaN         1168.0             17.0\n",
      "대전광역시                NaN         1405.0             36.0\n",
      "부산광역시                NaN         1493.0             30.0\n",
      "세종특별자치시              NaN           26.0              0.0\n",
      "울산광역시                NaN          812.0              4.0\n"
     ]
    }
   ],
   "source": [
    "df_combined = pd.concat((s1,s2,s3),axis =1)\n",
    "print(df_combined)"
   ]
  },
  {
   "cell_type": "code",
   "execution_count": 18,
   "id": "60b585f5",
   "metadata": {},
   "outputs": [
    {
     "ename": "ModuleNotFoundError",
     "evalue": "No module named 'matplotlib.pyploty'",
     "output_type": "error",
     "traceback": [
      "\u001b[1;31m---------------------------------------------------------------------------\u001b[0m",
      "\u001b[1;31mModuleNotFoundError\u001b[0m                       Traceback (most recent call last)",
      "Cell \u001b[1;32mIn[18], line 1\u001b[0m\n\u001b[1;32m----> 1\u001b[0m \u001b[38;5;28;01mimport\u001b[39;00m \u001b[38;5;21;01mmatplotlib\u001b[39;00m\u001b[38;5;21;01m.\u001b[39;00m\u001b[38;5;21;01mpyploty\u001b[39;00m \u001b[38;5;28;01mas\u001b[39;00m \u001b[38;5;21;01mplt\u001b[39;00m\n\u001b[0;32m      3\u001b[0m _,axe \u001b[38;5;241m=\u001b[39m plt\u001b[38;5;241m.\u001b[39msubplots()\n\u001b[0;32m      4\u001b[0m axe\u001b[38;5;241m.\u001b[39mplot(df_combined[\u001b[38;5;124m'\u001b[39m\u001b[38;5;124m어린이CCTV_COUNT\u001b[39m\u001b[38;5;124m'\u001b[39m])\n",
      "\u001b[1;31mModuleNotFoundError\u001b[0m: No module named 'matplotlib.pyploty'"
     ]
    }
   ],
   "source": [
    "import matplotlib.pyploty as plt\n",
    "\n",
    "_,axe = plt.subplots()\n",
    "axe.plot(df_combined['어린이CCTV_COUNT'])"
   ]
  },
  {
   "cell_type": "code",
   "execution_count": 19,
   "id": "9f725610",
   "metadata": {},
   "outputs": [
    {
     "ename": "TypeError",
     "evalue": "'DataFrame' object is not callable",
     "output_type": "error",
     "traceback": [
      "\u001b[1;31m---------------------------------------------------------------------------\u001b[0m",
      "\u001b[1;31mTypeError\u001b[0m                                 Traceback (most recent call last)",
      "Cell \u001b[1;32mIn[19], line 1\u001b[0m\n\u001b[1;32m----> 1\u001b[0m np\u001b[38;5;241m.\u001b[39mcorrcoef(df_combined[\u001b[38;5;124m'\u001b[39m\u001b[38;5;124m어린이CCTV_COUNT\u001b[39m\u001b[38;5;124m'\u001b[39m],\u001b[43mdf_combined\u001b[49m\u001b[43m(\u001b[49m\u001b[43m[\u001b[49m\u001b[38;5;124;43m'\u001b[39;49m\u001b[38;5;124;43m노인장애인CCTV_COUNT\u001b[39;49m\u001b[38;5;124;43m'\u001b[39;49m\u001b[43m]\u001b[49m\u001b[43m)\u001b[49m)\n",
      "\u001b[1;31mTypeError\u001b[0m: 'DataFrame' object is not callable"
     ]
    }
   ],
   "source": [
    "np.corrcoef(df_combined['어린이CCTV_COUNT'],df_combined(['노인장애인CCTV_COUNT']))"
   ]
  }
 ],
 "metadata": {
  "kernelspec": {
   "display_name": "Python 3 (ipykernel)",
   "language": "python",
   "name": "python3"
  },
  "language_info": {
   "codemirror_mode": {
    "name": "ipython",
    "version": 3
   },
   "file_extension": ".py",
   "mimetype": "text/x-python",
   "name": "python",
   "nbconvert_exporter": "python",
   "pygments_lexer": "ipython3",
   "version": "3.10.9"
  }
 },
 "nbformat": 4,
 "nbformat_minor": 5
}
