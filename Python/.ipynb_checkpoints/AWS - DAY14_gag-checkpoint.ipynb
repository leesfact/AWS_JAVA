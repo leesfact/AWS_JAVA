{
 "cells": [
  {
   "cell_type": "markdown",
   "id": "4cdfef04",
   "metadata": {},
   "source": [
    "# 2010 - 2020\n",
    "- 년도별 도시가스 / 프로판 판매량 비율\n",
    "   - 프로판 가스보다 도시가스 사용량이 점점 늘어나는가\n",
    "- 년도별 도시가스, 년도별 프로판 사용량 상관도\n",
    "   - 도시가스 사용량이 점점 많아지고 있는가\n",
    "   - 프로판 가스 사용량은 점점 줄어들고 있는가\n",
    "- 도시가스 \n",
    "   - 년도별 겨울(10,11,12,1,2,3) 평균사용량 / 비겨울(4,5,6,7,8,9) 평균사용량\n",
    "   -> test (평균 사용량에 차이가 있는가)"
   ]
  },
  {
   "cell_type": "code",
   "execution_count": 2,
   "id": "1d879111",
   "metadata": {},
   "outputs": [],
   "source": [
    "import matplotlib.pyplot as plt\n",
    "import numpy as np\n",
    "import math\n",
    "\n",
    "def my_split(s):\n",
    "    block_start = False\n",
    "    start_index = 0\n",
    "    ret_list=[]\n",
    "    for i, c in enumerate(s):\n",
    "        if block_start==False:\n",
    "            if c==',':\n",
    "                ret_list.append(s[start_index:i])\n",
    "                start_index=i+1\n",
    "            elif c=='\"':\n",
    "                block_start=True\n",
    "                start_index = i\n",
    "        else:\n",
    "            if c=='\"':\n",
    "                block_start=False\n",
    "    if s[-1]!=',':\n",
    "        ret_list.append(s[start_index:])\n",
    "    return ret_list\n",
    "\n",
    "def split_len(data_list):\n",
    "    len_list=[]\n",
    "    for e in data_list:\n",
    "        len_list.append(len(e))\n",
    "    print(set(len_list))\n",
    "    if len(set(len_list))>1:\n",
    "        for i in set(len_list):\n",
    "            print(i, len_list.count(i))\n",
    "    return set(len_list)"
   ]
  },
  {
   "cell_type": "code",
   "execution_count": 11,
   "id": "32810313",
   "metadata": {},
   "outputs": [
    {
     "name": "stdout",
     "output_type": "stream",
     "text": [
      "[['\"2010\"' '\"1월\"' '1' '179086' '311' '8775' '64' '26227']\n",
      " ['\"2010\"' '\"2월\"' '1' '139496' '311' '8745' '64' '23518']\n",
      " ['\"2010\"' '\"3월\"' '1' '143581' '311' '8092' '64' '23959']]\n"
     ]
    }
   ],
   "source": [
    "csv_data = []\n",
    "with open('가스공급량_20230217170925.csv') as f:\n",
    "    for line in f:\n",
    "        csv_data.append(my_split(line[:-1]))\n",
    "#print(csv_data[:3])\n",
    "#print(split_len(csv_data))\n",
    "\n",
    "#for e in enumerate(csv_data[0]):\n",
    "    #print(e)\n",
    "np_data = np.array(csv_data[2:]) # index 0,1,3(도시),5(프로판),7(부탄) 활용\n",
    "\n",
    "print(np_data[:3])"
   ]
  }
 ],
 "metadata": {
  "kernelspec": {
   "display_name": "Python 3 (ipykernel)",
   "language": "python",
   "name": "python3"
  },
  "language_info": {
   "codemirror_mode": {
    "name": "ipython",
    "version": 3
   },
   "file_extension": ".py",
   "mimetype": "text/x-python",
   "name": "python",
   "nbconvert_exporter": "python",
   "pygments_lexer": "ipython3",
   "version": "3.10.9"
  }
 },
 "nbformat": 4,
 "nbformat_minor": 5
}
