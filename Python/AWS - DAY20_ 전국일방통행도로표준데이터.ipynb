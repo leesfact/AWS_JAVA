{
 "cells": [
  {
   "cell_type": "markdown",
   "id": "b4615284",
   "metadata": {},
   "source": [
    "# 전국일방통행도로 표준데이터\n",
    "- 데이터 전처리\n",
    "    - 시도명, 지정사유, 지정연도, 도로폭, 도로차로수, 보차분리여부\n",
    "- 결측치 처리 (column 개별 기준)\n",
    "- 오류치 처리(unit의 차이)\n",
    "- 이상치 처리(iqr 사용)\n",
    "- 전처리 내용 정리"
   ]
  },
  {
   "cell_type": "code",
   "execution_count": 10,
   "id": "f1f4b9d1",
   "metadata": {},
   "outputs": [],
   "source": [
    "import numpy as np\n",
    "import pandas as pd\n",
    "import matplotlib.pyplot as plt\n",
    "\n",
    "pd_rawdata = pd.read_csv('전국일방통행도로표준데이터.csv',encoding = 'cp949')\n"
   ]
  },
  {
   "cell_type": "code",
   "execution_count": 13,
   "id": "27c4bee8",
   "metadata": {},
   "outputs": [
    {
     "name": "stdout",
     "output_type": "stream",
     "text": [
      "Index(['시도명', '시군구명', '도로명', '지정사유', '지정연도', '도로폭', '도로연장', '도로차로수', '보차분리여부',\n",
      "       '시작점위도', '시작점경도', '종료점위도', '종료점경도', '도로안내표지일련번호', '관리기관명', '관리기관전화번호',\n",
      "       '데이터기준일자', '제공기관코드', '제공기관명'],\n",
      "      dtype='object')\n",
      "   시도명 지정사유  지정연도  도로폭  도로차로수 보차분리여부\n",
      "0  경기도  NaN   NaN  5.0    1.0      Y\n",
      "1  경기도  NaN   NaN  5.0    1.0      Y\n",
      "2  경기도  NaN   NaN  9.0    1.0      Y\n",
      "3  경기도  NaN   NaN  4.0    1.0      Y\n",
      "4  경기도  NaN   NaN  4.0    1.0      Y\n",
      "5  경기도  NaN   NaN  6.0    1.0      N\n",
      "6  경기도  NaN   NaN  6.0    1.0      N\n",
      "7  경기도  NaN   NaN  7.5    1.0      Y\n",
      "8  경기도  NaN   NaN  8.0    1.0      Y\n",
      "9  경기도  NaN   NaN  6.0    1.0      Y\n"
     ]
    }
   ],
   "source": [
    "print(pd_rawdata.columns)\n",
    "column_selection = ['시도명', '지정사유', '지정연도', '도로폭', '도로차로수', '보차분리여부']\n",
    "pd_data = pd_rawdata[column_selection]\n",
    "print(pd_data[:10])"
   ]
  },
  {
   "cell_type": "code",
   "execution_count": 20,
   "id": "b39deeb5",
   "metadata": {},
   "outputs": [
    {
     "name": "stdout",
     "output_type": "stream",
     "text": [
      "(2159, 6)\n"
     ]
    },
    {
     "data": {
      "text/html": [
       "<div>\n",
       "<style scoped>\n",
       "    .dataframe tbody tr th:only-of-type {\n",
       "        vertical-align: middle;\n",
       "    }\n",
       "\n",
       "    .dataframe tbody tr th {\n",
       "        vertical-align: top;\n",
       "    }\n",
       "\n",
       "    .dataframe thead th {\n",
       "        text-align: right;\n",
       "    }\n",
       "</style>\n",
       "<table border=\"1\" class=\"dataframe\">\n",
       "  <thead>\n",
       "    <tr style=\"text-align: right;\">\n",
       "      <th></th>\n",
       "      <th>시도명</th>\n",
       "      <th>지정사유</th>\n",
       "      <th>지정연도</th>\n",
       "      <th>도로폭</th>\n",
       "      <th>도로차로수</th>\n",
       "      <th>보차분리여부</th>\n",
       "    </tr>\n",
       "  </thead>\n",
       "  <tbody>\n",
       "    <tr>\n",
       "      <th>count</th>\n",
       "      <td>2159</td>\n",
       "      <td>592</td>\n",
       "      <td>550.000000</td>\n",
       "      <td>2159.000000</td>\n",
       "      <td>2158.000000</td>\n",
       "      <td>2159</td>\n",
       "    </tr>\n",
       "    <tr>\n",
       "      <th>unique</th>\n",
       "      <td>13</td>\n",
       "      <td>31</td>\n",
       "      <td>NaN</td>\n",
       "      <td>NaN</td>\n",
       "      <td>NaN</td>\n",
       "      <td>3</td>\n",
       "    </tr>\n",
       "    <tr>\n",
       "      <th>top</th>\n",
       "      <td>서울특별시</td>\n",
       "      <td>차량소통 촉진 및 보행자 안전</td>\n",
       "      <td>NaN</td>\n",
       "      <td>NaN</td>\n",
       "      <td>NaN</td>\n",
       "      <td>N</td>\n",
       "    </tr>\n",
       "    <tr>\n",
       "      <th>freq</th>\n",
       "      <td>755</td>\n",
       "      <td>165</td>\n",
       "      <td>NaN</td>\n",
       "      <td>NaN</td>\n",
       "      <td>NaN</td>\n",
       "      <td>1657</td>\n",
       "    </tr>\n",
       "    <tr>\n",
       "      <th>mean</th>\n",
       "      <td>NaN</td>\n",
       "      <td>NaN</td>\n",
       "      <td>2006.456364</td>\n",
       "      <td>5.917508</td>\n",
       "      <td>1.101483</td>\n",
       "      <td>NaN</td>\n",
       "    </tr>\n",
       "    <tr>\n",
       "      <th>std</th>\n",
       "      <td>NaN</td>\n",
       "      <td>NaN</td>\n",
       "      <td>8.160330</td>\n",
       "      <td>2.297448</td>\n",
       "      <td>1.319722</td>\n",
       "      <td>NaN</td>\n",
       "    </tr>\n",
       "    <tr>\n",
       "      <th>min</th>\n",
       "      <td>NaN</td>\n",
       "      <td>NaN</td>\n",
       "      <td>1990.000000</td>\n",
       "      <td>2.000000</td>\n",
       "      <td>1.000000</td>\n",
       "      <td>NaN</td>\n",
       "    </tr>\n",
       "    <tr>\n",
       "      <th>25%</th>\n",
       "      <td>NaN</td>\n",
       "      <td>NaN</td>\n",
       "      <td>1999.000000</td>\n",
       "      <td>4.000000</td>\n",
       "      <td>1.000000</td>\n",
       "      <td>NaN</td>\n",
       "    </tr>\n",
       "    <tr>\n",
       "      <th>50%</th>\n",
       "      <td>NaN</td>\n",
       "      <td>NaN</td>\n",
       "      <td>2002.000000</td>\n",
       "      <td>6.000000</td>\n",
       "      <td>1.000000</td>\n",
       "      <td>NaN</td>\n",
       "    </tr>\n",
       "    <tr>\n",
       "      <th>75%</th>\n",
       "      <td>NaN</td>\n",
       "      <td>NaN</td>\n",
       "      <td>2016.000000</td>\n",
       "      <td>7.000000</td>\n",
       "      <td>1.000000</td>\n",
       "      <td>NaN</td>\n",
       "    </tr>\n",
       "    <tr>\n",
       "      <th>max</th>\n",
       "      <td>NaN</td>\n",
       "      <td>NaN</td>\n",
       "      <td>2022.000000</td>\n",
       "      <td>32.000000</td>\n",
       "      <td>60.000000</td>\n",
       "      <td>NaN</td>\n",
       "    </tr>\n",
       "  </tbody>\n",
       "</table>\n",
       "</div>"
      ],
      "text/plain": [
       "          시도명              지정사유         지정연도          도로폭        도로차로수 보차분리여부\n",
       "count    2159               592   550.000000  2159.000000  2158.000000   2159\n",
       "unique     13                31          NaN          NaN          NaN      3\n",
       "top     서울특별시  차량소통 촉진 및 보행자 안전          NaN          NaN          NaN      N\n",
       "freq      755               165          NaN          NaN          NaN   1657\n",
       "mean      NaN               NaN  2006.456364     5.917508     1.101483    NaN\n",
       "std       NaN               NaN     8.160330     2.297448     1.319722    NaN\n",
       "min       NaN               NaN  1990.000000     2.000000     1.000000    NaN\n",
       "25%       NaN               NaN  1999.000000     4.000000     1.000000    NaN\n",
       "50%       NaN               NaN  2002.000000     6.000000     1.000000    NaN\n",
       "75%       NaN               NaN  2016.000000     7.000000     1.000000    NaN\n",
       "max       NaN               NaN  2022.000000    32.000000    60.000000    NaN"
      ]
     },
     "execution_count": 20,
     "metadata": {},
     "output_type": "execute_result"
    }
   ],
   "source": [
    "print(pd_data.shape)\n",
    "pd_data.describe(include='all')\n",
    "\n",
    "\n"
   ]
  },
  {
   "cell_type": "code",
   "execution_count": 22,
   "id": "c179b95a",
   "metadata": {},
   "outputs": [
    {
     "name": "stdout",
     "output_type": "stream",
     "text": [
      "시도명 False\n",
      "지정사유 True\n",
      "True     1567\n",
      "False     592\n",
      "Name: 지정사유, dtype: int64\n",
      "지정연도 True\n",
      "True     1609\n",
      "False     550\n",
      "Name: 지정연도, dtype: int64\n",
      "도로폭 False\n",
      "도로차로수 True\n",
      "False    2158\n",
      "True        1\n",
      "Name: 도로차로수, dtype: int64\n",
      "보차분리여부 False\n"
     ]
    }
   ],
   "source": [
    "for e in pd_data.columns:\n",
    "    print(e, pd_data[e].hasnans)\n",
    "    if pd_data[e].hasnans:\n",
    "        print(pd_data[e].isna().value_counts())\n",
    "        \n",
    "# pd_data.columns 를 사용하여 DataFrame의 열 이름을 가져와서 순회하고, \n",
    "# 각 열에 대해 결측치 여부를 확인, 결측치가 있다면\n",
    "# pd_data[e],isna().value_counts()로 결측치의 개수를 출력"
   ]
  },
  {
   "cell_type": "code",
   "execution_count": 27,
   "id": "b13f938a",
   "metadata": {},
   "outputs": [
    {
     "name": "stdout",
     "output_type": "stream",
     "text": [
      "False    2159\n",
      "Name: 지정사유, dtype: int64\n"
     ]
    },
    {
     "name": "stderr",
     "output_type": "stream",
     "text": [
      "C:\\Users\\ITPS\\AppData\\Local\\Temp\\ipykernel_9588\\2342265684.py:1: SettingWithCopyWarning: \n",
      "A value is trying to be set on a copy of a slice from a DataFrame.\n",
      "Try using .loc[row_indexer,col_indexer] = value instead\n",
      "\n",
      "See the caveats in the documentation: https://pandas.pydata.org/pandas-docs/stable/user_guide/indexing.html#returning-a-view-versus-a-copy\n",
      "  pd_data.replace({'지정사유':np.NaN},0, inplace = True)\n"
     ]
    }
   ],
   "source": [
    "pd_data.replace({'지정사유':np.NaN},0, inplace = True)\n",
    "print(pd_data['지정사유'].isna().value_counts())"
   ]
  },
  {
   "cell_type": "markdown",
   "id": "31247e14",
   "metadata": {},
   "source": [
    "# 결측치 처리 방법\n",
    "\n",
    "1. 결측치 삭제\n",
    "- dropna()\n",
    "\n",
    "2. 대체값 사용\n",
    "- fillna()\n",
    "3. 보간법 사용\n",
    "- interpolate()\n",
    "4. 예측 모델 사용\n",
    "- 머신러닝 모델\n",
    "5. 결측치 마스킹\n",
    "- 결측치가 있는 행/열을 마스킹하여 데이터 분석 및 시각화 사용에 좋음"
   ]
  },
  {
   "cell_type": "markdown",
   "id": "7147f6d5",
   "metadata": {},
   "source": [
    "# 이상치 처리 방법\n",
    "## 이상치란, 일반적인 데이터의 분포에서 벗어나 크게 값이 튀는 데이터를 의미. 이상치는 데이터 분석 및 예측 모델링에 있어서 심각한 문제를 야기할 수 있으므로 이를 제거하거나 대체하는 것이 중요\n",
    "\n",
    "1. 이상치 제거\n",
    "- 실제로 발생할 수 있는 값의 범위를 벗어나는 경우, 이상치로 판단하여 제거하는 방법입니다.\n",
    "- 예를 들어, 주식가격이 일시적으로 매우 높게 올랐다가 떨어지는 경우, 이를 제거할 수 있습니다.\n",
    "\n",
    "2. 이상치 대체\n",
    "- 대체하는 값은 해당 데이터 분포를 고려하여 결정되어야 합니다.\n",
    "- 예를 들어, 결측치 대체와 마찬가지로 평균값, 중앙값, 최빈값 등의 대푯값을 사용할 수 있습니다.\n",
    "\n",
    "3. 이상치 변환\n",
    "- 이상치를 다른 값으로 변환하는 방법입니다.\n",
    "- 예를 들어, 로그 변환 등의 방법을 사용하여 이상치를 다른 값으로 변환할 수 있습니다.\n",
    "4. 이상치 분류\n",
    "- 이상치를 따로 분류하여 분석하는 방법입니다.\n",
    "- 예를 들어, 군집화를 사용하여 이상치를 따로 분류하고, 이상치를 분석하는 방법이 있습니다. "
   ]
  }
 ],
 "metadata": {
  "kernelspec": {
   "display_name": "Python 3 (ipykernel)",
   "language": "python",
   "name": "python3"
  },
  "language_info": {
   "codemirror_mode": {
    "name": "ipython",
    "version": 3
   },
   "file_extension": ".py",
   "mimetype": "text/x-python",
   "name": "python",
   "nbconvert_exporter": "python",
   "pygments_lexer": "ipython3",
   "version": "3.10.9"
  }
 },
 "nbformat": 4,
 "nbformat_minor": 5
}
