{
 "cells": [
  {
   "cell_type": "markdown",
   "id": "685eb426",
   "metadata": {},
   "source": [
    "# 전국어린이보호구역표준데이터\n",
    "전국어린이보호구역표준데이터.csv\n",
    "\n",
    "- 시설종류별 CCTV 설치 여부 카운트 / 대수\n",
    "- 광역시도별, 시절종류별 카운트\n",
    "- CCTV 평균 설치대수\n",
    "- 관할 경찰서별 CCTV 대수 \n",
    "- 도로폭 / CCTV 설치 대수 상관도"
   ]
  },
  {
   "cell_type": "code",
   "execution_count": 5,
   "id": "51544774",
   "metadata": {},
   "outputs": [
    {
     "name": "stdout",
     "output_type": "stream",
     "text": [
      "(0, '시설종류')\n",
      "(1, '관할경찰서명')\n",
      "(2, 'CCTV설치여부')\n",
      "(3, 'CCTV설치대수')\n",
      "(4, '보호구역도로폭')\n"
     ]
    }
   ],
   "source": [
    "import numpy as np\n",
    "import pandas as pd\n",
    "\n",
    "pd_data = pd.read_csv('전국어린이보호구역표준데이터.csv', encoding='cp949')\n",
    "drop_list = ['대상시설명', '소재지도로명주소', '소재지지번주소', '위도','경도','관리기관명','데이터기준일자','제공기관코드','제공기관명']\n",
    "pd_data.drop(drop_list, axis=1, inplace=True)\n",
    "\n",
    "#print(pd_data.shape)\n",
    "# print(pd_data.dtypes)\n",
    "# print(pd_data.head(3))\n",
    "\n",
    "\n",
    "#index 찾기\n",
    "for i in enumerate(pd_data.columns):\n",
    "        print(i)"
   ]
  }
 ],
 "metadata": {
  "kernelspec": {
   "display_name": "Python 3 (ipykernel)",
   "language": "python",
   "name": "python3"
  },
  "language_info": {
   "codemirror_mode": {
    "name": "ipython",
    "version": 3
   },
   "file_extension": ".py",
   "mimetype": "text/x-python",
   "name": "python",
   "nbconvert_exporter": "python",
   "pygments_lexer": "ipython3",
   "version": "3.10.9"
  }
 },
 "nbformat": 4,
 "nbformat_minor": 5
}
