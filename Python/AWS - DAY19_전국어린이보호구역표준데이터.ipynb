{
 "cells": [
  {
   "cell_type": "markdown",
   "id": "685eb426",
   "metadata": {},
   "source": [
    "# 전국어린이보호구역표준데이터\n",
    "전국어린이보호구역표준데이터.csv\n",
    "\n",
    "- 시설종류별 CCTV 설치 여부 카운트 / 대수\n",
    "- 광역시도별, 시절종류별 카운트\n",
    "- CCTV 평균 설치대수\n",
    "- 관할 경찰서별 CCTV 대수 \n",
    "- 도로폭 / CCTV 설치 대수 상관도"
   ]
  },
  {
   "cell_type": "code",
   "execution_count": 2,
   "id": "51544774",
   "metadata": {},
   "outputs": [],
   "source": [
    "import numpy as np\n",
    "import pandas as pd\n",
    "import matplotlib.pyplot as plt\n",
    "\n",
    "\n",
    "pd_rawdata = pd.read_csv('전국어린이보호구역표준데이터.csv', encoding='cp949')\n"
   ]
  },
  {
   "cell_type": "code",
   "execution_count": 3,
   "id": "f63bb01e",
   "metadata": {},
   "outputs": [
    {
     "name": "stdout",
     "output_type": "stream",
     "text": [
      "Index(['시설종류', '대상시설명', '소재지도로명주소', '소재지지번주소', '위도', '경도', '관리기관명', '관할경찰서명',\n",
      "       'CCTV설치여부', 'CCTV설치대수', '보호구역도로폭', '데이터기준일자', '제공기관코드', '제공기관명'],\n",
      "      dtype='object')\n"
     ]
    }
   ],
   "source": [
    "# EDA : Exploratory Data Analysis\n",
    "\n",
    "print(pd_rawdata.columns)\n",
    "column_selection = ['시설종류','관할경찰서명','관할경찰서명','CCTV설치여부','CCTV설치대수','제공기관명','보호구역도로폭']\n",
    "pd_data = pd_rawdata[column_selection]\n",
    "#del pd_rawdata"
   ]
  },
  {
   "cell_type": "code",
   "execution_count": 8,
   "id": "b37550d6",
   "metadata": {},
   "outputs": [],
   "source": [
    "# EDA : Exploratory Data Analysis"
   ]
  },
  {
   "cell_type": "code",
   "execution_count": 4,
   "id": "2827f1cb",
   "metadata": {},
   "outputs": [
    {
     "name": "stdout",
     "output_type": "stream",
     "text": [
      "6          1600\n",
      "8          1334\n",
      "7           855\n",
      "10          558\n",
      "12          543\n",
      "           ... \n",
      "30~35         1\n",
      "12~50         1\n",
      "5.0~5.5       1\n",
      "6~45          1\n",
      "18~23         1\n",
      "Name: 보호구역도로폭, Length: 528, dtype: int64\n",
      "False    10684\n",
      "True      4372\n",
      "Name: 보호구역도로폭, dtype: int64\n",
      "(15056, 7)\n"
     ]
    },
    {
     "name": "stderr",
     "output_type": "stream",
     "text": [
      "C:\\Users\\ITPS\\AppData\\Local\\Temp\\ipykernel_14120\\1006815135.py:8: SettingWithCopyWarning: \n",
      "A value is trying to be set on a copy of a slice from a DataFrame.\n",
      "Try using .loc[row_indexer,col_indexer] = value instead\n",
      "\n",
      "See the caveats in the documentation: https://pandas.pydata.org/pandas-docs/stable/user_guide/indexing.html#returning-a-view-versus-a-copy\n",
      "  pd_data['시설종류'] = pd_data['시설종류'].astype('category')\n",
      "C:\\Users\\ITPS\\AppData\\Local\\Temp\\ipykernel_14120\\1006815135.py:9: SettingWithCopyWarning: \n",
      "A value is trying to be set on a copy of a slice from a DataFrame.\n",
      "Try using .loc[row_indexer,col_indexer] = value instead\n",
      "\n",
      "See the caveats in the documentation: https://pandas.pydata.org/pandas-docs/stable/user_guide/indexing.html#returning-a-view-versus-a-copy\n",
      "  pd_data['CCTV설치여부'] = pd_data['CCTV설치여부'].astype('category')\n"
     ]
    },
    {
     "data": {
      "text/html": [
       "<div>\n",
       "<style scoped>\n",
       "    .dataframe tbody tr th:only-of-type {\n",
       "        vertical-align: middle;\n",
       "    }\n",
       "\n",
       "    .dataframe tbody tr th {\n",
       "        vertical-align: top;\n",
       "    }\n",
       "\n",
       "    .dataframe thead th {\n",
       "        text-align: right;\n",
       "    }\n",
       "</style>\n",
       "<table border=\"1\" class=\"dataframe\">\n",
       "  <thead>\n",
       "    <tr style=\"text-align: right;\">\n",
       "      <th></th>\n",
       "      <th>시설종류</th>\n",
       "      <th>관할경찰서명</th>\n",
       "      <th>관할경찰서명</th>\n",
       "      <th>CCTV설치여부</th>\n",
       "      <th>CCTV설치대수</th>\n",
       "      <th>제공기관명</th>\n",
       "      <th>보호구역도로폭</th>\n",
       "    </tr>\n",
       "  </thead>\n",
       "  <tbody>\n",
       "    <tr>\n",
       "      <th>count</th>\n",
       "      <td>15056</td>\n",
       "      <td>15056</td>\n",
       "      <td>15056</td>\n",
       "      <td>15056</td>\n",
       "      <td>11682.000000</td>\n",
       "      <td>15056</td>\n",
       "      <td>10684</td>\n",
       "    </tr>\n",
       "    <tr>\n",
       "      <th>unique</th>\n",
       "      <td>10</td>\n",
       "      <td>262</td>\n",
       "      <td>262</td>\n",
       "      <td>2</td>\n",
       "      <td>NaN</td>\n",
       "      <td>225</td>\n",
       "      <td>528</td>\n",
       "    </tr>\n",
       "    <tr>\n",
       "      <th>top</th>\n",
       "      <td>초등학교</td>\n",
       "      <td>서부경찰서</td>\n",
       "      <td>서부경찰서</td>\n",
       "      <td>Y</td>\n",
       "      <td>NaN</td>\n",
       "      <td>경상남도</td>\n",
       "      <td>6</td>\n",
       "    </tr>\n",
       "    <tr>\n",
       "      <th>freq</th>\n",
       "      <td>6965</td>\n",
       "      <td>299</td>\n",
       "      <td>299</td>\n",
       "      <td>11687</td>\n",
       "      <td>NaN</td>\n",
       "      <td>759</td>\n",
       "      <td>1600</td>\n",
       "    </tr>\n",
       "    <tr>\n",
       "      <th>mean</th>\n",
       "      <td>NaN</td>\n",
       "      <td>NaN</td>\n",
       "      <td>NaN</td>\n",
       "      <td>NaN</td>\n",
       "      <td>2.586543</td>\n",
       "      <td>NaN</td>\n",
       "      <td>NaN</td>\n",
       "    </tr>\n",
       "    <tr>\n",
       "      <th>std</th>\n",
       "      <td>NaN</td>\n",
       "      <td>NaN</td>\n",
       "      <td>NaN</td>\n",
       "      <td>NaN</td>\n",
       "      <td>2.937831</td>\n",
       "      <td>NaN</td>\n",
       "      <td>NaN</td>\n",
       "    </tr>\n",
       "    <tr>\n",
       "      <th>min</th>\n",
       "      <td>NaN</td>\n",
       "      <td>NaN</td>\n",
       "      <td>NaN</td>\n",
       "      <td>NaN</td>\n",
       "      <td>0.000000</td>\n",
       "      <td>NaN</td>\n",
       "      <td>NaN</td>\n",
       "    </tr>\n",
       "    <tr>\n",
       "      <th>25%</th>\n",
       "      <td>NaN</td>\n",
       "      <td>NaN</td>\n",
       "      <td>NaN</td>\n",
       "      <td>NaN</td>\n",
       "      <td>1.000000</td>\n",
       "      <td>NaN</td>\n",
       "      <td>NaN</td>\n",
       "    </tr>\n",
       "    <tr>\n",
       "      <th>50%</th>\n",
       "      <td>NaN</td>\n",
       "      <td>NaN</td>\n",
       "      <td>NaN</td>\n",
       "      <td>NaN</td>\n",
       "      <td>2.000000</td>\n",
       "      <td>NaN</td>\n",
       "      <td>NaN</td>\n",
       "    </tr>\n",
       "    <tr>\n",
       "      <th>75%</th>\n",
       "      <td>NaN</td>\n",
       "      <td>NaN</td>\n",
       "      <td>NaN</td>\n",
       "      <td>NaN</td>\n",
       "      <td>3.000000</td>\n",
       "      <td>NaN</td>\n",
       "      <td>NaN</td>\n",
       "    </tr>\n",
       "    <tr>\n",
       "      <th>max</th>\n",
       "      <td>NaN</td>\n",
       "      <td>NaN</td>\n",
       "      <td>NaN</td>\n",
       "      <td>NaN</td>\n",
       "      <td>46.000000</td>\n",
       "      <td>NaN</td>\n",
       "      <td>NaN</td>\n",
       "    </tr>\n",
       "  </tbody>\n",
       "</table>\n",
       "</div>"
      ],
      "text/plain": [
       "         시설종류 관할경찰서명 관할경찰서명 CCTV설치여부      CCTV설치대수  제공기관명 보호구역도로폭\n",
       "count   15056  15056  15056    15056  11682.000000  15056   10684\n",
       "unique     10    262    262        2           NaN    225     528\n",
       "top      초등학교  서부경찰서  서부경찰서        Y           NaN   경상남도       6\n",
       "freq     6965    299    299    11687           NaN    759    1600\n",
       "mean      NaN    NaN    NaN      NaN      2.586543    NaN     NaN\n",
       "std       NaN    NaN    NaN      NaN      2.937831    NaN     NaN\n",
       "min       NaN    NaN    NaN      NaN      0.000000    NaN     NaN\n",
       "25%       NaN    NaN    NaN      NaN      1.000000    NaN     NaN\n",
       "50%       NaN    NaN    NaN      NaN      2.000000    NaN     NaN\n",
       "75%       NaN    NaN    NaN      NaN      3.000000    NaN     NaN\n",
       "max       NaN    NaN    NaN      NaN     46.000000    NaN     NaN"
      ]
     },
     "execution_count": 4,
     "metadata": {},
     "output_type": "execute_result"
    }
   ],
   "source": [
    "#print(pd_data.columns)\n",
    "#print(pd_data.dtypes)\n",
    "\n",
    "\n",
    "\n",
    "print(pd_data['보호구역도로폭'].value_counts())\n",
    "print(pd_data['보호구역도로폭'].isna().value_counts())\n",
    "pd_data['시설종류'] = pd_data['시설종류'].astype('category')\n",
    "pd_data['CCTV설치여부'] = pd_data['CCTV설치여부'].astype('category')\n",
    "#            print(pd_data.dtypes)\n",
    "print(pd_data.shape)\n",
    "pd_data.describe(include='all')"
   ]
  },
  {
   "cell_type": "code",
   "execution_count": 25,
   "id": "0f967376",
   "metadata": {},
   "outputs": [
    {
     "name": "stdout",
     "output_type": "stream",
     "text": [
      "시설종류 False\n"
     ]
    },
    {
     "ename": "AttributeError",
     "evalue": "'DataFrame' object has no attribute 'hasnans'",
     "output_type": "error",
     "traceback": [
      "\u001b[1;31m---------------------------------------------------------------------------\u001b[0m",
      "\u001b[1;31mAttributeError\u001b[0m                            Traceback (most recent call last)",
      "Cell \u001b[1;32mIn[25], line 7\u001b[0m\n\u001b[0;32m      1\u001b[0m \u001b[38;5;66;03m#결측지 확인 \u001b[39;00m\n\u001b[0;32m      2\u001b[0m \n\u001b[0;32m      3\u001b[0m \u001b[38;5;66;03m# print(pd_data.shape)\u001b[39;00m\n\u001b[0;32m      4\u001b[0m \u001b[38;5;66;03m# print(pd_data.describe(include='all'))\u001b[39;00m\n\u001b[0;32m      6\u001b[0m \u001b[38;5;28;01mfor\u001b[39;00m e \u001b[38;5;129;01min\u001b[39;00m pd_data:\n\u001b[1;32m----> 7\u001b[0m     \u001b[38;5;28mprint\u001b[39m(e,\u001b[43mpd_data\u001b[49m\u001b[43m[\u001b[49m\u001b[43me\u001b[49m\u001b[43m]\u001b[49m\u001b[38;5;241;43m.\u001b[39;49m\u001b[43mhasnans\u001b[49m)\n\u001b[0;32m      8\u001b[0m     \u001b[38;5;28;01mif\u001b[39;00m pd_data[e]\u001b[38;5;241m.\u001b[39mhasnans:\n\u001b[0;32m      9\u001b[0m         \u001b[38;5;28mprint\u001b[39m(pd_data[e]\u001b[38;5;241m.\u001b[39misna()\u001b[38;5;241m.\u001b[39mvalue_counts())\n",
      "File \u001b[1;32m~\\AppData\\Local\\Programs\\Python\\Python310\\lib\\site-packages\\pandas\\core\\generic.py:5902\u001b[0m, in \u001b[0;36mNDFrame.__getattr__\u001b[1;34m(self, name)\u001b[0m\n\u001b[0;32m   5895\u001b[0m \u001b[38;5;28;01mif\u001b[39;00m (\n\u001b[0;32m   5896\u001b[0m     name \u001b[38;5;129;01mnot\u001b[39;00m \u001b[38;5;129;01min\u001b[39;00m \u001b[38;5;28mself\u001b[39m\u001b[38;5;241m.\u001b[39m_internal_names_set\n\u001b[0;32m   5897\u001b[0m     \u001b[38;5;129;01mand\u001b[39;00m name \u001b[38;5;129;01mnot\u001b[39;00m \u001b[38;5;129;01min\u001b[39;00m \u001b[38;5;28mself\u001b[39m\u001b[38;5;241m.\u001b[39m_metadata\n\u001b[0;32m   5898\u001b[0m     \u001b[38;5;129;01mand\u001b[39;00m name \u001b[38;5;129;01mnot\u001b[39;00m \u001b[38;5;129;01min\u001b[39;00m \u001b[38;5;28mself\u001b[39m\u001b[38;5;241m.\u001b[39m_accessors\n\u001b[0;32m   5899\u001b[0m     \u001b[38;5;129;01mand\u001b[39;00m \u001b[38;5;28mself\u001b[39m\u001b[38;5;241m.\u001b[39m_info_axis\u001b[38;5;241m.\u001b[39m_can_hold_identifiers_and_holds_name(name)\n\u001b[0;32m   5900\u001b[0m ):\n\u001b[0;32m   5901\u001b[0m     \u001b[38;5;28;01mreturn\u001b[39;00m \u001b[38;5;28mself\u001b[39m[name]\n\u001b[1;32m-> 5902\u001b[0m \u001b[38;5;28;01mreturn\u001b[39;00m \u001b[38;5;28;43mobject\u001b[39;49m\u001b[38;5;241;43m.\u001b[39;49m\u001b[38;5;21;43m__getattribute__\u001b[39;49m\u001b[43m(\u001b[49m\u001b[38;5;28;43mself\u001b[39;49m\u001b[43m,\u001b[49m\u001b[43m \u001b[49m\u001b[43mname\u001b[49m\u001b[43m)\u001b[49m\n",
      "\u001b[1;31mAttributeError\u001b[0m: 'DataFrame' object has no attribute 'hasnans'"
     ]
    }
   ],
   "source": [
    "#결측지 확인 \n",
    "\n",
    "# print(pd_data.shape)\n",
    "# print(pd_data.describe(include='all'))\n",
    "\n",
    "for e in pd_data:\n",
    "    print(e,pd_data[e].hasnans)\n",
    "    if pd_data[e].hasnans:\n",
    "        print(pd_data[e].isna().value_counts())"
   ]
  },
  {
   "cell_type": "code",
   "execution_count": 9,
   "id": "213a40c9",
   "metadata": {},
   "outputs": [
    {
     "name": "stdout",
     "output_type": "stream",
     "text": [
      "False    11682\n",
      "True      3374\n",
      "Name: CCTV설치대수, dtype: int64\n",
      "False    15056\n",
      "Name: CCTV설치대수, dtype: int64\n"
     ]
    }
   ],
   "source": [
    "# CCTV 설채대수 : 결측치 처리\n",
    "# CCTV 설치여부  Y --> 1\n",
    "# CCTV 설치여부 N --> 0\n",
    "\n",
    "\n",
    "print(pd_data['CCTV설치대수'].isna().value_counts())\n",
    "filter_y = pd_data['CCTV설치여부'] == 'Y'\n",
    "filter_n = pd_data['CCTV설치여부'] == 'N'\n",
    "\n",
    "pd_data.loc[filter_y,'CCTV설치대수'] = pd_data.loc[filter_y,'CCTV설치대수'].replace(np.NaN,1)\n",
    "pd_data.loc[filter_n,'CCTV설치대수'] = pd_data.loc[filter_n,'CCTV설치대수'].replace(np.NaN,0)\n",
    "print(pd_data['CCTV설치대수'].isna().value_counts())"
   ]
  },
  {
   "cell_type": "code",
   "execution_count": 13,
   "id": "1b896391",
   "metadata": {},
   "outputs": [
    {
     "name": "stdout",
     "output_type": "stream",
     "text": [
      "False    10684\n",
      "True      4372\n",
      "Name: 보호구역도로폭, dtype: int64\n",
      "False    15056\n",
      "Name: 보호구역도로폭, dtype: int64\n"
     ]
    },
    {
     "name": "stderr",
     "output_type": "stream",
     "text": [
      "C:\\Users\\ITPS\\AppData\\Local\\Temp\\ipykernel_14120\\1031748456.py:19: SettingWithCopyWarning: \n",
      "A value is trying to be set on a copy of a slice from a DataFrame.\n",
      "Try using .loc[row_indexer,col_indexer] = value instead\n",
      "\n",
      "See the caveats in the documentation: https://pandas.pydata.org/pandas-docs/stable/user_guide/indexing.html#returning-a-view-versus-a-copy\n",
      "  pd_data['보호구역도로폭'] = y\n"
     ]
    }
   ],
   "source": [
    "def myfn1(x):\n",
    "    if type(x) == type(' '):\n",
    "        if '~' in x:\n",
    "            m = np.array(x.split('~')).astype(np.float64).mean()\n",
    "            return str(m)\n",
    "\n",
    "# 도로폭 : 오류치 처리\n",
    "# '숫자a ~ 숫자b' 형태의 문자열 -> '숫자 a와 숫자  b평의평균치 np.float64 값으로 대체\n",
    "y = pd_data['보호구역도로폭'].apply(myfn1)\n",
    "#print(y.dtype)\n",
    "#print(y.value_counts())\n",
    "\n",
    "# 도로폭 : 결측치 처리\n",
    "# 전체 도로폭 평균치로 대체\n",
    "print(pd_data['보호구역도로폭'].isna().value_counts())\n",
    "y = y.astype(np.float64)\n",
    "y = y.replace(np.NaN, y.mean())\n",
    "print(y.isna().value_counts())\n",
    "pd_data['보호구역도로폭'] = y\n"
   ]
  },
  {
   "cell_type": "markdown",
   "id": "f38d052e",
   "metadata": {},
   "source": [
    "# 시설 종류\n",
    " dtype: category\n",
    " value:\n",
    " 결측지 없음\n",
    " \n",
    " # 관할 경찰서명\n",
    " dtype : obejct\n",
    " 결측치 없음\n",
    " \n",
    " # CCTV 설치여부\n",
    " dtype : category\n",
    " value : 'Y,'N';\n",
    " 결측치 없음\n",
    " \n",
    " # CCTV 설치대수\n",
    " \n",
    " dtype : category\n",
    " min / max : 0 / _\n",
    " 결측치 (개, 처리후 결측치 없음)\n",
    " cctv 설치여부 ('Y' -> 1)\n",
    " cctv 설치여부 ('N' ->1\n",
    " \n",
    " # 보호구역 도로폭\n",
    " dtype np.float64\n",
    " min/max:\n",
    " 오류치(개, 처리후 오류치 없음)\n",
    " \n",
    "숫자a - 숫자b 형태의 문자열 -> 숫자a 와 숫자b의 평균치(np.float64) 값으로 대체\n",
    "\n",
    "결측치 (개, 처리후 결측치 없음)\n",
    "전체 평균값으로 대체\n",
    "\n",
    " "
   ]
  },
  {
   "cell_type": "code",
   "execution_count": 14,
   "id": "64d2e5bb",
   "metadata": {},
   "outputs": [
    {
     "name": "stdout",
     "output_type": "stream",
     "text": [
      "{'data': array([[ 0.03807591,  0.05068012,  0.06169621, ..., -0.00259226,\n",
      "         0.01990749, -0.01764613],\n",
      "       [-0.00188202, -0.04464164, -0.05147406, ..., -0.03949338,\n",
      "        -0.06833155, -0.09220405],\n",
      "       [ 0.08529891,  0.05068012,  0.04445121, ..., -0.00259226,\n",
      "         0.00286131, -0.02593034],\n",
      "       ...,\n",
      "       [ 0.04170844,  0.05068012, -0.01590626, ..., -0.01107952,\n",
      "        -0.04688253,  0.01549073],\n",
      "       [-0.04547248, -0.04464164,  0.03906215, ...,  0.02655962,\n",
      "         0.04452873, -0.02593034],\n",
      "       [-0.04547248, -0.04464164, -0.0730303 , ..., -0.03949338,\n",
      "        -0.00422151,  0.00306441]]), 'target': array([151.,  75., 141., 206., 135.,  97., 138.,  63., 110., 310., 101.,\n",
      "        69., 179., 185., 118., 171., 166., 144.,  97., 168.,  68.,  49.,\n",
      "        68., 245., 184., 202., 137.,  85., 131., 283., 129.,  59., 341.,\n",
      "        87.,  65., 102., 265., 276., 252.,  90., 100.,  55.,  61.,  92.,\n",
      "       259.,  53., 190., 142.,  75., 142., 155., 225.,  59., 104., 182.,\n",
      "       128.,  52.,  37., 170., 170.,  61., 144.,  52., 128.,  71., 163.,\n",
      "       150.,  97., 160., 178.,  48., 270., 202., 111.,  85.,  42., 170.,\n",
      "       200., 252., 113., 143.,  51.,  52., 210.,  65., 141.,  55., 134.,\n",
      "        42., 111.,  98., 164.,  48.,  96.,  90., 162., 150., 279.,  92.,\n",
      "        83., 128., 102., 302., 198.,  95.,  53., 134., 144., 232.,  81.,\n",
      "       104.,  59., 246., 297., 258., 229., 275., 281., 179., 200., 200.,\n",
      "       173., 180.,  84., 121., 161.,  99., 109., 115., 268., 274., 158.,\n",
      "       107.,  83., 103., 272.,  85., 280., 336., 281., 118., 317., 235.,\n",
      "        60., 174., 259., 178., 128.,  96., 126., 288.,  88., 292.,  71.,\n",
      "       197., 186.,  25.,  84.,  96., 195.,  53., 217., 172., 131., 214.,\n",
      "        59.,  70., 220., 268., 152.,  47.,  74., 295., 101., 151., 127.,\n",
      "       237., 225.,  81., 151., 107.,  64., 138., 185., 265., 101., 137.,\n",
      "       143., 141.,  79., 292., 178.,  91., 116.,  86., 122.,  72., 129.,\n",
      "       142.,  90., 158.,  39., 196., 222., 277.,  99., 196., 202., 155.,\n",
      "        77., 191.,  70.,  73.,  49.,  65., 263., 248., 296., 214., 185.,\n",
      "        78.,  93., 252., 150.,  77., 208.,  77., 108., 160.,  53., 220.,\n",
      "       154., 259.,  90., 246., 124.,  67.,  72., 257., 262., 275., 177.,\n",
      "        71.,  47., 187., 125.,  78.,  51., 258., 215., 303., 243.,  91.,\n",
      "       150., 310., 153., 346.,  63.,  89.,  50.,  39., 103., 308., 116.,\n",
      "       145.,  74.,  45., 115., 264.,  87., 202., 127., 182., 241.,  66.,\n",
      "        94., 283.,  64., 102., 200., 265.,  94., 230., 181., 156., 233.,\n",
      "        60., 219.,  80.,  68., 332., 248.,  84., 200.,  55.,  85.,  89.,\n",
      "        31., 129.,  83., 275.,  65., 198., 236., 253., 124.,  44., 172.,\n",
      "       114., 142., 109., 180., 144., 163., 147.,  97., 220., 190., 109.,\n",
      "       191., 122., 230., 242., 248., 249., 192., 131., 237.,  78., 135.,\n",
      "       244., 199., 270., 164.,  72.,  96., 306.,  91., 214.,  95., 216.,\n",
      "       263., 178., 113., 200., 139., 139.,  88., 148.,  88., 243.,  71.,\n",
      "        77., 109., 272.,  60.,  54., 221.,  90., 311., 281., 182., 321.,\n",
      "        58., 262., 206., 233., 242., 123., 167.,  63., 197.,  71., 168.,\n",
      "       140., 217., 121., 235., 245.,  40.,  52., 104., 132.,  88.,  69.,\n",
      "       219.,  72., 201., 110.,  51., 277.,  63., 118.,  69., 273., 258.,\n",
      "        43., 198., 242., 232., 175.,  93., 168., 275., 293., 281.,  72.,\n",
      "       140., 189., 181., 209., 136., 261., 113., 131., 174., 257.,  55.,\n",
      "        84.,  42., 146., 212., 233.,  91., 111., 152., 120.,  67., 310.,\n",
      "        94., 183.,  66., 173.,  72.,  49.,  64.,  48., 178., 104., 132.,\n",
      "       220.,  57.]), 'frame': None, 'DESCR': '.. _diabetes_dataset:\\n\\nDiabetes dataset\\n----------------\\n\\nTen baseline variables, age, sex, body mass index, average blood\\npressure, and six blood serum measurements were obtained for each of n =\\n442 diabetes patients, as well as the response of interest, a\\nquantitative measure of disease progression one year after baseline.\\n\\n**Data Set Characteristics:**\\n\\n  :Number of Instances: 442\\n\\n  :Number of Attributes: First 10 columns are numeric predictive values\\n\\n  :Target: Column 11 is a quantitative measure of disease progression one year after baseline\\n\\n  :Attribute Information:\\n      - age     age in years\\n      - sex\\n      - bmi     body mass index\\n      - bp      average blood pressure\\n      - s1      tc, total serum cholesterol\\n      - s2      ldl, low-density lipoproteins\\n      - s3      hdl, high-density lipoproteins\\n      - s4      tch, total cholesterol / HDL\\n      - s5      ltg, possibly log of serum triglycerides level\\n      - s6      glu, blood sugar level\\n\\nNote: Each of these 10 feature variables have been mean centered and scaled by the standard deviation times the square root of `n_samples` (i.e. the sum of squares of each column totals 1).\\n\\nSource URL:\\nhttps://www4.stat.ncsu.edu/~boos/var.select/diabetes.html\\n\\nFor more information see:\\nBradley Efron, Trevor Hastie, Iain Johnstone and Robert Tibshirani (2004) \"Least Angle Regression,\" Annals of Statistics (with discussion), 407-499.\\n(https://web.stanford.edu/~hastie/Papers/LARS/LeastAngle_2002.pdf)\\n', 'feature_names': ['age', 'sex', 'bmi', 'bp', 's1', 's2', 's3', 's4', 's5', 's6'], 'data_filename': 'diabetes_data_raw.csv.gz', 'target_filename': 'diabetes_target.csv.gz', 'data_module': 'sklearn.datasets.data'}\n"
     ]
    }
   ],
   "source": [
    "import sklearn\n",
    "\n",
    "from sklearn import datasets\n",
    "\n",
    "x = datasets.load_diabetes()\n",
    "print(x)"
   ]
  },
  {
   "cell_type": "code",
   "execution_count": 72,
   "id": "c2a5cd59",
   "metadata": {},
   "outputs": [
    {
     "name": "stdout",
     "output_type": "stream",
     "text": [
      "Requirement already satisfied: scikit-learn in c:\\users\\itps\\appdata\\local\\programs\\python\\python310\\lib\\site-packages (1.2.1)\n",
      "Requirement already satisfied: threadpoolctl>=2.0.0 in c:\\users\\itps\\appdata\\local\\programs\\python\\python310\\lib\\site-packages (from scikit-learn) (3.1.0)\n",
      "Requirement already satisfied: numpy>=1.17.3 in c:\\users\\itps\\appdata\\local\\programs\\python\\python310\\lib\\site-packages (from scikit-learn) (1.24.1)\n",
      "Requirement already satisfied: scipy>=1.3.2 in c:\\users\\itps\\appdata\\local\\programs\\python\\python310\\lib\\site-packages (from scikit-learn) (1.10.0)\n",
      "Requirement already satisfied: joblib>=1.1.1 in c:\\users\\itps\\appdata\\local\\programs\\python\\python310\\lib\\site-packages (from scikit-learn) (1.2.0)\n",
      "Note: you may need to restart the kernel to use updated packages.\n"
     ]
    },
    {
     "name": "stderr",
     "output_type": "stream",
     "text": [
      "\n",
      "[notice] A new release of pip available: 22.3.1 -> 23.0.1\n",
      "[notice] To update, run: python.exe -m pip install --upgrade pip\n"
     ]
    }
   ],
   "source": [
    "pip install scikit-learn\n"
   ]
  },
  {
   "cell_type": "code",
   "execution_count": 16,
   "id": "cec9b94f",
   "metadata": {},
   "outputs": [
    {
     "name": "stdout",
     "output_type": "stream",
     "text": [
      "       시설종류   관할경찰서명   관할경찰서명 CCTV설치여부  CCTV설치대수     제공기관명   보호구역도로폭\n",
      "0       유치원    고창경찰서    고창경찰서        Y       1.0  전라북도 고창군  10.94575\n",
      "1      초등학교    고창경찰서    고창경찰서        Y       2.0  전라북도 고창군  10.94575\n",
      "2       유치원    고창경찰서    고창경찰서        Y       1.0  전라북도 고창군  10.94575\n",
      "3      초등학교    고창경찰서    고창경찰서        Y       2.0  전라북도 고창군  10.94575\n",
      "4       유치원    고창경찰서    고창경찰서        Y       1.0  전라북도 고창군  10.94575\n",
      "...     ...      ...      ...      ...       ...       ...       ...\n",
      "15051  초등학교    목포경찰서    목포경찰서        Y       4.0  전라남도 목포시  10.94575\n",
      "15052  초등학교    목포경찰서    목포경찰서        Y       2.0  전라남도 목포시  10.94575\n",
      "15053  초등학교    목포경찰서    목포경찰서        Y       3.0  전라남도 목포시  10.94575\n",
      "15054  초등학교    목포경찰서    목포경찰서        Y       4.0  전라남도 목포시  10.94575\n",
      "15055  초등학교  창원중부경찰서  창원중부경찰서        Y       1.0  경상남도 창원시  10.94575\n",
      "\n",
      "[15056 rows x 7 columns]\n",
      "10.94575    12421\n",
      "6.00000       330\n",
      "16.50000      185\n",
      "6.50000       168\n",
      "7.00000       162\n",
      "            ...  \n",
      "31.00000        1\n",
      "7.35000         1\n",
      "6.95000         1\n",
      "13.85000        1\n",
      "34.50000        1\n",
      "Name: 보호구역도로폭, Length: 132, dtype: int64\n",
      "<pandas.core.groupby.generic.DataFrameGroupBy object at 0x0000020301996DD0>\n"
     ]
    },
    {
     "data": {
      "text/plain": [
       "시설종류\n",
       "국제학교             8.0\n",
       "대안학교             1.0\n",
       "어린이집          4222.0\n",
       "외국인교육기관          1.0\n",
       "외국인학교           11.0\n",
       "유치원           6684.0\n",
       "초등학교         20599.0\n",
       "초등학교+어린이집       39.0\n",
       "특수학교           258.0\n",
       "학원              66.0\n",
       "Name: CCTV설치대수, dtype: float64"
      ]
     },
     "execution_count": 16,
     "metadata": {},
     "output_type": "execute_result"
    }
   ],
   "source": [
    "print(pd_data)\n",
    "print(pd_data['보호구역도로폭'].value_counts())\n",
    "\n",
    "g1 = pd_data.groupby('시설종류')\n",
    "print(g1)\n",
    "g1.count()\n",
    "g1['CCTV설치대수'].sum()"
   ]
  },
  {
   "cell_type": "code",
   "execution_count": 17,
   "id": "2312f6e6",
   "metadata": {},
   "outputs": [
    {
     "data": {
      "text/plain": [
       "2.118026036131775"
      ]
     },
     "execution_count": 17,
     "metadata": {},
     "output_type": "execute_result"
    }
   ],
   "source": [
    "pd_data['CCTV설치대수'].mean()"
   ]
  },
  {
   "cell_type": "code",
   "execution_count": 20,
   "id": "1a7a7970",
   "metadata": {},
   "outputs": [
    {
     "data": {
      "text/plain": [
       "array([[ 1.       , -0.0478016],\n",
       "       [-0.0478016,  1.       ]])"
      ]
     },
     "execution_count": 20,
     "metadata": {},
     "output_type": "execute_result"
    }
   ],
   "source": [
    "x = pd_data['보호구역도로폭']\n",
    "y = pd_data['CCTV설치대수']\n",
    "np.corrcoef(x,y)"
   ]
  },
  {
   "cell_type": "code",
   "execution_count": 19,
   "id": "b090d3da",
   "metadata": {},
   "outputs": [
    {
     "name": "stdout",
     "output_type": "stream",
     "text": [
      "       시설종류   관할경찰서명   관할경찰서명 CCTV설치여부  CCTV설치대수     제공기관명   보호구역도로폭\n",
      "0       유치원    고창경찰서    고창경찰서        Y       1.0  전라북도 고창군  10.94575\n",
      "1      초등학교    고창경찰서    고창경찰서        Y       2.0  전라북도 고창군  10.94575\n",
      "2       유치원    고창경찰서    고창경찰서        Y       1.0  전라북도 고창군  10.94575\n",
      "3      초등학교    고창경찰서    고창경찰서        Y       2.0  전라북도 고창군  10.94575\n",
      "4       유치원    고창경찰서    고창경찰서        Y       1.0  전라북도 고창군  10.94575\n",
      "...     ...      ...      ...      ...       ...       ...       ...\n",
      "15051  초등학교    목포경찰서    목포경찰서        Y       4.0  전라남도 목포시  10.94575\n",
      "15052  초등학교    목포경찰서    목포경찰서        Y       2.0  전라남도 목포시  10.94575\n",
      "15053  초등학교    목포경찰서    목포경찰서        Y       3.0  전라남도 목포시  10.94575\n",
      "15054  초등학교    목포경찰서    목포경찰서        Y       4.0  전라남도 목포시  10.94575\n",
      "15055  초등학교  창원중부경찰서  창원중부경찰서        Y       1.0  경상남도 창원시  10.94575\n",
      "\n",
      "[15056 rows x 7 columns]\n"
     ]
    }
   ],
   "source": [
    "print(pd_data)"
   ]
  }
 ],
 "metadata": {
  "kernelspec": {
   "display_name": "Python 3 (ipykernel)",
   "language": "python",
   "name": "python3"
  },
  "language_info": {
   "codemirror_mode": {
    "name": "ipython",
    "version": 3
   },
   "file_extension": ".py",
   "mimetype": "text/x-python",
   "name": "python",
   "nbconvert_exporter": "python",
   "pygments_lexer": "ipython3",
   "version": "3.10.9"
  }
 },
 "nbformat": 4,
 "nbformat_minor": 5
}
