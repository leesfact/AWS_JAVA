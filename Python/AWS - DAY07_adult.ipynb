{
 "cells": [
  {
   "cell_type": "code",
   "execution_count": 111,
   "id": "4b363cd1",
   "metadata": {},
   "outputs": [],
   "source": [
    "import math\n",
    "def mean(num_list):\n",
    "    return (sum(num_list)/len(num_list))  \n",
    "\n",
    "def dev(num_list): #편차\n",
    "    m = mean(num_list)\n",
    "    return [x-m for x in num_list]\n",
    "    \n",
    "def var(num_list): # 분산\n",
    "    n = len(num_list)\n",
    "    d = dev(num_list)\n",
    "    return sum([x*x for x in d]) / (n-1)\n",
    "\n",
    "def stdev(num_list): #표준편차\n",
    "    return math.sqrt(var(num_list))   \n",
    "\n",
    "# 공분산\n",
    "def covar(list_1, list_2): #공분산\n",
    "    n = len(list_1)\n",
    "    list_1_dev = dev(list_1)\n",
    "    list_2_dev = dev(list_2)\n",
    "    \n",
    "    return sum(x * y for x, y in zip(list_1_dev,list_2_dev))/(n-1)\n",
    "\n",
    "# 상관도\n",
    "def corel(list_1, list_2): # 상관도 (-1 ~ 1)\n",
    "    return covar(list_1,list_2) / (stdev(list_1)*stdev(list_2))"
   ]
  },
  {
   "cell_type": "markdown",
   "id": "34d555a6",
   "metadata": {},
   "source": [
    "### 상관도 분석 : UCI Repo Adult 데이터\n",
    "- https://archive.ics.uci.edu/ml/machine-learning-databases/adult/adult.data\n",
    "- age/ capital gain 상관도\n",
    "- hours - per - week / capital gain 상관도\n"
   ]
  },
  {
   "cell_type": "code",
   "execution_count": 50,
   "id": "730b5743",
   "metadata": {},
   "outputs": [],
   "source": [
    "import requests\n",
    "link = requests.get('https://archive.ics.uci.edu/ml/machine-learning-databases/adult/adult.data')"
   ]
  },
  {
   "cell_type": "code",
   "execution_count": 105,
   "id": "5e79aee4",
   "metadata": {},
   "outputs": [
    {
     "name": "stdout",
     "output_type": "stream",
     "text": [
      "39\n",
      " 2174\n",
      " 40\n"
     ]
    }
   ],
   "source": [
    "pass1 = link.text.split('\\n')\n",
    "\n",
    "print(pass1[0].split(',')[0])  #age\n",
    "print(pass1[0].split(',')[10]) # cap_gain\n",
    "print(pass1[0].split(',')[12]) # hours_per_week\n",
    "\n",
    "age_list = []\n",
    "cap_gain_list = []\n",
    "hour_per_week_list = []\n",
    "\n",
    "for e in pass1:\n",
    "    try:\n",
    "        t = e.split(',')\n",
    "        if len(t) < 5:\n",
    "            continue\n",
    "        age_list.append(t[0])\n",
    "        cap_gain_list.append(t[10])\n",
    "        hour_per_week_list.append(t[12])\n",
    "    except:\n",
    "        print(e,type(e))\n"
   ]
  },
  {
   "cell_type": "code",
   "execution_count": 107,
   "id": "f43379d9",
   "metadata": {},
   "outputs": [
    {
     "name": "stdout",
     "output_type": "stream",
     "text": [
      "32561\n",
      "32561\n",
      "32561\n"
     ]
    }
   ],
   "source": [
    "print(len(age_list))\n",
    "print(len(cap_gain_list))\n",
    "print(len(hour_per_week_list))"
   ]
  },
  {
   "cell_type": "code",
   "execution_count": 114,
   "id": "b6082b79",
   "metadata": {},
   "outputs": [
    {
     "name": "stdout",
     "output_type": "stream",
     "text": [
      "[39, 50, 38, 53, 28, 37, 49, 52, 31, 42]\n",
      "[2174, 0, 0, 0, 0, 0, 0, 0, 14084, 5178]\n",
      "[40, 13, 40, 40, 40, 40, 16, 45, 50, 40]\n"
     ]
    }
   ],
   "source": [
    "print(age_list[:10])\n",
    "print(cap_gain_list[:10])\n",
    "print(hour_per_week_list[:10])\n",
    "age_list =[int(i) for i in age_list]\n",
    "cap_gain_list = [int(i) for i in cap_gain_list]\n",
    "hour_per_week_list = [int(i) for i in hour_per_week_list]"
   ]
  },
  {
   "cell_type": "code",
   "execution_count": 116,
   "id": "b2a5ff17",
   "metadata": {},
   "outputs": [
    {
     "name": "stdout",
     "output_type": "stream",
     "text": [
      "age vs. cap gain: 0.077674498166006\n",
      "hours per week vs. cap gain:  0.07840861539012314\n",
      "age vs hours per week :  0.06875570750956339\n"
     ]
    }
   ],
   "source": [
    "print('age vs. cap gain:',corel(age_list,cap_gain_list))\n",
    "print('hours per week vs. cap gain: ',corel(hour_per_week_list,cap_gain_list))\n",
    "print('age vs hours per week : ',corel(age_list,hour_per_week_list))"
   ]
  }
 ],
 "metadata": {
  "kernelspec": {
   "display_name": "Python 3 (ipykernel)",
   "language": "python",
   "name": "python3"
  },
  "language_info": {
   "codemirror_mode": {
    "name": "ipython",
    "version": 3
   },
   "file_extension": ".py",
   "mimetype": "text/x-python",
   "name": "python",
   "nbconvert_exporter": "python",
   "pygments_lexer": "ipython3",
   "version": "3.10.9"
  }
 },
 "nbformat": 4,
 "nbformat_minor": 5
}
