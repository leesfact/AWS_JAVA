{
 "cells": [
  {
   "cell_type": "code",
   "execution_count": 1,
   "id": "e14153c7",
   "metadata": {},
   "outputs": [],
   "source": [
    "import numpy as np\n",
    "import math\n",
    "\n",
    "def my_split(s):\n",
    "    block_start = False\n",
    "    start_index = 0\n",
    "    ret_list=[]\n",
    "    for i, c in enumerate(s):\n",
    "        if block_start==False:\n",
    "            if c==',':\n",
    "                ret_list.append(s[start_index:i])\n",
    "                start_index=i+1\n",
    "            elif c=='\"':\n",
    "                block_start=True\n",
    "                start_index = i\n",
    "        else:\n",
    "            if c=='\"':\n",
    "                block_start=False\n",
    "    if s[-1]!=',':\n",
    "        ret_list.append(s[start_index:])\n",
    "    return ret_list\n",
    "\n",
    "def split_len(data_list):\n",
    "    len_list=[]\n",
    "    for e in data_list:\n",
    "        len_list.append(len(e))\n",
    "    print(set(len_list))\n",
    "    if len(set(len_list))>1:\n",
    "        for i in set(len_list):\n",
    "            print(i, len_list.count(i))\n",
    "    return set(len_list)"
   ]
  },
  {
   "cell_type": "code",
   "execution_count": 2,
   "id": "6adb08f4",
   "metadata": {},
   "outputs": [
    {
     "name": "stdout",
     "output_type": "stream",
     "text": [
      "(0, '중개사무소명')\n",
      "(1, '개설등록번호')\n",
      "(2, '개업공인중개사종별구분')\n",
      "(3, '소재지도로명주소')\n",
      "(4, '소재지지번주소')\n",
      "(5, '전화번호')\n",
      "(6, '개설등록일자')\n",
      "(7, '공제가입유무')\n",
      "(8, '대표자명')\n",
      "(9, '위도')\n",
      "(10, '경도')\n",
      "(11, '중개보조원수')\n",
      "(12, '소속공인중개사수')\n",
      "(13, '홈페이지주소')\n",
      "(14, '데이터기준일자')\n",
      "(15, '제공기관코드')\n",
      "(16, '제공기관명')\n"
     ]
    }
   ],
   "source": [
    "csv_data = []\n",
    "with open('전국공인중개사사무소표준데이터.csv') as f:\n",
    "    for line in f:\n",
    "        csv_data.append(my_split(line[:-1]))\n",
    "#print(csv_data[:10])\n",
    "\n",
    "np_data = np.array(csv_data)\n",
    "for e in enumerate(np_data[0]):\n",
    "    print(e)   # 0,2,7\n"
   ]
  },
  {
   "cell_type": "code",
   "execution_count": 3,
   "id": "17b00d0a",
   "metadata": {},
   "outputs": [
    {
     "name": "stdout",
     "output_type": "stream",
     "text": [
      "[['중개사무소명' '개설등록번호' '개업공인중개사종별구분' '소재지도로명주소' '소재지지번주소' '전화번호' '개설등록일자'\n",
      "  '공제가입유무' '대표자명' '위도' '경도' '중개보조원수' '소속공인중개사수' '홈페이지주소' '데이터기준일자'\n",
      "  '제공기관코드' '제공기관명']\n",
      " ['제일공인중개사사무소' '26710-2015-00005' '공인중개사' '부산광역시 기장군 정관읍 구연로 26' '' ''\n",
      "  '2015-01-07' 'Y' '송미경' '' '' '' '' '' '2022-11-25' '3400000'\n",
      "  '부산광역시 기장군']\n",
      " ['늘채움부동산공인중개사사무소' '26710-2015-00013' '공인중개사'\n",
      "  '\"부산광역시 기장군 기장읍 차성남로 91, 1층 일부\"' '' '' '2015-01-21' 'Y' '강경미' '' '' ''\n",
      "  '' '' '2022-11-25' '3400000' '부산광역시 기장군']]\n"
     ]
    }
   ],
   "source": [
    "print(np_data[:3])"
   ]
  },
  {
   "cell_type": "code",
   "execution_count": 4,
   "id": "1eef4765",
   "metadata": {},
   "outputs": [
    {
     "name": "stdout",
     "output_type": "stream",
     "text": [
      "['개업공인중개사' '공인중개사' '법인']\n",
      "[ 5085 23757   527]\n",
      "[17.31417481 80.89141612  1.79440907]\n"
     ]
    }
   ],
   "source": [
    "btypes = np_data[1:, 2]\n",
    "#print(btypes[:3])\n",
    "btype_name, btype_count = np.unique(btypes,return_counts=True)\n",
    "print(btype_name)\n",
    "print(btype_count)\n",
    "print(btype_count*100 / sum(btype_count))"
   ]
  },
  {
   "cell_type": "code",
   "execution_count": 14,
   "id": "89e63826",
   "metadata": {},
   "outputs": [
    {
     "data": {
      "text/plain": [
       "(array(['N', 'Y'], dtype='<U74'), array([   30, 29339], dtype=int64))"
      ]
     },
     "execution_count": 14,
     "metadata": {},
     "output_type": "execute_result"
    }
   ],
   "source": [
    "y_n = np_data[1:,7]\n",
    "np.unique(y_n, return_counts = True)"
   ]
  },
  {
   "cell_type": "code",
   "execution_count": 12,
   "id": "fbd45e22",
   "metadata": {},
   "outputs": [],
   "source": [
    "names =np_data[1:,0]\n",
    "name_head = []\n",
    "else_list = []\n",
    "for n in names:\n",
    "    n = n.replace(' ','')\n",
    "    if '공인중개사' in n:\n",
    "        name_head.append(n[:n.index('공인중개사')])\n",
    "    else :\n",
    "        else_list.append(n)"
   ]
  },
  {
   "cell_type": "code",
   "execution_count": 13,
   "id": "0c6bb5e2",
   "metadata": {},
   "outputs": [],
   "source": [
    "#s = 'abc 공인중개사'\n",
    "#s = s.replace(' ','')\n",
    "#print(s)\n",
    "#s[:s.index('공인중개사')]\n"
   ]
  },
  {
   "cell_type": "code",
   "execution_count": 19,
   "id": "714b8ec3",
   "metadata": {},
   "outputs": [
    {
     "name": "stdout",
     "output_type": "stream",
     "text": [
      "2551\n",
      "['미스터홈즈부동산중개광주장지센터', '삼동역힐스테이트부동산중개', '천일부동산중개사무소', '만세부동산중개', '대일부동산중개사무소', '산들부동산중개사무소', '또또부동산중개사무소', '도시개발부동산중개', '금부동산중개사무소', '바른정부동산중개사무소']\n"
     ]
    }
   ],
   "source": [
    "#print(name_head[:10])\n",
    "name,name_count = np.unique(name_head,return_counts = True)\n",
    "names = sorted(zip(name,name_count),key = lambda x:x[1], reverse = True)\n",
    "#print(names[:10])\n",
    "\n",
    "print(len(else_list))\n",
    "print(else_list[:10])                            "
   ]
  },
  {
   "cell_type": "code",
   "execution_count": 24,
   "id": "668cc6dd",
   "metadata": {},
   "outputs": [
    {
     "name": "stdout",
     "output_type": "stream",
     "text": [
      "['미스터홈즈', '삼동역힐스테이트', '천일', '만세', '대일', '산들', '또또', '도시개발', '금', '바른정']\n",
      "['중앙부동산', '콜부동산공인중개가사무소', '주식회사고창최금영', '더베스트부동사중개사무소', '안산뉴빌라부동산', '해운대엘시티중개법인주식회사', '주식회사부동산친구중개법인', '13단지내현대(2663-6600)공인', '마곡지구부동산전문닥터마곡럭스나인공인중', '오색공인중개새사무소']\n"
     ]
    }
   ],
   "source": [
    "name2 = []\n",
    "else2 = []\n",
    "for n in else_list:\n",
    "    n = n.replace(' ','')\n",
    "    if '부동산중개' in n:\n",
    "        name2.append(n[:n.index('부동산중개')])\n",
    "    else :\n",
    "        else2.append(n)\n",
    "\n",
    "print(name2[:10])\n",
    "print(else2[:10])\n"
   ]
  },
  {
   "cell_type": "code",
   "execution_count": 25,
   "id": "6d060062",
   "metadata": {},
   "outputs": [
    {
     "data": {
      "text/plain": [
       "[('주식회사', 30),\n",
       " ('', 25),\n",
       " ('미스터홈즈', 18),\n",
       " ('미래', 13),\n",
       " ('우리', 12),\n",
       " ('금강', 10),\n",
       " ('부자', 10),\n",
       " ('삼성', 10),\n",
       " ('제일', 10),\n",
       " ('한국', 10)]"
      ]
     },
     "execution_count": 25,
     "metadata": {},
     "output_type": "execute_result"
    }
   ],
   "source": [
    "x,x_count = np.unique(name2,return_counts= True)\n",
    "x_result = sorted(zip(x,x_count), key = lambda i:i[1], reverse = True )\n",
    "x_result[:10]"
   ]
  }
 ],
 "metadata": {
  "kernelspec": {
   "display_name": "Python 3 (ipykernel)",
   "language": "python",
   "name": "python3"
  },
  "language_info": {
   "codemirror_mode": {
    "name": "ipython",
    "version": 3
   },
   "file_extension": ".py",
   "mimetype": "text/x-python",
   "name": "python",
   "nbconvert_exporter": "python",
   "pygments_lexer": "ipython3",
   "version": "3.10.9"
  }
 },
 "nbformat": 4,
 "nbformat_minor": 5
}
