{
 "cells": [
  {
   "cell_type": "code",
   "execution_count": 2,
   "id": "f6912058",
   "metadata": {},
   "outputs": [
    {
     "name": "stdout",
     "output_type": "stream",
     "text": [
      "[]\n",
      "['a']\n"
     ]
    }
   ],
   "source": [
    "# list\n",
    "lista = []\n",
    "print(lista)\n",
    "\n",
    "lista.append('a')\n",
    "print(lista)"
   ]
  },
  {
   "cell_type": "code",
   "execution_count": 21,
   "id": "df5ee115",
   "metadata": {},
   "outputs": [
    {
     "name": "stdout",
     "output_type": "stream",
     "text": [
      "['a']\n",
      "[0 1 2 3 4]\n",
      "[0 1 2 3 4] <class 'numpy.ndarray'>\n",
      "[1 4]\n",
      "[0 2 4]\n",
      "[3 4]\n"
     ]
    }
   ],
   "source": [
    "#numpy ndarray\n",
    "\n",
    "import numpy as np\n",
    "\n",
    "array1 = np.array(lista)\n",
    "print(array1)\n",
    "array2 = np.array([1,2,3,4])\n",
    "array3 = np.array([x for x in range(5)])\n",
    "print(array3)\n",
    "\n",
    "print(array3,type(array3))\n",
    "\n",
    "print(array3[[1,4]])\n",
    "filter1 = array3%2 == 0\n",
    "print(array3[filter1])\n",
    "print(array3[array3>2])"
   ]
  },
  {
   "cell_type": "code",
   "execution_count": 26,
   "id": "28632a70",
   "metadata": {},
   "outputs": [
    {
     "name": "stdout",
     "output_type": "stream",
     "text": [
      "3\n",
      "4\n",
      "[3 4]\n"
     ]
    }
   ],
   "source": [
    "# for , if \n",
    "\n",
    "# for i in array3:\n",
    "#     print(i)\n",
    "\n",
    "# for i in range(5): # np.arange(5)랑 같음\n",
    "#     print(i)\n",
    "\n",
    "for i in range(5):\n",
    "    if i > 2:\n",
    "        print(i)\n",
    "        \n",
    "print(array3[array3>2])"
   ]
  },
  {
   "cell_type": "code",
   "execution_count": 30,
   "id": "3b92d69d",
   "metadata": {},
   "outputs": [
    {
     "name": "stdout",
     "output_type": "stream",
     "text": [
      "return_value :  100\n"
     ]
    }
   ],
   "source": [
    "#function\n",
    "\n",
    "def function_name(n):\n",
    "    return n*10\n",
    "    \n",
    "return_value = function_name(10)\n",
    "print('return_value : ',return_value)\n",
    "\n",
    "\n",
    "assert function_name(100) == 1000\n"
   ]
  },
  {
   "cell_type": "code",
   "execution_count": 76,
   "id": "06665d5e",
   "metadata": {},
   "outputs": [
    {
     "name": "stdout",
     "output_type": "stream",
     "text": [
      "[6, 34, 11, 98, 52, 34, 13, 4, 48, 68]\n",
      "[71, 42, 43, 6, 20, 17, 43, 71, 42, 89]\n",
      "3\n"
     ]
    }
   ],
   "source": [
    "import random\n",
    "\n",
    "random.seed(123)\n",
    "listb = []\n",
    "for i in range(10):\n",
    "    listb.append(random.randint(0,100))\n",
    "print(listb)\n",
    "      \n",
    "listc = [random.randint(0,100) for _ in range(10)] # \n",
    "print(listc)\n",
    "\n",
    "list_np = np.array(listb)\n",
    "list_np[list_np>50]\n",
    "print(len(list_np[list_np>50]))"
   ]
  }
 ],
 "metadata": {
  "kernelspec": {
   "display_name": "Python 3 (ipykernel)",
   "language": "python",
   "name": "python3"
  },
  "language_info": {
   "codemirror_mode": {
    "name": "ipython",
    "version": 3
   },
   "file_extension": ".py",
   "mimetype": "text/x-python",
   "name": "python",
   "nbconvert_exporter": "python",
   "pygments_lexer": "ipython3",
   "version": "3.10.9"
  }
 },
 "nbformat": 4,
 "nbformat_minor": 5
}
