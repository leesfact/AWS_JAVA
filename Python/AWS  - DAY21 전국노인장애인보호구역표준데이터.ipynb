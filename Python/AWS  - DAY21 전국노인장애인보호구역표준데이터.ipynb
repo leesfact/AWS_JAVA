{
 "cells": [
  {
   "cell_type": "markdown",
   "id": "a1b6c5c3",
   "metadata": {},
   "source": [
    "# 1~3 각 개별 jupyter note에서 전처리후, pickle 또는 csv 저장\n",
    "\n",
    "# 1. 전국일방통행도로표준데이터\n",
    "   - 시도명, 지정사유, 지정연도, 도로폭, 도로차로수, 보차분리여부\n",
    "\n",
    "# 2. 전국어린이보호구역표준데이터 시도명 작업필요\n",
    "   - 시설종류, 관할경찰서명, CCTV설치여부, CCTV설치대수, 제공기관명, 보호구역도로폭\n",
    "# 3. 전국노인장애인보호구역표준데이터\n",
    "   - 시도명, 제한속도, CCTV설치여부, CCTV설치대수, 보호구역도로폭\n",
    "# 4. 새로운 jupyter note에서 종합\n",
    "   - 시도명, 어린이보호구역 CCTV 설치대수, 노인장애인보호구역 CCTV 설치대수, 일반통행 보차분리 ycount"
   ]
  },
  {
   "cell_type": "code",
   "execution_count": 46,
   "id": "b041297d",
   "metadata": {},
   "outputs": [],
   "source": [
    "import numpy as np\n",
    "import pandas as pd\n",
    "import matplotlib.pyplot as plt"
   ]
  },
  {
   "cell_type": "code",
   "execution_count": 47,
   "id": "e91d5503",
   "metadata": {},
   "outputs": [
    {
     "name": "stdout",
     "output_type": "stream",
     "text": [
      "     시도명  제한속도 CCTV설치여부  CCTV설치대수 보호구역도로폭\n",
      "0  서울특별시    30        Y       1.0       3\n",
      "1   경상북도    30        N       NaN       6\n",
      "2   경상북도    30        N       NaN       6\n",
      "3   경상북도    30        N       NaN       7\n",
      "4   경상북도    30        N       NaN       7\n",
      "5   경상북도    30        N       NaN       6\n",
      "6   경상북도    30        N       NaN       8\n",
      "7   경상북도    30        N       NaN       7\n",
      "8   경상북도    30        N       NaN       9\n",
      "9   경상북도    30        N       NaN       6\n"
     ]
    }
   ],
   "source": [
    "pd_raw = pd.read_csv('전국노인장애인보호구역표준데이터.csv',encoding='cp949')\n",
    "#print(pd_raw.columns)\n",
    "columns_selection = ['시도명','제한속도','CCTV설치여부','CCTV설치대수','보호구역도로폭']\n",
    "pd_data = pd_raw[columns_selection]\n",
    "print(pd_data[:10])"
   ]
  },
  {
   "cell_type": "code",
   "execution_count": 48,
   "id": "f02d775b",
   "metadata": {},
   "outputs": [
    {
     "name": "stdout",
     "output_type": "stream",
     "text": [
      "(2518, 5)\n"
     ]
    },
    {
     "data": {
      "text/html": [
       "<div>\n",
       "<style scoped>\n",
       "    .dataframe tbody tr th:only-of-type {\n",
       "        vertical-align: middle;\n",
       "    }\n",
       "\n",
       "    .dataframe tbody tr th {\n",
       "        vertical-align: top;\n",
       "    }\n",
       "\n",
       "    .dataframe thead th {\n",
       "        text-align: right;\n",
       "    }\n",
       "</style>\n",
       "<table border=\"1\" class=\"dataframe\">\n",
       "  <thead>\n",
       "    <tr style=\"text-align: right;\">\n",
       "      <th></th>\n",
       "      <th>시도명</th>\n",
       "      <th>제한속도</th>\n",
       "      <th>CCTV설치여부</th>\n",
       "      <th>CCTV설치대수</th>\n",
       "      <th>보호구역도로폭</th>\n",
       "    </tr>\n",
       "  </thead>\n",
       "  <tbody>\n",
       "    <tr>\n",
       "      <th>count</th>\n",
       "      <td>2518</td>\n",
       "      <td>2518.000000</td>\n",
       "      <td>2518</td>\n",
       "      <td>967.000000</td>\n",
       "      <td>1484</td>\n",
       "    </tr>\n",
       "    <tr>\n",
       "      <th>unique</th>\n",
       "      <td>17</td>\n",
       "      <td>NaN</td>\n",
       "      <td>2</td>\n",
       "      <td>NaN</td>\n",
       "      <td>109</td>\n",
       "    </tr>\n",
       "    <tr>\n",
       "      <th>top</th>\n",
       "      <td>충청남도</td>\n",
       "      <td>NaN</td>\n",
       "      <td>N</td>\n",
       "      <td>NaN</td>\n",
       "      <td>6</td>\n",
       "    </tr>\n",
       "    <tr>\n",
       "      <th>freq</th>\n",
       "      <td>606</td>\n",
       "      <td>NaN</td>\n",
       "      <td>2010</td>\n",
       "      <td>NaN</td>\n",
       "      <td>301</td>\n",
       "    </tr>\n",
       "    <tr>\n",
       "      <th>mean</th>\n",
       "      <td>NaN</td>\n",
       "      <td>31.098094</td>\n",
       "      <td>NaN</td>\n",
       "      <td>0.633919</td>\n",
       "      <td>NaN</td>\n",
       "    </tr>\n",
       "    <tr>\n",
       "      <th>std</th>\n",
       "      <td>NaN</td>\n",
       "      <td>4.649784</td>\n",
       "      <td>NaN</td>\n",
       "      <td>1.008457</td>\n",
       "      <td>NaN</td>\n",
       "    </tr>\n",
       "    <tr>\n",
       "      <th>min</th>\n",
       "      <td>NaN</td>\n",
       "      <td>20.000000</td>\n",
       "      <td>NaN</td>\n",
       "      <td>0.000000</td>\n",
       "      <td>NaN</td>\n",
       "    </tr>\n",
       "    <tr>\n",
       "      <th>25%</th>\n",
       "      <td>NaN</td>\n",
       "      <td>30.000000</td>\n",
       "      <td>NaN</td>\n",
       "      <td>0.000000</td>\n",
       "      <td>NaN</td>\n",
       "    </tr>\n",
       "    <tr>\n",
       "      <th>50%</th>\n",
       "      <td>NaN</td>\n",
       "      <td>30.000000</td>\n",
       "      <td>NaN</td>\n",
       "      <td>0.000000</td>\n",
       "      <td>NaN</td>\n",
       "    </tr>\n",
       "    <tr>\n",
       "      <th>75%</th>\n",
       "      <td>NaN</td>\n",
       "      <td>30.000000</td>\n",
       "      <td>NaN</td>\n",
       "      <td>1.000000</td>\n",
       "      <td>NaN</td>\n",
       "    </tr>\n",
       "    <tr>\n",
       "      <th>max</th>\n",
       "      <td>NaN</td>\n",
       "      <td>60.000000</td>\n",
       "      <td>NaN</td>\n",
       "      <td>9.000000</td>\n",
       "      <td>NaN</td>\n",
       "    </tr>\n",
       "  </tbody>\n",
       "</table>\n",
       "</div>"
      ],
      "text/plain": [
       "         시도명         제한속도 CCTV설치여부    CCTV설치대수 보호구역도로폭\n",
       "count   2518  2518.000000     2518  967.000000    1484\n",
       "unique    17          NaN        2         NaN     109\n",
       "top     충청남도          NaN        N         NaN       6\n",
       "freq     606          NaN     2010         NaN     301\n",
       "mean     NaN    31.098094      NaN    0.633919     NaN\n",
       "std      NaN     4.649784      NaN    1.008457     NaN\n",
       "min      NaN    20.000000      NaN    0.000000     NaN\n",
       "25%      NaN    30.000000      NaN    0.000000     NaN\n",
       "50%      NaN    30.000000      NaN    0.000000     NaN\n",
       "75%      NaN    30.000000      NaN    1.000000     NaN\n",
       "max      NaN    60.000000      NaN    9.000000     NaN"
      ]
     },
     "execution_count": 48,
     "metadata": {},
     "output_type": "execute_result"
    }
   ],
   "source": [
    "print(pd_data.shape)\n",
    "pd_data.describe(include='all')"
   ]
  },
  {
   "cell_type": "code",
   "execution_count": 49,
   "id": "89312158",
   "metadata": {},
   "outputs": [
    {
     "name": "stdout",
     "output_type": "stream",
     "text": [
      "시도명 False\n",
      "제한속도 False\n",
      "CCTV설치여부 False\n",
      "CCTV설치대수 True\n",
      "True     1551\n",
      "False     967\n",
      "Name: CCTV설치대수, dtype: int64\n",
      "보호구역도로폭 True\n",
      "False    1484\n",
      "True     1034\n",
      "Name: 보호구역도로폭, dtype: int64\n"
     ]
    }
   ],
   "source": [
    "for e in pd_data.columns:\n",
    "    print(e,pd_data[e].hasnans)\n",
    "    if pd_data[e].hasnans:\n",
    "        print(pd_data[e].isna().value_counts())"
   ]
  },
  {
   "cell_type": "code",
   "execution_count": 17,
   "id": "6d32346e",
   "metadata": {},
   "outputs": [],
   "source": [
    "#시도명\n",
    "# '시도명' 컬럼에 있는 모든 값들을 중복을 제거하고 (uniqie) 출력\n",
    "#print(pd_data['시도명'].unique())\n",
    "# '시도명' 컬럼에 결측값이 존재하는지 여부를 출력\n",
    "# 만약 결측값이 존재한다면 'True', 존재하지않으면 'False'\n",
    "#print('결측값 존재여부: ',pd_data['시도명'].hasnans)\n",
    "\n",
    "# 결측치 : 없음\n",
    "# 오류치 : 없음\n",
    "# 이상치 : 없음"
   ]
  },
  {
   "cell_type": "code",
   "execution_count": 50,
   "id": "4d4b6559",
   "metadata": {},
   "outputs": [
    {
     "name": "stdout",
     "output_type": "stream",
     "text": [
      "[30 50 60 40 38 39 41 42 43 44 45 46 47 48 49 51 52 53 54 55 31 32 33 34\n",
      " 35 36 37 20]\n",
      "False\n",
      "False    2518\n",
      "Name: 제한속도, dtype: int64\n"
     ]
    }
   ],
   "source": [
    "# 제한속도\n",
    "print(pd_data['제한속도'].unique())\n",
    "print(pd_data['제한속도'].hasnans)\n",
    "\n",
    "# 결측치 :\n",
    "# pd_data['제한속도'].isna() : '제한속도' 컬럼의 각 행마다 결측값 여부를 판단\n",
    "# 결측값이 있는 행은 'True', 결측값이 없는 행은 'False'로 표시\n",
    "na_filter = pd_data['제한속도'].isna()\n",
    "#print(na_filter)\n",
    "# na_filter.value_counts() : 결측값이 있는 행과 없는 행의 개수를 세어 출력\n",
    "# 'True'는 결측값이 있는 행의 개수, 'False'는 결측값이 없는 행의 개수\n",
    "print(na_filter.value_counts())\n",
    "\n",
    "# 결측치 : 없음\n",
    "# 오류치 : 없음\n",
    "# 이상치 : 없음"
   ]
  },
  {
   "cell_type": "code",
   "execution_count": 51,
   "id": "21b7c39a",
   "metadata": {},
   "outputs": [
    {
     "name": "stdout",
     "output_type": "stream",
     "text": [
      "['Y' 'N']\n",
      "False\n",
      "False    2518\n",
      "Name: CCTV설치여부, dtype: int64\n"
     ]
    }
   ],
   "source": [
    "# CCTV설치여부\n",
    "print(pd_data['CCTV설치여부'].unique())\n",
    "print(pd_data['CCTV설치여부'].hasnans)\n",
    "\n",
    "na_filter = pd_data['CCTV설치여부'].isna()\n",
    "print(na_filter.value_counts())\n",
    "# 결측치 : 없음\n",
    "# 오류치 : 없음\n",
    "# 이상치 : 없음"
   ]
  },
  {
   "cell_type": "code",
   "execution_count": 56,
   "id": "35fba25a",
   "metadata": {},
   "outputs": [
    {
     "name": "stdout",
     "output_type": "stream",
     "text": [
      "[ 1. nan  0.  2.  4.  3.  5.  8.  9.]\n",
      "True\n",
      "True     1551\n",
      "False     967\n",
      "Name: CCTV설치대수, dtype: int64\n",
      "False    2518\n",
      "Name: CCTV설치대수, dtype: int64\n",
      "정수형 CCTV설치대수 데이터 개수: 0\n"
     ]
    }
   ],
   "source": [
    "#CCTV설치대수\n",
    "print(pd_data['CCTV설치대수'].unique())\n",
    "print(pd_data['CCTV설치대수'].hasnans)\n",
    "na_filter = pd_data['CCTV설치대수'].isna()\n",
    "print(na_filter.value_counts())\n",
    "na_filter = pd_data['CCTV설치대수'] == np.NaN\n",
    "print(na_filter.value_counts())\n",
    "pd_data.loc[na_filter,'CCTV설치대수'] = 0\n",
    "\n",
    "# 공란의 데이터를 0으로 바꾼 후, 'CCTV설치대수' 컬럼의 값이 정수형인 행을 선택합니다.\n",
    "valid_cctv = pd_data['CCTV설치대수'].apply(lambda x: str(x).isdigit())\n",
    "valid_cctv_count = len(pd_data[valid_cctv])\n",
    "\n",
    "print(f\"정수형 CCTV설치대수 데이터 개수: {valid_cctv_count}\")"
   ]
  },
  {
   "cell_type": "code",
   "execution_count": 57,
   "id": "59fb1233",
   "metadata": {},
   "outputs": [
    {
     "name": "stdout",
     "output_type": "stream",
     "text": [
      "count     2518\n",
      "unique     110\n",
      "top          0\n",
      "freq      1034\n",
      "Name: 보호구역도로폭, dtype: int64\n"
     ]
    }
   ],
   "source": [
    "# 보호구역도로폭\n",
    "#print(pd_data['보호구역도로폭'].unique())\n",
    "#print(pd_data['보호구역도로폭'].hasnans)\n",
    "\n",
    "na_filter = pd_data['보호구역도로폭'].isna()\n",
    "#print('필터 전:',na_filter.value_counts())\n",
    "pd_data.loc[na_filter,'보호구역도로폭'] = 0\n",
    "#print(pd_data['보호구역도로폭'].unique())\n",
    "#print(pd_data['보호구역도로폭'].hasnans)\n",
    "#print('필터 후:',na_filter.value_counts())\n",
    "\n",
    "# 결측치, 오류치 : 없음\n",
    "# 이상치 : \n",
    "print(pd_data['보호구역도로폭'].describe())"
   ]
  },
  {
   "cell_type": "code",
   "execution_count": null,
   "id": "d493e3bf",
   "metadata": {},
   "outputs": [],
   "source": [
    "#DataFrame을 생성\n",
    "# df = pd.DataFrame({'column':[1,2,3],'column2':['a','b','c']})\n",
    "# CSV 파일로 저장\n",
    "# df-to_scv('output.csv', index = False)"
   ]
  }
 ],
 "metadata": {
  "kernelspec": {
   "display_name": "Python 3 (ipykernel)",
   "language": "python",
   "name": "python3"
  },
  "language_info": {
   "codemirror_mode": {
    "name": "ipython",
    "version": 3
   },
   "file_extension": ".py",
   "mimetype": "text/x-python",
   "name": "python",
   "nbconvert_exporter": "python",
   "pygments_lexer": "ipython3",
   "version": "3.10.9"
  }
 },
 "nbformat": 4,
 "nbformat_minor": 5
}
