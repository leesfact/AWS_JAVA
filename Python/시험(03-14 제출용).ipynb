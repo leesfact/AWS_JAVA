{
 "cells": [
  {
   "cell_type": "markdown",
   "id": "0165d933",
   "metadata": {},
   "source": [
    "### 시각화 전략\n",
    "- 시각화의 목표\n",
    "- 시각화의 범위\n",
    "- 시각화의 개발절차\n",
    "\n",
    "### 시각화 요구사항\n",
    "- 사용자 수준 / 취향\n",
    "- 시나리오 : 스토리보드 개발\n",
    "\n",
    "### 데이터 시각화 명세서\n",
    "- 시각화 표현의 형태, 규칙, 패턴, 상호작용\n",
    "\n",
    "### 시각화 명세서 기반 설계\n",
    "- 시각화 UI 설계"
   ]
  },
  {
   "cell_type": "markdown",
   "id": "89298d0d",
   "metadata": {},
   "source": [
    "# 예시 : 이륜차 등록대수\n",
    "\n",
    "### 시각화 전략\n",
    "- 시각화의 목표 : 코로나와 배달 이륜차 등록대수 관계\n",
    "- 시각화의 범위 : 부산광역시\n",
    "- 시각화의 개발절차 : kosis.kr에서 데이터 확보, 분석 후 시각화\n",
    "\n",
    "### 시각화 요구사항\n",
    "- 사용자 수준 / 취향 / 목적 : 배달 알바를 해야하는가 고민중\n",
    "- 시나리오 / 스토리보드 개발 : 코로나 전에 비해 코로나 기간 중 폭발적 증가세 보임. 코라나 이후 급격한 감소세. 이전보다는 많은것이 사실이나 많이 빠졌음\n",
    "\n",
    "###  데이터 시각화 명세서 \n",
    "- 시각화 표현의 형태, 규칙, 패턴, 상호작용 : 년도별 lineplot, 시기별 중형 이륜차 비율, 눈으로 크기 확인 용히할 경우 숫자 표시 하지 않음"
   ]
  },
  {
   "cell_type": "markdown",
   "id": "5aa48c8a",
   "metadata": {},
   "source": [
    "# UCI machine learing repo : abalone\n",
    "- 상황 : 전복회를 사려는 사람. 암수 구분해서 주문하는 것이 이득인지 알고 싶음\n",
    "\n",
    "- whole weight : 전체무게\n",
    "- shucked weight : 살점 무게\n",
    "- vicera weight : 내장 무게\n",
    "- shell weight : 껍질 무게"
   ]
  },
  {
   "cell_type": "code",
   "execution_count": 97,
   "id": "3a86a74a",
   "metadata": {},
   "outputs": [],
   "source": [
    "import requests\n",
    "import numpy as np\n",
    "import pandas as pd\n",
    "import matplotlib.pyplot  as plt\n",
    "import matplotlib\n",
    "import seaborn as sns"
   ]
  },
  {
   "cell_type": "code",
   "execution_count": 43,
   "id": "fb8e9124",
   "metadata": {},
   "outputs": [],
   "source": [
    "current_font_list = matplotlib.rcParams['font.family']\n",
    "\n",
    "font_path = \"C:\\Windows\\Fonts\\HMFMPYUN.TTF\"\n",
    "kfont = matplotlib.font_manager.FontProperties(fname=font_path).get_name()\n",
    "#print(kfont)\n",
    "matplotlib.rcParams['font.family'] = [kfont]+current_font_list"
   ]
  },
  {
   "cell_type": "code",
   "execution_count": 7,
   "id": "7ddbc855",
   "metadata": {},
   "outputs": [
    {
     "data": {
      "text/html": [
       "<div>\n",
       "<style scoped>\n",
       "    .dataframe tbody tr th:only-of-type {\n",
       "        vertical-align: middle;\n",
       "    }\n",
       "\n",
       "    .dataframe tbody tr th {\n",
       "        vertical-align: top;\n",
       "    }\n",
       "\n",
       "    .dataframe thead th {\n",
       "        text-align: right;\n",
       "    }\n",
       "</style>\n",
       "<table border=\"1\" class=\"dataframe\">\n",
       "  <thead>\n",
       "    <tr style=\"text-align: right;\">\n",
       "      <th></th>\n",
       "      <th>Sex</th>\n",
       "      <th>Length</th>\n",
       "      <th>Diameter</th>\n",
       "      <th>Height</th>\n",
       "      <th>Whole weight</th>\n",
       "      <th>Shucked weight</th>\n",
       "      <th>Viscera weight</th>\n",
       "      <th>Shell weight</th>\n",
       "      <th>Rings</th>\n",
       "    </tr>\n",
       "  </thead>\n",
       "  <tbody>\n",
       "    <tr>\n",
       "      <th>0</th>\n",
       "      <td>M</td>\n",
       "      <td>0.455</td>\n",
       "      <td>0.365</td>\n",
       "      <td>0.095</td>\n",
       "      <td>0.514</td>\n",
       "      <td>0.2245</td>\n",
       "      <td>0.101</td>\n",
       "      <td>0.15</td>\n",
       "      <td>15</td>\n",
       "    </tr>\n",
       "    <tr>\n",
       "      <th>1</th>\n",
       "      <td>M</td>\n",
       "      <td>0.35</td>\n",
       "      <td>0.265</td>\n",
       "      <td>0.09</td>\n",
       "      <td>0.2255</td>\n",
       "      <td>0.0995</td>\n",
       "      <td>0.0485</td>\n",
       "      <td>0.07</td>\n",
       "      <td>7</td>\n",
       "    </tr>\n",
       "    <tr>\n",
       "      <th>2</th>\n",
       "      <td>F</td>\n",
       "      <td>0.53</td>\n",
       "      <td>0.42</td>\n",
       "      <td>0.135</td>\n",
       "      <td>0.677</td>\n",
       "      <td>0.2565</td>\n",
       "      <td>0.1415</td>\n",
       "      <td>0.21</td>\n",
       "      <td>9</td>\n",
       "    </tr>\n",
       "    <tr>\n",
       "      <th>3</th>\n",
       "      <td>M</td>\n",
       "      <td>0.44</td>\n",
       "      <td>0.365</td>\n",
       "      <td>0.125</td>\n",
       "      <td>0.516</td>\n",
       "      <td>0.2155</td>\n",
       "      <td>0.114</td>\n",
       "      <td>0.155</td>\n",
       "      <td>10</td>\n",
       "    </tr>\n",
       "    <tr>\n",
       "      <th>4</th>\n",
       "      <td>I</td>\n",
       "      <td>0.33</td>\n",
       "      <td>0.255</td>\n",
       "      <td>0.08</td>\n",
       "      <td>0.205</td>\n",
       "      <td>0.0895</td>\n",
       "      <td>0.0395</td>\n",
       "      <td>0.055</td>\n",
       "      <td>7</td>\n",
       "    </tr>\n",
       "  </tbody>\n",
       "</table>\n",
       "</div>"
      ],
      "text/plain": [
       "  Sex Length Diameter Height Whole weight Shucked weight Viscera weight  \\\n",
       "0   M  0.455    0.365  0.095        0.514         0.2245          0.101   \n",
       "1   M   0.35    0.265   0.09       0.2255         0.0995         0.0485   \n",
       "2   F   0.53     0.42  0.135        0.677         0.2565         0.1415   \n",
       "3   M   0.44    0.365  0.125        0.516         0.2155          0.114   \n",
       "4   I   0.33    0.255   0.08        0.205         0.0895         0.0395   \n",
       "\n",
       "  Shell weight Rings  \n",
       "0         0.15    15  \n",
       "1         0.07     7  \n",
       "2         0.21     9  \n",
       "3        0.155    10  \n",
       "4        0.055     7  "
      ]
     },
     "execution_count": 7,
     "metadata": {},
     "output_type": "execute_result"
    }
   ],
   "source": [
    "import pandas as pd\n",
    "csv_data = []\n",
    "url = 'https://archive.ics.uci.edu/ml/machine-learning-databases/abalone/abalone.data'\n",
    "response = requests.get(url)\n",
    "\n",
    "if response.status_code == 200:\n",
    "    data = response.content.decode('utf-8')\n",
    "    csv_data += data.splitlines()\n",
    "else:\n",
    "    pass\n",
    "\n",
    "csv_data2 = [e.split(',') for e in csv_data]\n",
    "\n",
    "df = pd.DataFrame(csv_data2, columns=['Sex', 'Length', 'Diameter', 'Height', 'Whole weight', \n",
    "                                      'Shucked weight', 'Viscera weight', 'Shell weight', 'Rings'])\n",
    "\n",
    "df.head()"
   ]
  },
  {
   "cell_type": "code",
   "execution_count": 8,
   "id": "92ece7b2",
   "metadata": {},
   "outputs": [
    {
     "data": {
      "text/plain": [
       "(4177, 9)"
      ]
     },
     "execution_count": 8,
     "metadata": {},
     "output_type": "execute_result"
    }
   ],
   "source": [
    "df.shape # shape 확인"
   ]
  },
  {
   "cell_type": "code",
   "execution_count": 53,
   "id": "468c1d0c",
   "metadata": {},
   "outputs": [
    {
     "name": "stdout",
     "output_type": "stream",
     "text": [
      "<class 'pandas.core.frame.DataFrame'>\n",
      "RangeIndex: 4177 entries, 0 to 4176\n",
      "Data columns (total 9 columns):\n",
      " #   Column          Non-Null Count  Dtype  \n",
      "---  ------          --------------  -----  \n",
      " 0   Sex             4177 non-null   object \n",
      " 1   Length          4177 non-null   object \n",
      " 2   Diameter        4177 non-null   object \n",
      " 3   Height          4177 non-null   object \n",
      " 4   Whole weight    4177 non-null   float64\n",
      " 5   Shucked weight  4177 non-null   float64\n",
      " 6   Viscera weight  4177 non-null   object \n",
      " 7   Shell weight    4177 non-null   object \n",
      " 8   Rings           4177 non-null   object \n",
      "dtypes: float64(2), object(7)\n",
      "memory usage: 293.8+ KB\n"
     ]
    }
   ],
   "source": [
    "df.info()"
   ]
  },
  {
   "cell_type": "code",
   "execution_count": 12,
   "id": "a9cef425",
   "metadata": {},
   "outputs": [
    {
     "data": {
      "text/plain": [
       "Sex               0\n",
       "Length            0\n",
       "Diameter          0\n",
       "Height            0\n",
       "Whole weight      0\n",
       "Shucked weight    0\n",
       "Viscera weight    0\n",
       "Shell weight      0\n",
       "Rings             0\n",
       "dtype: int64"
      ]
     },
     "execution_count": 12,
     "metadata": {},
     "output_type": "execute_result"
    }
   ],
   "source": [
    "df.isnull().sum() #결측지 확인"
   ]
  },
  {
   "cell_type": "code",
   "execution_count": 59,
   "id": "7177695f",
   "metadata": {},
   "outputs": [
    {
     "data": {
      "text/html": [
       "<div>\n",
       "<style scoped>\n",
       "    .dataframe tbody tr th:only-of-type {\n",
       "        vertical-align: middle;\n",
       "    }\n",
       "\n",
       "    .dataframe tbody tr th {\n",
       "        vertical-align: top;\n",
       "    }\n",
       "\n",
       "    .dataframe thead th {\n",
       "        text-align: right;\n",
       "    }\n",
       "</style>\n",
       "<table border=\"1\" class=\"dataframe\">\n",
       "  <thead>\n",
       "    <tr style=\"text-align: right;\">\n",
       "      <th></th>\n",
       "      <th>Sex</th>\n",
       "      <th>Length</th>\n",
       "      <th>Diameter</th>\n",
       "      <th>Height</th>\n",
       "      <th>Whole weight</th>\n",
       "      <th>Shucked weight</th>\n",
       "      <th>Viscera weight</th>\n",
       "      <th>Shell weight</th>\n",
       "      <th>Rings</th>\n",
       "    </tr>\n",
       "  </thead>\n",
       "  <tbody>\n",
       "    <tr>\n",
       "      <th>count</th>\n",
       "      <td>4177</td>\n",
       "      <td>4177</td>\n",
       "      <td>4177</td>\n",
       "      <td>4177</td>\n",
       "      <td>4177.000000</td>\n",
       "      <td>4177.000000</td>\n",
       "      <td>4177</td>\n",
       "      <td>4177</td>\n",
       "      <td>4177</td>\n",
       "    </tr>\n",
       "    <tr>\n",
       "      <th>unique</th>\n",
       "      <td>3</td>\n",
       "      <td>134</td>\n",
       "      <td>111</td>\n",
       "      <td>51</td>\n",
       "      <td>NaN</td>\n",
       "      <td>NaN</td>\n",
       "      <td>880</td>\n",
       "      <td>926</td>\n",
       "      <td>28</td>\n",
       "    </tr>\n",
       "    <tr>\n",
       "      <th>top</th>\n",
       "      <td>M</td>\n",
       "      <td>0.625</td>\n",
       "      <td>0.45</td>\n",
       "      <td>0.15</td>\n",
       "      <td>NaN</td>\n",
       "      <td>NaN</td>\n",
       "      <td>0.1715</td>\n",
       "      <td>0.275</td>\n",
       "      <td>9</td>\n",
       "    </tr>\n",
       "    <tr>\n",
       "      <th>freq</th>\n",
       "      <td>1528</td>\n",
       "      <td>94</td>\n",
       "      <td>139</td>\n",
       "      <td>267</td>\n",
       "      <td>NaN</td>\n",
       "      <td>NaN</td>\n",
       "      <td>15</td>\n",
       "      <td>43</td>\n",
       "      <td>689</td>\n",
       "    </tr>\n",
       "    <tr>\n",
       "      <th>mean</th>\n",
       "      <td>NaN</td>\n",
       "      <td>NaN</td>\n",
       "      <td>NaN</td>\n",
       "      <td>NaN</td>\n",
       "      <td>0.828742</td>\n",
       "      <td>0.359367</td>\n",
       "      <td>NaN</td>\n",
       "      <td>NaN</td>\n",
       "      <td>NaN</td>\n",
       "    </tr>\n",
       "    <tr>\n",
       "      <th>std</th>\n",
       "      <td>NaN</td>\n",
       "      <td>NaN</td>\n",
       "      <td>NaN</td>\n",
       "      <td>NaN</td>\n",
       "      <td>0.490389</td>\n",
       "      <td>0.221963</td>\n",
       "      <td>NaN</td>\n",
       "      <td>NaN</td>\n",
       "      <td>NaN</td>\n",
       "    </tr>\n",
       "    <tr>\n",
       "      <th>min</th>\n",
       "      <td>NaN</td>\n",
       "      <td>NaN</td>\n",
       "      <td>NaN</td>\n",
       "      <td>NaN</td>\n",
       "      <td>0.002000</td>\n",
       "      <td>0.001000</td>\n",
       "      <td>NaN</td>\n",
       "      <td>NaN</td>\n",
       "      <td>NaN</td>\n",
       "    </tr>\n",
       "    <tr>\n",
       "      <th>25%</th>\n",
       "      <td>NaN</td>\n",
       "      <td>NaN</td>\n",
       "      <td>NaN</td>\n",
       "      <td>NaN</td>\n",
       "      <td>0.441500</td>\n",
       "      <td>0.186000</td>\n",
       "      <td>NaN</td>\n",
       "      <td>NaN</td>\n",
       "      <td>NaN</td>\n",
       "    </tr>\n",
       "    <tr>\n",
       "      <th>50%</th>\n",
       "      <td>NaN</td>\n",
       "      <td>NaN</td>\n",
       "      <td>NaN</td>\n",
       "      <td>NaN</td>\n",
       "      <td>0.799500</td>\n",
       "      <td>0.336000</td>\n",
       "      <td>NaN</td>\n",
       "      <td>NaN</td>\n",
       "      <td>NaN</td>\n",
       "    </tr>\n",
       "    <tr>\n",
       "      <th>75%</th>\n",
       "      <td>NaN</td>\n",
       "      <td>NaN</td>\n",
       "      <td>NaN</td>\n",
       "      <td>NaN</td>\n",
       "      <td>1.153000</td>\n",
       "      <td>0.502000</td>\n",
       "      <td>NaN</td>\n",
       "      <td>NaN</td>\n",
       "      <td>NaN</td>\n",
       "    </tr>\n",
       "    <tr>\n",
       "      <th>max</th>\n",
       "      <td>NaN</td>\n",
       "      <td>NaN</td>\n",
       "      <td>NaN</td>\n",
       "      <td>NaN</td>\n",
       "      <td>2.825500</td>\n",
       "      <td>1.488000</td>\n",
       "      <td>NaN</td>\n",
       "      <td>NaN</td>\n",
       "      <td>NaN</td>\n",
       "    </tr>\n",
       "  </tbody>\n",
       "</table>\n",
       "</div>"
      ],
      "text/plain": [
       "         Sex Length Diameter Height  Whole weight  Shucked weight  \\\n",
       "count   4177   4177     4177   4177   4177.000000     4177.000000   \n",
       "unique     3    134      111     51           NaN             NaN   \n",
       "top        M  0.625     0.45   0.15           NaN             NaN   \n",
       "freq    1528     94      139    267           NaN             NaN   \n",
       "mean     NaN    NaN      NaN    NaN      0.828742        0.359367   \n",
       "std      NaN    NaN      NaN    NaN      0.490389        0.221963   \n",
       "min      NaN    NaN      NaN    NaN      0.002000        0.001000   \n",
       "25%      NaN    NaN      NaN    NaN      0.441500        0.186000   \n",
       "50%      NaN    NaN      NaN    NaN      0.799500        0.336000   \n",
       "75%      NaN    NaN      NaN    NaN      1.153000        0.502000   \n",
       "max      NaN    NaN      NaN    NaN      2.825500        1.488000   \n",
       "\n",
       "       Viscera weight Shell weight Rings  \n",
       "count            4177         4177  4177  \n",
       "unique            880          926    28  \n",
       "top            0.1715        0.275     9  \n",
       "freq               15           43   689  \n",
       "mean              NaN          NaN   NaN  \n",
       "std               NaN          NaN   NaN  \n",
       "min               NaN          NaN   NaN  \n",
       "25%               NaN          NaN   NaN  \n",
       "50%               NaN          NaN   NaN  \n",
       "75%               NaN          NaN   NaN  \n",
       "max               NaN          NaN   NaN  "
      ]
     },
     "execution_count": 59,
     "metadata": {},
     "output_type": "execute_result"
    }
   ],
   "source": [
    "df.describe(include='all')"
   ]
  },
  {
   "cell_type": "markdown",
   "id": "fc1c5c83",
   "metadata": {},
   "source": [
    "# Length, Diameter,  Height, Whole weight  \n",
    "# Shucked weight, Viscera weight, Shell weight  \n",
    "# object -> 숫자로 변환"
   ]
  },
  {
   "cell_type": "code",
   "execution_count": 62,
   "id": "c5804165",
   "metadata": {},
   "outputs": [],
   "source": [
    "df['Length'] = pd.to_numeric(df['Length'])\n",
    "df['Diameter'] = pd.to_numeric(df['Diameter'])\n",
    "df['Height'] = pd.to_numeric(df['Height'])\n",
    "df['Whole weight'] = pd.to_numeric(df['Whole weight'])\n",
    "df['Shucked weight'] = pd.to_numeric(df['Shucked weight'])\n",
    "df['Viscera weight'] = pd.to_numeric(df['Viscera weight'])\n",
    "df['Shell weight'] = pd.to_numeric(df['Shell weight'])\n",
    "df['Rings'] = pd.to_numeric(df['Rings'])"
   ]
  },
  {
   "cell_type": "code",
   "execution_count": 63,
   "id": "4a3208d1",
   "metadata": {},
   "outputs": [
    {
     "name": "stdout",
     "output_type": "stream",
     "text": [
      "<class 'pandas.core.frame.DataFrame'>\n",
      "RangeIndex: 4177 entries, 0 to 4176\n",
      "Data columns (total 9 columns):\n",
      " #   Column          Non-Null Count  Dtype  \n",
      "---  ------          --------------  -----  \n",
      " 0   Sex             4177 non-null   object \n",
      " 1   Length          4177 non-null   float64\n",
      " 2   Diameter        4177 non-null   float64\n",
      " 3   Height          4177 non-null   float64\n",
      " 4   Whole weight    4177 non-null   float64\n",
      " 5   Shucked weight  4177 non-null   float64\n",
      " 6   Viscera weight  4177 non-null   float64\n",
      " 7   Shell weight    4177 non-null   float64\n",
      " 8   Rings           4177 non-null   int64  \n",
      "dtypes: float64(7), int64(1), object(1)\n",
      "memory usage: 293.8+ KB\n"
     ]
    }
   ],
   "source": [
    "df.info()"
   ]
  },
  {
   "cell_type": "markdown",
   "id": "d775a1be",
   "metadata": {},
   "source": [
    "# 성별에 따른 전체 평균 무게 (M -> F -> I 순서)"
   ]
  },
  {
   "cell_type": "code",
   "execution_count": 119,
   "id": "b908b92b",
   "metadata": {},
   "outputs": [
    {
     "data": {
      "text/plain": [
       "Sex\n",
       "F    1.046532\n",
       "I    0.431363\n",
       "M    0.991459\n",
       "Name: Whole weight, dtype: float64"
      ]
     },
     "execution_count": 119,
     "metadata": {},
     "output_type": "execute_result"
    }
   ],
   "source": [
    "grouped = df['Whole weight'].groupby(df['Sex'])\n",
    "grouped\n",
    "grouped.mean()\n",
    "#grouped.mean()\n",
    "\n",
    "\n"
   ]
  },
  {
   "cell_type": "code",
   "execution_count": 107,
   "id": "38a20b57",
   "metadata": {},
   "outputs": [
    {
     "data": {
      "image/png": "[encoded data removed]",
      "text/plain": [
       "<Figure size 640x480 with 1 Axes>"
      ]
     },
     "metadata": {},
     "output_type": "display_data"
    }
   ],
   "source": [
    "\n",
    "# 그래프 그리기\n",
    "plt.bar(['F', 'I', 'M'], grouped.mean(), color=['indianred', 'limegreen', 'steelblue'])\n",
    "\n",
    "\n",
    "# y축 눈끔 키우기\n",
    "plt.yticks(fontsize=15)\n",
    "# 그래프 제목, x축 라벨, y축 라벨 설정\n",
    "plt.title('성별에 따른 전체 평균 무게')\n",
    "plt.xlabel('성')\n",
    "plt.ylabel('무게')\n",
    "\n",
    "# 그래프 출력\n",
    "plt.show()\n"
   ]
  },
  {
   "cell_type": "markdown",
   "id": "e87e54d3",
   "metadata": {},
   "source": [
    "# 성별에 따른 살점 평균 무게 ( M -> F ->I 순서)"
   ]
  },
  {
   "cell_type": "code",
   "execution_count": 108,
   "id": "75a8856f",
   "metadata": {},
   "outputs": [
    {
     "data": {
      "text/plain": [
       "Sex\n",
       "F    0.446188\n",
       "I    0.191035\n",
       "M    0.432946\n",
       "Name: Shucked weight, dtype: float64"
      ]
     },
     "execution_count": 108,
     "metadata": {},
     "output_type": "execute_result"
    }
   ],
   "source": [
    "grouped = df['Shucked weight'].groupby(df['Sex'])\n",
    "grouped\n",
    "\n",
    "grouped.mean()\n"
   ]
  },
  {
   "cell_type": "code",
   "execution_count": 109,
   "id": "23a17aa0",
   "metadata": {},
   "outputs": [
    {
     "data": {
      "image/png": "[encoded data removed]",
      "text/plain": [
       "<Figure size 640x480 with 1 Axes>"
      ]
     },
     "metadata": {},
     "output_type": "display_data"
    }
   ],
   "source": [
    "# 그래프 그리기\n",
    "plt.bar(['F', 'I', 'M'], grouped.mean(), color=['indianred', 'limegreen', 'steelblue'])\n",
    "\n",
    "\n",
    "# y축 눈끔 키우기\n",
    "plt.yticks(fontsize=15)\n",
    "# 그래프 제목, x축 라벨, y축 라벨 설정\n",
    "plt.title('성별에 따른 살점 평균 무게')\n",
    "plt.xlabel('성')\n",
    "plt.ylabel('무게')\n",
    "\n",
    "# 그래프 출력\n",
    "plt.show()"
   ]
  },
  {
   "cell_type": "markdown",
   "id": "43724202",
   "metadata": {},
   "source": [
    "# 성별에 따른 평균 무게 상관도 (산점도 그래프)"
   ]
  },
  {
   "cell_type": "code",
   "execution_count": 120,
   "id": "1f8fc5c1",
   "metadata": {},
   "outputs": [
    {
     "data": {
      "image/png": "[encoded data removed]",
      "text/plain": [
       "<Figure size 1000x500 with 2 Axes>"
      ]
     },
     "metadata": {},
     "output_type": "display_data"
    }
   ],
   "source": [
    "# 성별에 따른 평균 무게 계산\n",
    "mean_weight_whole = df.groupby('Sex')['Whole weight'].mean()\n",
    "mean_weight_shucked = df.groupby('Sex')['Shucked weight'].mean()\n",
    "\n",
    "# subplots 생성\n",
    "fig, ax = plt.subplots(1, 2, figsize=(10, 5))\n",
    "\n",
    "# 산점도 그리기\n",
    "ax[0].scatter(mean_weight_whole.values, mean_weight_whole.index)\n",
    "ax[1].scatter(mean_weight_shucked.values, mean_weight_shucked.index)\n",
    "\n",
    "# x축, y축 레이블 설정\n",
    "ax[0].set_xlabel('평균 전체무게')\n",
    "ax[0].set_ylabel('성별')\n",
    "ax[1].set_xlabel('평균 살점무게')\n",
    "ax[1].set_ylabel('성별')\n",
    "\n",
    "# 그래프 제목 설정\n",
    "ax[0].set_title('성별에 따른 평균 전체무게')\n",
    "ax[1].set_title('성별에 따른 평균 살점무게')\n",
    "\n",
    "# 그래프 출력\n",
    "plt.show()\n"
   ]
  },
  {
   "cell_type": "markdown",
   "id": "4a6c21a7",
   "metadata": {},
   "source": [
    "# 위 그래프를 보면 성별에 따른 평균 무게(전체무게, 살점무게)는 상관이 없다고 봐야한다. \n",
    "# 따라서, 암수 구분해서 주문하는 것은 의미가 없다고 봐도 무방(단, I(infant)는 논외)"
   ]
  }
 ],
 "metadata": {
  "kernelspec": {
   "display_name": "Python 3 (ipykernel)",
   "language": "python",
   "name": "python3"
  },
  "language_info": {
   "codemirror_mode": {
    "name": "ipython",
    "version": 3
   },
   "file_extension": ".py",
   "mimetype": "text/x-python",
   "name": "python",
   "nbconvert_exporter": "python",
   "pygments_lexer": "ipython3",
   "version": "3.10.9"
  }
 },
 "nbformat": 4,
 "nbformat_minor": 5
}
