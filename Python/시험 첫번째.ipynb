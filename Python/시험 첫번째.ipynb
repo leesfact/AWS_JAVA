{
 "cells": [
  {
   "cell_type": "markdown",
   "id": "5f9c4590",
   "metadata": {},
   "source": [
    "함수 my_sq_prod 의 요구사항\n",
    "\n",
    "* 매개변수: python list\n",
    "\n",
    "* 반환값: 입력된 리스트의 각 element 값을 제곱한 값의 곱을 반환"
   ]
  },
  {
   "cell_type": "code",
   "execution_count": 4,
   "id": "ce707b5c",
   "metadata": {},
   "outputs": [
    {
     "data": {
      "text/plain": [
       "36"
      ]
     },
     "execution_count": 4,
     "metadata": {},
     "output_type": "execute_result"
    }
   ],
   "source": [
    "def my_sq_prod(number_list):\n",
    "    return_value = 1\n",
    "    for number in number_list:\n",
    "        return_value = return_value * number**2\n",
    "    return return_value\n",
    "\n",
    "\n",
    "my_sq_prod([1,2,3])"
   ]
  },
  {
   "cell_type": "code",
   "execution_count": 7,
   "id": "4ab284af",
   "metadata": {},
   "outputs": [
    {
     "data": {
      "text/plain": [
       "2304"
      ]
     },
     "execution_count": 7,
     "metadata": {},
     "output_type": "execute_result"
    }
   ],
   "source": [
    "import math\n",
    "\n",
    "def my_sq_prod(number_list):\n",
    "    return_list = [num ** 2 for num in number_list]\n",
    "    return math.prod(return_list)\n",
    "my_sq_prod([2,4,6])"
   ]
  },
  {
   "cell_type": "code",
   "execution_count": 15,
   "id": "21f1332b",
   "metadata": {},
   "outputs": [],
   "source": [
    "import numpy as np\n",
    "\n",
    "def my_sq_prod3(ndarray):\n",
    "    squared = ndarray ** 2  # 각 element 제곱\n",
    "    product = np.prod(squared, axis=None)  # 제곱값 곱하기\n",
    "    return product\n",
    "\n"
   ]
  },
  {
   "cell_type": "code",
   "execution_count": 18,
   "id": "f85769bc",
   "metadata": {},
   "outputs": [],
   "source": [
    "test_array = np.array([4, 5, 6])\n",
    "assert my_sq_prod3(test_array) == 14400 # 정상일때, 아무 반응 없고 다른것을 넣으면 에러가 발생"
   ]
  },
  {
   "cell_type": "code",
   "execution_count": 20,
   "id": "738675ac",
   "metadata": {},
   "outputs": [
    {
     "name": "stdout",
     "output_type": "stream",
     "text": [
      "30\n"
     ]
    }
   ],
   "source": [
    "def my_sq_prod(numbers):\n",
    "    return_value = 1\n",
    "    for number in numbers:\n",
    "        return_value *= number ** 2\n",
    "    return return_value\n",
    "\n",
    "def score_check():\n",
    "    score = 0\n",
    "    if my_sq_prod([1,2,3]) == 36:\n",
    "        score += 30\n",
    "    print(score)\n",
    "\n",
    "if __name__ == \"__main__\":\n",
    "    score_check()"
   ]
  },
  {
   "cell_type": "code",
   "execution_count": null,
   "id": "88993341",
   "metadata": {},
   "outputs": [],
   "source": [
    "score_check()"
   ]
  }
 ],
 "metadata": {
  "kernelspec": {
   "display_name": "Python 3 (ipykernel)",
   "language": "python",
   "name": "python3"
  },
  "language_info": {
   "codemirror_mode": {
    "name": "ipython",
    "version": 3
   },
   "file_extension": ".py",
   "mimetype": "text/x-python",
   "name": "python",
   "nbconvert_exporter": "python",
   "pygments_lexer": "ipython3",
   "version": "3.10.9"
  }
 },
 "nbformat": 4,
 "nbformat_minor": 5
}
