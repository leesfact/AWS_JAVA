{
 "cells": [
  {
   "cell_type": "code",
   "execution_count": 1,
   "id": "3606678b",
   "metadata": {},
   "outputs": [
    {
     "name": "stdout",
     "output_type": "stream",
     "text": [
      "30\n"
     ]
    }
   ],
   "source": [
    "def my_sq_prod(numbers):\n",
    "    return_value = 1\n",
    "    for number in numbers:\n",
    "        return_value *= number ** 2\n",
    "    return return_value\n",
    "\n",
    "def score_check():\n",
    "    score = 0\n",
    "    if my_sq_prod([1,2,3]) == 36:\n",
    "        score += 30\n",
    "    print(score)\n",
    "\n",
    "if __name__ == \"__main__\":\n",
    "    score_check()"
   ]
  }
 ],
 "metadata": {
  "kernelspec": {
   "display_name": "Python 3 (ipykernel)",
   "language": "python",
   "name": "python3"
  },
  "language_info": {
   "codemirror_mode": {
    "name": "ipython",
    "version": 3
   },
   "file_extension": ".py",
   "mimetype": "text/x-python",
   "name": "python",
   "nbconvert_exporter": "python",
   "pygments_lexer": "ipython3",
   "version": "3.10.9"
  }
 },
 "nbformat": 4,
 "nbformat_minor": 5
}
