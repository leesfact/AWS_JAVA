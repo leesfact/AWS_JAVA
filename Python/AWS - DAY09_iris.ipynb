{
 "cells": [
  {
   "cell_type": "code",
   "execution_count": 79,
   "id": "bb409f38",
   "metadata": {},
   "outputs": [],
   "source": [
    "import requests\n",
    "import numpy as np\n",
    "\n",
    "x = requests.get('https://archive.ics.uci.edu/ml/machine-learning-databases/iris/iris.data')\n"
   ]
  },
  {
   "cell_type": "code",
   "execution_count": 80,
   "id": "9f4a4e40",
   "metadata": {},
   "outputs": [],
   "source": [
    "raw_data = []\n",
    "for line in x.text.split('\\n'):\n",
    "    raw_data.append(line.split(','))\n",
    "\n",
    "#print(raw_data)\n",
    "    \n",
    "    for sample in raw_data:\n",
    "        if len(sample) < 1: # 빈줄 방지 \n",
    "            continue\n",
    "        for i, value in enumerate(sample[:4]):\n",
    "            try:\n",
    "                sample[i] = float(value)\n",
    "            except:\n",
    "                sample[i] = 0.0\n",
    "                "
   ]
  },
  {
   "cell_type": "code",
   "execution_count": 81,
   "id": "0a5b7dd0",
   "metadata": {},
   "outputs": [
    {
     "name": "stdout",
     "output_type": "stream",
     "text": [
      "[[5.1, 3.5, 1.4, 0.2, 'Iris-setosa'], [4.9, 3.0, 1.4, 0.2, 'Iris-setosa'], [4.7, 3.2, 1.3, 0.2, 'Iris-setosa'], [4.6, 3.1, 1.5, 0.2, 'Iris-setosa'], [5.0, 3.6, 1.4, 0.2, 'Iris-setosa'], [5.4, 3.9, 1.7, 0.4, 'Iris-setosa'], [4.6, 3.4, 1.4, 0.3, 'Iris-setosa'], [5.0, 3.4, 1.5, 0.2, 'Iris-setosa'], [4.4, 2.9, 1.4, 0.2, 'Iris-setosa'], [4.9, 3.1, 1.5, 0.1, 'Iris-setosa'], [5.4, 3.7, 1.5, 0.2, 'Iris-setosa'], [4.8, 3.4, 1.6, 0.2, 'Iris-setosa'], [4.8, 3.0, 1.4, 0.1, 'Iris-setosa'], [4.3, 3.0, 1.1, 0.1, 'Iris-setosa'], [5.8, 4.0, 1.2, 0.2, 'Iris-setosa'], [5.7, 4.4, 1.5, 0.4, 'Iris-setosa'], [5.4, 3.9, 1.3, 0.4, 'Iris-setosa'], [5.1, 3.5, 1.4, 0.3, 'Iris-setosa'], [5.7, 3.8, 1.7, 0.3, 'Iris-setosa'], [5.1, 3.8, 1.5, 0.3, 'Iris-setosa']]\n"
     ]
    }
   ],
   "source": [
    "print(raw_data[:20])"
   ]
  },
  {
   "cell_type": "markdown",
   "id": "185869b0",
   "metadata": {},
   "source": [
    " ### 문자열 -> 숫자\n",
    "- Iris Setosa -> 0\n",
    "- Iris Versicolour -> 1\n",
    "- Iris Virginica -> 2\n",
    "np_data = np.array(raw_data)"
   ]
  },
  {
   "cell_type": "code",
   "execution_count": 82,
   "id": "e27122b7",
   "metadata": {},
   "outputs": [],
   "source": [
    "for sample in raw_data:\n",
    "    if len(sample)<2:  # 빈줄 방지 \n",
    "        continue\n",
    "    if 'setosa' in  sample[-1] :\n",
    "        sample[-1] = 0.0\n",
    "    elif 'versicolor' in sample[-1]:\n",
    "        sample[-1] = 1.0\n",
    "    elif 'virginica' in sample[-1]:\n",
    "        sample[-1] = 2.0\n",
    "        \n",
    "        "
   ]
  },
  {
   "cell_type": "code",
   "execution_count": 83,
   "id": "1c64a723",
   "metadata": {},
   "outputs": [
    {
     "name": "stdout",
     "output_type": "stream",
     "text": [
      "[5.1, 3.5, 1.4, 0.2, 0.0]\n",
      "[6.4, 3.2, 4.5, 1.5, 1.0]\n",
      "[5.8, 2.7, 5.1, 1.9, 2.0]\n"
     ]
    }
   ],
   "source": [
    "print(raw_data[0])\n",
    "print(raw_data[51])\n",
    "print(raw_data[101])\n",
    "\n"
   ]
  },
  {
   "cell_type": "code",
   "execution_count": 85,
   "id": "d66d169a",
   "metadata": {},
   "outputs": [
    {
     "name": "stdout",
     "output_type": "stream",
     "text": [
      "[[5.9, 3.0, 5.1, 1.8, 2.0], [0.0], [0.0]]\n",
      "152\n"
     ]
    }
   ],
   "source": [
    "print(raw_data[-3:])\n",
    "print(len(raw_data))\n",
    "raw_data = raw_data[:150]\n"
   ]
  },
  {
   "cell_type": "code",
   "execution_count": 86,
   "id": "430bc50d",
   "metadata": {},
   "outputs": [
    {
     "name": "stdout",
     "output_type": "stream",
     "text": [
      "150\n"
     ]
    }
   ],
   "source": [
    "print(len(raw_data))\n"
   ]
  },
  {
   "cell_type": "code",
   "execution_count": 88,
   "id": "9eb2d946",
   "metadata": {},
   "outputs": [
    {
     "data": {
      "text/plain": [
       "array([[5.1, 3.5, 1.4, 0.2, 0. ],\n",
       "       [4.9, 3. , 1.4, 0.2, 0. ],\n",
       "       [4.7, 3.2, 1.3, 0.2, 0. ]])"
      ]
     },
     "execution_count": 88,
     "metadata": {},
     "output_type": "execute_result"
    }
   ],
   "source": [
    "np_data = np.array(raw_data)\n",
    "np_data.shape\n",
    "np_data[:3]"
   ]
  },
  {
   "cell_type": "markdown",
   "id": "4b722b2a",
   "metadata": {},
   "source": [
    "### 기본 통계값\n",
    "- 전체(150샘플) 평균, 표준편차 -sepal length, sepal width, petal length, petal width \n",
    "- 품종별(50개씩) 품종별 평균, 표준편차\n",
    "- 평균 np.mean()\n",
    "- 표준편차 np.std()"
   ]
  },
  {
   "cell_type": "code",
   "execution_count": 125,
   "id": "c86d8302",
   "metadata": {},
   "outputs": [
    {
     "name": "stdout",
     "output_type": "stream",
     "text": [
      "[5.84333333 3.054      3.75866667 1.19866667 1.        ]\n",
      "[0.82530129 0.43214658 1.75852918 0.76061262 0.81649658]\n",
      "[[ 1.         -0.10936925  0.87175416  0.81795363  0.78256123]\n",
      " [-0.10936925  1.         -0.4205161  -0.35654409 -0.4194462 ]\n",
      " [ 0.87175416 -0.4205161   1.          0.9627571   0.94904254]\n",
      " [ 0.81795363 -0.35654409  0.9627571   1.          0.95646382]\n",
      " [ 0.78256123 -0.4194462   0.94904254  0.95646382  1.        ]]\n"
     ]
    }
   ],
   "source": [
    "#print(np_data.shape) #150, 5\n",
    "#print(np_data.sum(axis=0))\n",
    "print(np_data.mean(axis = 0))\n",
    "print(np_data.std(axis = 0))\n",
    "\n",
    "print(np.corrcoef(np_data.T)) #상관도"
   ]
  },
  {
   "cell_type": "code",
   "execution_count": 126,
   "id": "cfe0d974",
   "metadata": {},
   "outputs": [
    {
     "name": "stdout",
     "output_type": "stream",
     "text": [
      "[5.006 3.418 1.464 0.244 0.   ]\n",
      "[0.34894699 0.37719491 0.17176728 0.10613199 0.        ]\n",
      "[5.936 2.77  4.26  1.326 1.   ]\n",
      "[0.51098337 0.31064449 0.46518813 0.19576517 0.        ]\n",
      "[5.936 2.77  4.26  1.326 1.   ]\n",
      "[0.51098337 0.31064449 0.46518813 0.19576517 0.        ]\n"
     ]
    }
   ],
   "source": [
    "#print(np_data.shape)\n",
    "\n",
    "#print(np_data)\n",
    "n1 = []\n",
    "n2 = []\n",
    "n3 = []\n",
    "\n",
    "\n",
    "n1 = np_data[:50]\n",
    "#print(len(n1))\n",
    "print(n1.mean(axis = 0))\n",
    "print(n1.std(axis = 0))\n",
    "\n",
    "n2 = np_data[50:100]\n",
    "#print(len(n2))\n",
    "print(n2.mean(axis = 0))\n",
    "print(n2.std(axis = 0))\n",
    "\n",
    "n3 = np_data[100:150]\n",
    "#print(len(n3))\n",
    "print(n2.mean(axis = 0))\n",
    "print(n2.std(axis = 0))\n"
   ]
  },
  {
   "cell_type": "code",
   "execution_count": 129,
   "id": "82e8d362",
   "metadata": {},
   "outputs": [
    {
     "name": "stdout",
     "output_type": "stream",
     "text": [
      "[5.006 3.418 1.464 0.244 0.   ]\n",
      "[0.34894699 0.37719491 0.17176728 0.10613199 0.        ]\n",
      "setosa [5.006 3.418 1.464 0.244 0.   ]\n",
      "setosa [0.34894699 0.37719491 0.17176728 0.10613199 0.        ]\n",
      "versicolor [5.936 2.77  4.26  1.326 1.   ]\n",
      "versicolor [0.51098337 0.31064449 0.46518813 0.19576517 0.        ]\n",
      "virginica [6.588 2.974 5.552 2.026 2.   ]\n",
      "virginica [0.62948868 0.31925538 0.54634787 0.27188968 0.        ]\n"
     ]
    }
   ],
   "source": [
    "filter_setosa = np_data[:,-1] == 0.0\n",
    "filter_versicolor = np_data[:,-1] == 1.0 \n",
    "filter_virginica =np_data[:,-1] == 2.0\n",
    "\n",
    "print(np.mean(np_data[filter_setosa], axis = 0))\n",
    "print(np.std(np_data[filter_setosa], axis = 0))\n",
    "\n",
    "names = ['setosa', 'versicolor', 'virginica']\n",
    "\n",
    "for i in range(3):\n",
    "    filter = np_data[:,-1]==float(i)\n",
    "    print(names[i], np.mean(np_data[filter], axis = 0))\n",
    "    print(names[i], np.std(np_data[filter], axis = 0))\n",
    "    "
   ]
  }
 ],
 "metadata": {
  "kernelspec": {
   "display_name": "Python 3 (ipykernel)",
   "language": "python",
   "name": "python3"
  },
  "language_info": {
   "codemirror_mode": {
    "name": "ipython",
    "version": 3
   },
   "file_extension": ".py",
   "mimetype": "text/x-python",
   "name": "python",
   "nbconvert_exporter": "python",
   "pygments_lexer": "ipython3",
   "version": "3.10.9"
  }
 },
 "nbformat": 4,
 "nbformat_minor": 5
}
